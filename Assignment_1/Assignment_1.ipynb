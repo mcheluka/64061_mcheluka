{
  "cells": [
    {
      "cell_type": "markdown",
      "metadata": {
        "id": "67GtRZm7D7CP"
      },
      "source": [
        "**Assignment-1**\n",
        "**Classifying IMDB Movie Reviews:Using Neural Networks**"
      ]
    },
    {
      "cell_type": "markdown",
      "metadata": {
        "id": "CkUT20tYERP2"
      },
      "source": [
        "The \"IMDB dataset\" will be used in this assignment, and the goal is to classify movie reviews as positive or negative. The Internet Movie Database provided 50,000 highly polarized reviews for this dataset. They are divided into 25,000 reviews for training and 25,000 reviews for testing, with each set consisting of 50 percent negative and 50 percent positive feedback."
      ]
    },
    {
      "cell_type": "code",
      "execution_count": 85,
      "metadata": {
        "id": "JtK_amw4xtWz"
      },
      "outputs": [],
      "source": [
        "from numpy.random import seed\n",
        "seed(123)\n",
        "from tensorflow.keras.datasets import imdb\n",
        "(train_data, train_labels), (test_data, test_labels) = imdb.load_data(\n",
        "    num_words=10000)"
      ]
    },
    {
      "cell_type": "markdown",
      "metadata": {
        "id": "yZ1zwyndVkqy"
      },
      "source": [
        "In the code, \"num_words=10000\" is added.In order to have a more manageable data size, we will only use the top 10,000 most common words"
      ]
    },
    {
      "cell_type": "markdown",
      "metadata": {
        "id": "xB6aZoSxVqHc"
      },
      "source": [
        "**Train Dataset**"
      ]
    },
    {
      "cell_type": "code",
      "execution_count": 86,
      "metadata": {
        "colab": {
          "base_uri": "https://localhost:8080/"
        },
        "id": "p5oDloCgx5Fx",
        "outputId": "835c6b74-6b2e-4136-c074-8bd6ba0b869a"
      },
      "outputs": [
        {
          "output_type": "execute_result",
          "data": {
            "text/plain": [
              "array([list([1, 14, 22, 16, 43, 530, 973, 1622, 1385, 65, 458, 4468, 66, 3941, 4, 173, 36, 256, 5, 25, 100, 43, 838, 112, 50, 670, 2, 9, 35, 480, 284, 5, 150, 4, 172, 112, 167, 2, 336, 385, 39, 4, 172, 4536, 1111, 17, 546, 38, 13, 447, 4, 192, 50, 16, 6, 147, 2025, 19, 14, 22, 4, 1920, 4613, 469, 4, 22, 71, 87, 12, 16, 43, 530, 38, 76, 15, 13, 1247, 4, 22, 17, 515, 17, 12, 16, 626, 18, 2, 5, 62, 386, 12, 8, 316, 8, 106, 5, 4, 2223, 5244, 16, 480, 66, 3785, 33, 4, 130, 12, 16, 38, 619, 5, 25, 124, 51, 36, 135, 48, 25, 1415, 33, 6, 22, 12, 215, 28, 77, 52, 5, 14, 407, 16, 82, 2, 8, 4, 107, 117, 5952, 15, 256, 4, 2, 7, 3766, 5, 723, 36, 71, 43, 530, 476, 26, 400, 317, 46, 7, 4, 2, 1029, 13, 104, 88, 4, 381, 15, 297, 98, 32, 2071, 56, 26, 141, 6, 194, 7486, 18, 4, 226, 22, 21, 134, 476, 26, 480, 5, 144, 30, 5535, 18, 51, 36, 28, 224, 92, 25, 104, 4, 226, 65, 16, 38, 1334, 88, 12, 16, 283, 5, 16, 4472, 113, 103, 32, 15, 16, 5345, 19, 178, 32]),\n",
              "       list([1, 194, 1153, 194, 8255, 78, 228, 5, 6, 1463, 4369, 5012, 134, 26, 4, 715, 8, 118, 1634, 14, 394, 20, 13, 119, 954, 189, 102, 5, 207, 110, 3103, 21, 14, 69, 188, 8, 30, 23, 7, 4, 249, 126, 93, 4, 114, 9, 2300, 1523, 5, 647, 4, 116, 9, 35, 8163, 4, 229, 9, 340, 1322, 4, 118, 9, 4, 130, 4901, 19, 4, 1002, 5, 89, 29, 952, 46, 37, 4, 455, 9, 45, 43, 38, 1543, 1905, 398, 4, 1649, 26, 6853, 5, 163, 11, 3215, 2, 4, 1153, 9, 194, 775, 7, 8255, 2, 349, 2637, 148, 605, 2, 8003, 15, 123, 125, 68, 2, 6853, 15, 349, 165, 4362, 98, 5, 4, 228, 9, 43, 2, 1157, 15, 299, 120, 5, 120, 174, 11, 220, 175, 136, 50, 9, 4373, 228, 8255, 5, 2, 656, 245, 2350, 5, 4, 9837, 131, 152, 491, 18, 2, 32, 7464, 1212, 14, 9, 6, 371, 78, 22, 625, 64, 1382, 9, 8, 168, 145, 23, 4, 1690, 15, 16, 4, 1355, 5, 28, 6, 52, 154, 462, 33, 89, 78, 285, 16, 145, 95]),\n",
              "       list([1, 14, 47, 8, 30, 31, 7, 4, 249, 108, 7, 4, 5974, 54, 61, 369, 13, 71, 149, 14, 22, 112, 4, 2401, 311, 12, 16, 3711, 33, 75, 43, 1829, 296, 4, 86, 320, 35, 534, 19, 263, 4821, 1301, 4, 1873, 33, 89, 78, 12, 66, 16, 4, 360, 7, 4, 58, 316, 334, 11, 4, 1716, 43, 645, 662, 8, 257, 85, 1200, 42, 1228, 2578, 83, 68, 3912, 15, 36, 165, 1539, 278, 36, 69, 2, 780, 8, 106, 14, 6905, 1338, 18, 6, 22, 12, 215, 28, 610, 40, 6, 87, 326, 23, 2300, 21, 23, 22, 12, 272, 40, 57, 31, 11, 4, 22, 47, 6, 2307, 51, 9, 170, 23, 595, 116, 595, 1352, 13, 191, 79, 638, 89, 2, 14, 9, 8, 106, 607, 624, 35, 534, 6, 227, 7, 129, 113]),\n",
              "       ...,\n",
              "       list([1, 11, 6, 230, 245, 6401, 9, 6, 1225, 446, 2, 45, 2174, 84, 8322, 4007, 21, 4, 912, 84, 2, 325, 725, 134, 2, 1715, 84, 5, 36, 28, 57, 1099, 21, 8, 140, 8, 703, 5, 2, 84, 56, 18, 1644, 14, 9, 31, 7, 4, 9406, 1209, 2295, 2, 1008, 18, 6, 20, 207, 110, 563, 12, 8, 2901, 2, 8, 97, 6, 20, 53, 4767, 74, 4, 460, 364, 1273, 29, 270, 11, 960, 108, 45, 40, 29, 2961, 395, 11, 6, 4065, 500, 7, 2, 89, 364, 70, 29, 140, 4, 64, 4780, 11, 4, 2678, 26, 178, 4, 529, 443, 2, 5, 27, 710, 117, 2, 8123, 165, 47, 84, 37, 131, 818, 14, 595, 10, 10, 61, 1242, 1209, 10, 10, 288, 2260, 1702, 34, 2901, 2, 4, 65, 496, 4, 231, 7, 790, 5, 6, 320, 234, 2766, 234, 1119, 1574, 7, 496, 4, 139, 929, 2901, 2, 7750, 5, 4241, 18, 4, 8497, 2, 250, 11, 1818, 7561, 4, 4217, 5408, 747, 1115, 372, 1890, 1006, 541, 9303, 7, 4, 59, 2, 4, 3586, 2]),\n",
              "       list([1, 1446, 7079, 69, 72, 3305, 13, 610, 930, 8, 12, 582, 23, 5, 16, 484, 685, 54, 349, 11, 4120, 2959, 45, 58, 1466, 13, 197, 12, 16, 43, 23, 2, 5, 62, 30, 145, 402, 11, 4131, 51, 575, 32, 61, 369, 71, 66, 770, 12, 1054, 75, 100, 2198, 8, 4, 105, 37, 69, 147, 712, 75, 3543, 44, 257, 390, 5, 69, 263, 514, 105, 50, 286, 1814, 23, 4, 123, 13, 161, 40, 5, 421, 4, 116, 16, 897, 13, 2, 40, 319, 5872, 112, 6700, 11, 4803, 121, 25, 70, 3468, 4, 719, 3798, 13, 18, 31, 62, 40, 8, 7200, 4, 2, 7, 14, 123, 5, 942, 25, 8, 721, 12, 145, 5, 202, 12, 160, 580, 202, 12, 6, 52, 58, 2, 92, 401, 728, 12, 39, 14, 251, 8, 15, 251, 5, 2, 12, 38, 84, 80, 124, 12, 9, 23]),\n",
              "       list([1, 17, 6, 194, 337, 7, 4, 204, 22, 45, 254, 8, 106, 14, 123, 4, 2, 270, 2, 5, 2, 2, 732, 2098, 101, 405, 39, 14, 1034, 4, 1310, 9, 115, 50, 305, 12, 47, 4, 168, 5, 235, 7, 38, 111, 699, 102, 7, 4, 4039, 9245, 9, 24, 6, 78, 1099, 17, 2345, 2, 21, 27, 9685, 6139, 5, 2, 1603, 92, 1183, 4, 1310, 7, 4, 204, 42, 97, 90, 35, 221, 109, 29, 127, 27, 118, 8, 97, 12, 157, 21, 6789, 2, 9, 6, 66, 78, 1099, 4, 631, 1191, 5, 2642, 272, 191, 1070, 6, 7585, 8, 2197, 2, 2, 544, 5, 383, 1271, 848, 1468, 2, 497, 2, 8, 1597, 8778, 2, 21, 60, 27, 239, 9, 43, 8368, 209, 405, 10, 10, 12, 764, 40, 4, 248, 20, 12, 16, 5, 174, 1791, 72, 7, 51, 6, 1739, 22, 4, 204, 131, 9])],\n",
              "      dtype=object)"
            ]
          },
          "metadata": {},
          "execution_count": 86
        }
      ],
      "source": [
        "train_data\n",
        "\n"
      ]
    },
    {
      "cell_type": "code",
      "execution_count": 87,
      "metadata": {
        "colab": {
          "base_uri": "https://localhost:8080/"
        },
        "id": "uJbwp0fCGudH",
        "outputId": "f8a2946e-161e-4b51-fa12-76bb96cbfb49"
      },
      "outputs": [
        {
          "output_type": "execute_result",
          "data": {
            "text/plain": [
              "1"
            ]
          },
          "metadata": {},
          "execution_count": 87
        }
      ],
      "source": [
        "train_labels[0]"
      ]
    },
    {
      "cell_type": "code",
      "source": [
        "len(train_labels)"
      ],
      "metadata": {
        "colab": {
          "base_uri": "https://localhost:8080/"
        },
        "id": "Zkz98j_hhG6p",
        "outputId": "e17552ca-f0ea-4263-c04b-23d40236f3f4"
      },
      "execution_count": 88,
      "outputs": [
        {
          "output_type": "execute_result",
          "data": {
            "text/plain": [
              "25000"
            ]
          },
          "metadata": {},
          "execution_count": 88
        }
      ]
    },
    {
      "cell_type": "code",
      "execution_count": 89,
      "metadata": {
        "colab": {
          "base_uri": "https://localhost:8080/"
        },
        "id": "optwTMTKGvVM",
        "outputId": "36cc1a2a-cb02-4bf1-9b2e-77ca11408c6e"
      },
      "outputs": [
        {
          "output_type": "execute_result",
          "data": {
            "text/plain": [
              "9999"
            ]
          },
          "metadata": {},
          "execution_count": 89
        }
      ],
      "source": [
        "max([max(sequence) for sequence in train_data])"
      ]
    },
    {
      "cell_type": "markdown",
      "metadata": {
        "id": "SrUgdZvJVzzF"
      },
      "source": [
        "**Test Dataset**"
      ]
    },
    {
      "cell_type": "code",
      "execution_count": 90,
      "metadata": {
        "colab": {
          "base_uri": "https://localhost:8080/"
        },
        "id": "KWo1jr86V90m",
        "outputId": "72c89bfc-c79d-4138-8b8c-b53bd432c729"
      },
      "outputs": [
        {
          "output_type": "execute_result",
          "data": {
            "text/plain": [
              "array([list([1, 591, 202, 14, 31, 6, 717, 10, 10, 2, 2, 5, 4, 360, 7, 4, 177, 5760, 394, 354, 4, 123, 9, 1035, 1035, 1035, 10, 10, 13, 92, 124, 89, 488, 7944, 100, 28, 1668, 14, 31, 23, 27, 7479, 29, 220, 468, 8, 124, 14, 286, 170, 8, 157, 46, 5, 27, 239, 16, 179, 2, 38, 32, 25, 7944, 451, 202, 14, 6, 717]),\n",
              "       list([1, 14, 22, 3443, 6, 176, 7, 5063, 88, 12, 2679, 23, 1310, 5, 109, 943, 4, 114, 9, 55, 606, 5, 111, 7, 4, 139, 193, 273, 23, 4, 172, 270, 11, 7216, 2, 4, 8463, 2801, 109, 1603, 21, 4, 22, 3861, 8, 6, 1193, 1330, 10, 10, 4, 105, 987, 35, 841, 2, 19, 861, 1074, 5, 1987, 2, 45, 55, 221, 15, 670, 5304, 526, 14, 1069, 4, 405, 5, 2438, 7, 27, 85, 108, 131, 4, 5045, 5304, 3884, 405, 9, 3523, 133, 5, 50, 13, 104, 51, 66, 166, 14, 22, 157, 9, 4, 530, 239, 34, 8463, 2801, 45, 407, 31, 7, 41, 3778, 105, 21, 59, 299, 12, 38, 950, 5, 4521, 15, 45, 629, 488, 2733, 127, 6, 52, 292, 17, 4, 6936, 185, 132, 1988, 5304, 1799, 488, 2693, 47, 6, 392, 173, 4, 2, 4378, 270, 2352, 4, 1500, 7, 4, 65, 55, 73, 11, 346, 14, 20, 9, 6, 976, 2078, 7, 5293, 861, 2, 5, 4182, 30, 3127, 2, 56, 4, 841, 5, 990, 692, 8, 4, 1669, 398, 229, 10, 10, 13, 2822, 670, 5304, 14, 9, 31, 7, 27, 111, 108, 15, 2033, 19, 7836, 1429, 875, 551, 14, 22, 9, 1193, 21, 45, 4829, 5, 45, 252, 8, 2, 6, 565, 921, 3639, 39, 4, 529, 48, 25, 181, 8, 67, 35, 1732, 22, 49, 238, 60, 135, 1162, 14, 9, 290, 4, 58, 10, 10, 472, 45, 55, 878, 8, 169, 11, 374, 5687, 25, 203, 28, 8, 818, 12, 125, 4, 3077]),\n",
              "       list([1, 111, 748, 4368, 1133, 2, 2, 4, 87, 1551, 1262, 7, 31, 318, 9459, 7, 4, 498, 5076, 748, 63, 29, 5161, 220, 686, 2, 5, 17, 12, 575, 220, 2507, 17, 6, 185, 132, 2, 16, 53, 928, 11, 2, 74, 4, 438, 21, 27, 2, 589, 8, 22, 107, 2, 2, 997, 1638, 8, 35, 2076, 9019, 11, 22, 231, 54, 29, 1706, 29, 100, 2, 2425, 34, 2, 8738, 2, 5, 2, 98, 31, 2122, 33, 6, 58, 14, 3808, 1638, 8, 4, 365, 7, 2789, 3761, 356, 346, 4, 2, 1060, 63, 29, 93, 11, 5421, 11, 2, 33, 6, 58, 54, 1270, 431, 748, 7, 32, 2580, 16, 11, 94, 2, 10, 10, 4, 993, 2, 7, 4, 1766, 2634, 2164, 2, 8, 847, 8, 1450, 121, 31, 7, 27, 86, 2663, 2, 16, 6, 465, 993, 2006, 2, 573, 17, 2, 42, 4, 2, 37, 473, 6, 711, 6, 8869, 7, 328, 212, 70, 30, 258, 11, 220, 32, 7, 108, 21, 133, 12, 9, 55, 465, 849, 3711, 53, 33, 2071, 1969, 37, 70, 1144, 4, 5940, 1409, 74, 476, 37, 62, 91, 1329, 169, 4, 1330, 2, 146, 655, 2212, 5, 258, 12, 184, 2, 546, 5, 849, 2, 7, 4, 22, 1436, 18, 631, 1386, 797, 7, 4, 8712, 71, 348, 425, 4320, 1061, 19, 2, 5, 2, 11, 661, 8, 339, 2, 4, 2455, 2, 7, 4, 1962, 10, 10, 263, 787, 9, 270, 11, 6, 9466, 4, 2, 2, 121, 4, 5437, 26, 4434, 19, 68, 1372, 5, 28, 446, 6, 318, 7149, 8, 67, 51, 36, 70, 81, 8, 4392, 2294, 36, 1197, 8, 2, 2, 18, 6, 711, 4, 9909, 26, 2, 1125, 11, 14, 636, 720, 12, 426, 28, 77, 776, 8, 97, 38, 111, 7489, 6175, 168, 1239, 5189, 137, 2, 18, 27, 173, 9, 2399, 17, 6, 2, 428, 2, 232, 11, 4, 8014, 37, 272, 40, 2708, 247, 30, 656, 6, 2, 54, 2, 3292, 98, 6, 2840, 40, 558, 37, 6093, 98, 4, 2, 1197, 15, 14, 9, 57, 4893, 5, 4659, 6, 275, 711, 7937, 2, 3292, 98, 6, 2, 10, 10, 6639, 19, 14, 2, 267, 162, 711, 37, 5900, 752, 98, 4, 2, 2378, 90, 19, 6, 2, 7, 2, 1810, 2, 4, 4770, 3183, 930, 8, 508, 90, 4, 1317, 8, 4, 2, 17, 2, 3965, 1853, 4, 1494, 8, 4468, 189, 4, 2, 6287, 5774, 4, 4770, 5, 95, 271, 23, 6, 7742, 6063, 2, 5437, 33, 1526, 6, 425, 3155, 2, 4535, 1636, 7, 4, 4669, 2, 469, 4, 4552, 54, 4, 150, 5664, 2, 280, 53, 2, 2, 18, 339, 29, 1978, 27, 7885, 5, 2, 68, 1830, 19, 6571, 2, 4, 1515, 7, 263, 65, 2132, 34, 6, 5680, 7489, 43, 159, 29, 9, 4706, 9, 387, 73, 195, 584, 10, 10, 1069, 4, 58, 810, 54, 14, 6078, 117, 22, 16, 93, 5, 1069, 4, 192, 15, 12, 16, 93, 34, 6, 1766, 2, 33, 4, 5673, 7, 15, 2, 9252, 3286, 325, 12, 62, 30, 776, 8, 67, 14, 17, 6, 2, 44, 148, 687, 2, 203, 42, 203, 24, 28, 69, 2, 6676, 11, 330, 54, 29, 93, 2, 21, 845, 2, 27, 1099, 7, 819, 4, 22, 1407, 17, 6, 2, 787, 7, 2460, 2, 2, 100, 30, 4, 3737, 3617, 3169, 2321, 42, 1898, 11, 4, 3814, 42, 101, 704, 7, 101, 999, 15, 1625, 94, 2926, 180, 5, 9, 9101, 34, 2, 45, 6, 1429, 22, 60, 6, 1220, 31, 11, 94, 6408, 96, 21, 94, 749, 9, 57, 975]),\n",
              "       ...,\n",
              "       list([1, 13, 1408, 15, 8, 135, 14, 9, 35, 32, 46, 394, 20, 62, 30, 5093, 21, 45, 184, 78, 4, 1492, 910, 769, 2290, 2515, 395, 4257, 5, 1454, 11, 119, 2, 89, 1036, 4, 116, 218, 78, 21, 407, 100, 30, 128, 262, 15, 7, 185, 2280, 284, 1842, 2, 37, 315, 4, 226, 20, 272, 2942, 40, 29, 152, 60, 181, 8, 30, 50, 553, 362, 80, 119, 12, 21, 846, 5518]),\n",
              "       list([1, 11, 119, 241, 9, 4, 840, 20, 12, 468, 15, 94, 3684, 562, 791, 39, 4, 86, 107, 8, 97, 14, 31, 33, 4, 2960, 7, 743, 46, 1028, 9, 3531, 5, 4, 768, 47, 8, 79, 90, 145, 164, 162, 50, 6, 501, 119, 7, 9, 4, 78, 232, 15, 16, 224, 11, 4, 333, 20, 4, 985, 200, 5, 2, 5, 9, 1861, 8, 79, 357, 4, 20, 47, 220, 57, 206, 139, 11, 12, 5, 55, 117, 212, 13, 1276, 92, 124, 51, 45, 1188, 71, 536, 13, 520, 14, 20, 6, 2302, 7, 470]),\n",
              "       list([1, 6, 52, 7465, 430, 22, 9, 220, 2594, 8, 28, 2, 519, 3227, 6, 769, 15, 47, 6, 3482, 4067, 8, 114, 5, 33, 222, 31, 55, 184, 704, 5586, 2, 19, 346, 3153, 5, 6, 364, 350, 4, 184, 5586, 9, 133, 1810, 11, 5417, 2, 21, 4, 7298, 2, 570, 50, 2005, 2643, 9, 6, 1249, 17, 6, 2, 2, 21, 17, 6, 1211, 232, 1138, 2249, 29, 266, 56, 96, 346, 194, 308, 9, 194, 21, 29, 218, 1078, 19, 4, 78, 173, 7, 27, 2, 5698, 3406, 718, 2, 9, 6, 6907, 17, 210, 5, 3281, 5677, 47, 77, 395, 14, 172, 173, 18, 2740, 2931, 4517, 82, 127, 27, 173, 11, 6, 392, 217, 21, 50, 9, 57, 65, 12, 2, 53, 40, 35, 390, 7, 11, 4, 3567, 7, 4, 314, 74, 6, 792, 22, 2, 19, 714, 727, 5205, 382, 4, 91, 6533, 439, 19, 14, 20, 9, 1441, 5805, 1118, 4, 756, 25, 124, 4, 31, 12, 16, 93, 804, 34, 2005, 2643])],\n",
              "      dtype=object)"
            ]
          },
          "metadata": {},
          "execution_count": 90
        }
      ],
      "source": [
        "test_data"
      ]
    },
    {
      "cell_type": "code",
      "execution_count": 91,
      "metadata": {
        "colab": {
          "base_uri": "https://localhost:8080/"
        },
        "id": "JQLWlsisV5dl",
        "outputId": "6b27b170-6608-4556-dc12-7a95145a6b52"
      },
      "outputs": [
        {
          "output_type": "execute_result",
          "data": {
            "text/plain": [
              "0"
            ]
          },
          "metadata": {},
          "execution_count": 91
        }
      ],
      "source": [
        "test_labels[0]"
      ]
    },
    {
      "cell_type": "code",
      "execution_count": 92,
      "metadata": {
        "colab": {
          "base_uri": "https://localhost:8080/"
        },
        "id": "W5o8aHfAWGCA",
        "outputId": "cd1d4da9-17b0-4b65-9669-353aeb1180e8"
      },
      "outputs": [
        {
          "output_type": "execute_result",
          "data": {
            "text/plain": [
              "9999"
            ]
          },
          "metadata": {},
          "execution_count": 92
        }
      ],
      "source": [
        "max([max(sequence) for sequence in test_data])"
      ]
    },
    {
      "cell_type": "markdown",
      "metadata": {
        "id": "q51rlu-JWNg1"
      },
      "source": [
        "In train_data and test_data, we have lists of reviews, where each review contains word indices (encoding words).Test_labels and train_labels are lists of 0s and 1s, where 0 represents \"negative\" and 1 represents \"positive.\""
      ]
    },
    {
      "cell_type": "markdown",
      "metadata": {
        "id": "HEdVJck2x_U0"
      },
      "source": [
        "**Decoding reviews back to text**\n",
        "\n"
      ]
    },
    {
      "cell_type": "markdown",
      "metadata": {
        "id": "WGglwjApWW0j"
      },
      "source": [
        "Here, in this section we can see that integers can be decoded to reviews(Words)"
      ]
    },
    {
      "cell_type": "code",
      "execution_count": 93,
      "metadata": {
        "id": "Np05alN_x72r"
      },
      "outputs": [],
      "source": [
        "word_index = imdb.get_word_index()\n",
        "reverse_word_index = dict(\n",
        "    [(value, key) for (key, value) in word_index.items()])\n",
        "decoded_review = \" \".join(\n",
        "    [reverse_word_index.get(i - 3, \"?\") for i in train_data[0]])"
      ]
    },
    {
      "cell_type": "code",
      "execution_count": 94,
      "metadata": {
        "colab": {
          "base_uri": "https://localhost:8080/",
          "height": 123
        },
        "id": "atuFj6XYWvAk",
        "outputId": "fd683197-506f-41dd-95f2-d9a833513ee6"
      },
      "outputs": [
        {
          "output_type": "execute_result",
          "data": {
            "text/plain": [
              "\"? this film was just brilliant casting location scenery story direction everyone's really suited the part they played and you could just imagine being there robert ? is an amazing actor and now the same being director ? father came from the same scottish island as myself so i loved the fact there was a real connection with this film the witty remarks throughout the film were great it was just brilliant so much that i bought the film as soon as it was released for ? and would recommend it to everyone to watch and the fly fishing was amazing really cried at the end it was so sad and you know what they say if you cry at a film it must have been good and this definitely was also ? to the two little boy's that played the ? of norman and paul they were just brilliant children are often left out of the ? list i think because the stars that play them all grown up are such a big profile for the whole film but these children are amazing and should be praised for what they have done don't you think the whole story was so lovely because it was true and was someone's life after all that was shared with us all\""
            ],
            "application/vnd.google.colaboratory.intrinsic+json": {
              "type": "string"
            }
          },
          "metadata": {},
          "execution_count": 94
        }
      ],
      "source": [
        "decoded_review"
      ]
    },
    {
      "cell_type": "markdown",
      "metadata": {
        "id": "OkGFccW7Wz3Y"
      },
      "source": [
        "**Data Preparation**"
      ]
    },
    {
      "cell_type": "markdown",
      "metadata": {
        "id": "CFjy3322W3ws"
      },
      "source": [
        "We have to change our reviews from characters into tensors.\n",
        "Using one-hot encoding, we could convert our lists into vectors of 0s and 1s.For instance, this would mean transforming the sequence [3, 5] into a 10,000-dimensional vector in which all indices are zeros except for three and five, which are ones.Then we could use a Dense layer as the first layer in our network, capable of handling floating point vectors\n",
        "The dataset is vectorized here by Create an all-zero matrix of shape (len(sequences), dimension)."
      ]
    },
    {
      "cell_type": "code",
      "execution_count": 95,
      "metadata": {
        "id": "Upm4spiLyFXY"
      },
      "outputs": [],
      "source": [
        "import numpy as np\n",
        "def vectorize_sequences(sequences, dimension=10000):\n",
        "    results = np.zeros((len(sequences), dimension))\n",
        "    for i, sequence in enumerate(sequences):\n",
        "        for j in sequence:\n",
        "            results[i, j] = 1.\n",
        "    return results"
      ]
    },
    {
      "cell_type": "markdown",
      "source": [
        "Data Vectorization"
      ],
      "metadata": {
        "id": "M6UIeCa5ieiM"
      }
    },
    {
      "cell_type": "code",
      "execution_count": 96,
      "metadata": {
        "id": "j8gguYHNyIl0"
      },
      "outputs": [],
      "source": [
        "x_train = vectorize_sequences(train_data)\n",
        "x_test = vectorize_sequences(test_data)\n"
      ]
    },
    {
      "cell_type": "code",
      "execution_count": 97,
      "metadata": {
        "colab": {
          "base_uri": "https://localhost:8080/"
        },
        "id": "02_rtyQXXXw_",
        "outputId": "236ce4f8-319f-43c8-97fb-0d9f367d09a6"
      },
      "outputs": [
        {
          "output_type": "execute_result",
          "data": {
            "text/plain": [
              "array([0., 1., 1., ..., 0., 0., 0.])"
            ]
          },
          "metadata": {},
          "execution_count": 97
        }
      ],
      "source": [
        "x_train[0]"
      ]
    },
    {
      "cell_type": "code",
      "execution_count": 98,
      "metadata": {
        "colab": {
          "base_uri": "https://localhost:8080/"
        },
        "id": "9dL6Bqu4Xe1Z",
        "outputId": "e08d54e3-9dd2-4fd1-f40e-2c1231d1fd00"
      },
      "outputs": [
        {
          "output_type": "execute_result",
          "data": {
            "text/plain": [
              "array([0., 1., 1., ..., 0., 0., 0.])"
            ]
          },
          "metadata": {},
          "execution_count": 98
        }
      ],
      "source": [
        "x_test[0]"
      ]
    },
    {
      "cell_type": "markdown",
      "metadata": {
        "id": "SQ8xFAGXXPxK"
      },
      "source": [
        "Label Vectorization"
      ]
    },
    {
      "cell_type": "code",
      "execution_count": 99,
      "metadata": {
        "id": "HpZjscUoXL3N"
      },
      "outputs": [],
      "source": [
        "y_train = np.asarray(train_labels).astype(\"float32\")\n",
        "y_test = np.asarray(test_labels).astype(\"float32\")"
      ]
    },
    {
      "cell_type": "markdown",
      "metadata": {
        "id": "h6zsZDa0Xl_e"
      },
      "source": [
        "**Neural Network with 2-Hidden Layers**"
      ]
    },
    {
      "cell_type": "markdown",
      "metadata": {
        "id": "5yKKBGC9Xwp3"
      },
      "source": [
        "**Building Model using Relu function**\n",
        "\n",
        "Now we have 2D tensors of shape to represent our input data (samples, 10,000).In our case, the output is a scalar, either 0 or 1.With these types of problems, fully connected layers (layes.dense) with relu activation functions work well."
      ]
    },
    {
      "cell_type": "code",
      "execution_count": 100,
      "metadata": {
        "id": "kazJfPxayLHg"
      },
      "outputs": [],
      "source": [
        "from tensorflow import keras\n",
        "from tensorflow.keras import layers\n",
        "seed(123)\n",
        "model = keras.Sequential([\n",
        "    layers.Dense(16, activation=\"relu\"),\n",
        "    layers.Dense(16, activation=\"relu\"),\n",
        "    layers.Dense(1, activation=\"sigmoid\")\n",
        "])"
      ]
    },
    {
      "cell_type": "markdown",
      "metadata": {
        "id": "S9G8d28cj8YY"
      },
      "source": [
        "**Compiling the Model**\n",
        "\n",
        "In model compilation we have Three parameters.They are\n",
        "\n",
        "Loss function: Calculates a distance score from the network predictions and the real targets\n",
        "\n",
        "Optimizer: Loss score is used as a feedback signal to adjust weights in order to lower loss score, which is done by an optimizer\n",
        "\n",
        "Metrics: Evaluates the performance during training & testing."
      ]
    },
    {
      "cell_type": "code",
      "execution_count": 101,
      "metadata": {
        "id": "_vu5BynxyNjl"
      },
      "outputs": [],
      "source": [
        "model.compile(optimizer=\"rmsprop\",\n",
        "              loss=\"binary_crossentropy\",\n",
        "              metrics=[\"accuracy\"])"
      ]
    },
    {
      "cell_type": "markdown",
      "metadata": {
        "id": "o_Xdb8IekBjT"
      },
      "source": [
        "**Validation of the approach**\n",
        "\n",
        "We need to create a validation set to verify the training set's performance."
      ]
    },
    {
      "cell_type": "code",
      "execution_count": 102,
      "metadata": {
        "id": "BQ_u38tiyPmU"
      },
      "outputs": [],
      "source": [
        "seed(123)\n",
        "x_val = x_train[:10000]\n",
        "partial_x_train = x_train[10000:]\n",
        "y_val = y_train[:10000]\n",
        "partial_y_train = y_train[10000:]"
      ]
    },
    {
      "cell_type": "markdown",
      "metadata": {
        "id": "hntJHr3YkLH9"
      },
      "source": [
        "**Training the Model**\n",
        "\n",
        "Here, we will train our model for 20 epochs with batch size of 512 samples and also we will record loss and accuracy."
      ]
    },
    {
      "cell_type": "code",
      "execution_count": 103,
      "metadata": {
        "colab": {
          "base_uri": "https://localhost:8080/"
        },
        "id": "MPpcv6asyRT0",
        "outputId": "97178243-3c99-4b90-cc47-626a2964defa"
      },
      "outputs": [
        {
          "output_type": "stream",
          "name": "stdout",
          "text": [
            "Epoch 1/20\n",
            "30/30 [==============================] - 1s 23ms/step - loss: 0.4929 - accuracy: 0.7965 - val_loss: 0.3842 - val_accuracy: 0.8616\n",
            "Epoch 2/20\n",
            "30/30 [==============================] - 0s 16ms/step - loss: 0.2942 - accuracy: 0.9087 - val_loss: 0.3097 - val_accuracy: 0.8822\n",
            "Epoch 3/20\n",
            "30/30 [==============================] - 0s 16ms/step - loss: 0.2190 - accuracy: 0.9279 - val_loss: 0.2775 - val_accuracy: 0.8906\n",
            "Epoch 4/20\n",
            "30/30 [==============================] - 1s 17ms/step - loss: 0.1731 - accuracy: 0.9429 - val_loss: 0.2748 - val_accuracy: 0.8896\n",
            "Epoch 5/20\n",
            "30/30 [==============================] - 0s 16ms/step - loss: 0.1392 - accuracy: 0.9567 - val_loss: 0.2811 - val_accuracy: 0.8865\n",
            "Epoch 6/20\n",
            "30/30 [==============================] - 0s 16ms/step - loss: 0.1153 - accuracy: 0.9651 - val_loss: 0.2927 - val_accuracy: 0.8854\n",
            "Epoch 7/20\n",
            "30/30 [==============================] - 1s 18ms/step - loss: 0.0925 - accuracy: 0.9746 - val_loss: 0.3713 - val_accuracy: 0.8660\n",
            "Epoch 8/20\n",
            "30/30 [==============================] - 0s 16ms/step - loss: 0.0758 - accuracy: 0.9799 - val_loss: 0.3320 - val_accuracy: 0.8790\n",
            "Epoch 9/20\n",
            "30/30 [==============================] - 1s 17ms/step - loss: 0.0602 - accuracy: 0.9861 - val_loss: 0.3712 - val_accuracy: 0.8775\n",
            "Epoch 10/20\n",
            "30/30 [==============================] - 0s 16ms/step - loss: 0.0489 - accuracy: 0.9893 - val_loss: 0.4174 - val_accuracy: 0.8682\n",
            "Epoch 11/20\n",
            "30/30 [==============================] - 1s 19ms/step - loss: 0.0378 - accuracy: 0.9923 - val_loss: 0.4250 - val_accuracy: 0.8715\n",
            "Epoch 12/20\n",
            "30/30 [==============================] - 1s 18ms/step - loss: 0.0302 - accuracy: 0.9940 - val_loss: 0.4522 - val_accuracy: 0.8706\n",
            "Epoch 13/20\n",
            "30/30 [==============================] - 0s 17ms/step - loss: 0.0231 - accuracy: 0.9962 - val_loss: 0.4722 - val_accuracy: 0.8712\n",
            "Epoch 14/20\n",
            "30/30 [==============================] - 1s 18ms/step - loss: 0.0172 - accuracy: 0.9975 - val_loss: 0.4994 - val_accuracy: 0.8714\n",
            "Epoch 15/20\n",
            "30/30 [==============================] - 1s 17ms/step - loss: 0.0132 - accuracy: 0.9983 - val_loss: 0.5400 - val_accuracy: 0.8697\n",
            "Epoch 16/20\n",
            "30/30 [==============================] - 0s 17ms/step - loss: 0.0115 - accuracy: 0.9983 - val_loss: 0.5605 - val_accuracy: 0.8708\n",
            "Epoch 17/20\n",
            "30/30 [==============================] - 0s 17ms/step - loss: 0.0057 - accuracy: 0.9997 - val_loss: 0.5944 - val_accuracy: 0.8699\n",
            "Epoch 18/20\n",
            "30/30 [==============================] - 0s 16ms/step - loss: 0.0093 - accuracy: 0.9981 - val_loss: 0.6303 - val_accuracy: 0.8694\n",
            "Epoch 19/20\n",
            "30/30 [==============================] - 1s 17ms/step - loss: 0.0031 - accuracy: 0.9999 - val_loss: 0.6580 - val_accuracy: 0.8690\n",
            "Epoch 20/20\n",
            "30/30 [==============================] - 0s 16ms/step - loss: 0.0059 - accuracy: 0.9987 - val_loss: 0.6899 - val_accuracy: 0.8687\n"
          ]
        }
      ],
      "source": [
        "seed(123)\n",
        "history = model.fit(partial_x_train,\n",
        "                    partial_y_train,\n",
        "                    epochs=20,\n",
        "                    batch_size=512,\n",
        "                    validation_data=(x_val, y_val))"
      ]
    },
    {
      "cell_type": "markdown",
      "metadata": {
        "id": "Xc0WKAvmkka6"
      },
      "source": [
        "**OBSERVATIONS:**\n",
        "\n",
        "The loss and accuracy on the training were 0.0059 and 99% respectively. Regarding the loss and accuracy on the validation set were 0.68 and 86.8%.\n",
        "\n",
        "The History object is a dictionary containing all data about the training process."
      ]
    },
    {
      "cell_type": "code",
      "execution_count": 104,
      "metadata": {
        "colab": {
          "base_uri": "https://localhost:8080/"
        },
        "id": "5WDbyRXzyTag",
        "outputId": "ca09d700-4aed-42dd-9965-19ff2d3b5d78"
      },
      "outputs": [
        {
          "output_type": "execute_result",
          "data": {
            "text/plain": [
              "dict_keys(['loss', 'accuracy', 'val_loss', 'val_accuracy'])"
            ]
          },
          "metadata": {},
          "execution_count": 104
        }
      ],
      "source": [
        "history_dict = history.history\n",
        "history_dict.keys()"
      ]
    },
    {
      "cell_type": "markdown",
      "metadata": {
        "id": "AlJUkdotkqbI"
      },
      "source": [
        "**Plotting the Training and Validation loss**"
      ]
    },
    {
      "cell_type": "code",
      "execution_count": 105,
      "metadata": {
        "colab": {
          "base_uri": "https://localhost:8080/",
          "height": 295
        },
        "id": "787wRbtpyVZ1",
        "outputId": "f799d092-6e10-478e-f1c5-e57ea1583e9a"
      },
      "outputs": [
        {
          "output_type": "display_data",
          "data": {
            "text/plain": [
              "<Figure size 432x288 with 1 Axes>"
            ],
            "image/png": "[encoded data removed]"
          },
          "metadata": {
            "needs_background": "light"
          }
        }
      ],
      "source": [
        "import matplotlib.pyplot as plt\n",
        "history_dict = history.history\n",
        "loss_values = history_dict[\"loss\"]\n",
        "val_loss_values = history_dict[\"val_loss\"]\n",
        "epochs = range(1, len(loss_values) + 1)\n",
        "plt.plot(epochs, loss_values, \"bo\", label=\"Training loss\")\n",
        "plt.plot(epochs, val_loss_values, \"b\", label=\"Validation loss\")\n",
        "plt.title(\"Training and validation loss\")\n",
        "plt.xlabel(\"Epochs\")\n",
        "plt.ylabel(\"Loss\")\n",
        "plt.legend()\n",
        "plt.show()"
      ]
    },
    {
      "cell_type": "markdown",
      "metadata": {
        "id": "yzyG8ycEk5m2"
      },
      "source": [
        "**Plotting the Training and Validation accuracy**"
      ]
    },
    {
      "cell_type": "code",
      "execution_count": 106,
      "metadata": {
        "colab": {
          "base_uri": "https://localhost:8080/",
          "height": 295
        },
        "id": "vkJmWYUYyYSv",
        "outputId": "bd1ba9ea-52e5-4242-f3bd-d116055f9a50"
      },
      "outputs": [
        {
          "output_type": "display_data",
          "data": {
            "text/plain": [
              "<Figure size 432x288 with 1 Axes>"
            ],
            "image/png": "[encoded data removed]"
          },
          "metadata": {
            "needs_background": "light"
          }
        }
      ],
      "source": [
        "plt.clf()\n",
        "acc = history_dict[\"accuracy\"]\n",
        "val_acc = history_dict[\"val_accuracy\"]\n",
        "plt.plot(epochs, acc, \"bo\", label=\"Training accuracy\")\n",
        "plt.plot(epochs, val_acc, \"b\", label=\"Validation accuracy\")\n",
        "plt.title(\"Training and validation accuracy\")\n",
        "plt.xlabel(\"Epochs\")\n",
        "plt.ylabel(\"Accuracy\")\n",
        "plt.legend()\n",
        "plt.show()"
      ]
    },
    {
      "cell_type": "markdown",
      "metadata": {
        "id": "XpyxPtYilBtM"
      },
      "source": [
        "**Observations**: According to the above graph, validation loss tends to increase after the 4th epoch, which indicates overfitting.\n",
        "\n",
        "Let's build the model again from scratch, then evaluate it against the test set."
      ]
    },
    {
      "cell_type": "markdown",
      "metadata": {
        "id": "aqF5USfJlFsI"
      },
      "source": [
        "**Retraining the model from scratch**"
      ]
    },
    {
      "cell_type": "code",
      "execution_count": 107,
      "metadata": {
        "colab": {
          "base_uri": "https://localhost:8080/"
        },
        "id": "_a6_jTVPyaIp",
        "outputId": "7cdeec9c-2fe3-4698-eaf3-8244e2ab8ff2"
      },
      "outputs": [
        {
          "output_type": "stream",
          "name": "stdout",
          "text": [
            "Epoch 1/4\n",
            "49/49 [==============================] - 1s 12ms/step - loss: 0.4457 - accuracy: 0.8170\n",
            "Epoch 2/4\n",
            "49/49 [==============================] - 1s 12ms/step - loss: 0.2525 - accuracy: 0.9122\n",
            "Epoch 3/4\n",
            "49/49 [==============================] - 1s 12ms/step - loss: 0.1949 - accuracy: 0.9296\n",
            "Epoch 4/4\n",
            "49/49 [==============================] - 1s 13ms/step - loss: 0.1653 - accuracy: 0.9405\n",
            "782/782 [==============================] - 2s 2ms/step - loss: 0.3012 - accuracy: 0.8830\n"
          ]
        }
      ],
      "source": [
        "np.random.seed(123)\n",
        "model = keras.Sequential([\n",
        "    layers.Dense(16, activation=\"relu\"),\n",
        "    layers.Dense(16, activation=\"relu\"),\n",
        "    layers.Dense(1, activation=\"sigmoid\")\n",
        "])\n",
        "model.compile(optimizer=\"rmsprop\",\n",
        "              loss=\"binary_crossentropy\",\n",
        "              metrics=[\"accuracy\"])\n",
        "model.fit(x_train, y_train, epochs=4, batch_size=512)\n",
        "results = model.evaluate(x_test, y_test)"
      ]
    },
    {
      "cell_type": "code",
      "execution_count": 108,
      "metadata": {
        "colab": {
          "base_uri": "https://localhost:8080/"
        },
        "id": "m34jNBd8yceP",
        "outputId": "73b757d0-26fb-405d-d144-f95828bdaec5"
      },
      "outputs": [
        {
          "output_type": "execute_result",
          "data": {
            "text/plain": [
              "[0.30120524764060974, 0.8830400109291077]"
            ]
          },
          "metadata": {},
          "execution_count": 108
        }
      ],
      "source": [
        "results"
      ]
    },
    {
      "cell_type": "markdown",
      "metadata": {
        "id": "LWQ5xwZvlR4r"
      },
      "source": [
        "The results display accuracy and loss of the test set as 0.30 and 88.30% respectively"
      ]
    },
    {
      "cell_type": "markdown",
      "metadata": {
        "id": "kVXL5R6elUn-"
      },
      "source": [
        "Predicting the model on New dataset\n",
        "\n"
      ]
    },
    {
      "cell_type": "code",
      "execution_count": 109,
      "metadata": {
        "colab": {
          "base_uri": "https://localhost:8080/"
        },
        "id": "v_x6B-Zvyflq",
        "outputId": "a8c6f868-eb31-4651-fb41-0bf96879bc7b"
      },
      "outputs": [
        {
          "output_type": "execute_result",
          "data": {
            "text/plain": [
              "array([[0.24289182],\n",
              "       [0.9999658 ],\n",
              "       [0.9169464 ],\n",
              "       ...,\n",
              "       [0.14988157],\n",
              "       [0.07950532],\n",
              "       [0.75520325]], dtype=float32)"
            ]
          },
          "metadata": {},
          "execution_count": 109
        }
      ],
      "source": [
        "model.predict(x_test)"
      ]
    },
    {
      "cell_type": "markdown",
      "metadata": {
        "id": "U50X8VbqlajI"
      },
      "source": [
        "**Neural Network with 1-Hidden Layer**"
      ]
    },
    {
      "cell_type": "markdown",
      "source": [
        "Here,we are building the neural network with one layer and everything will be same as the previous 2-layer neural network."
      ],
      "metadata": {
        "id": "HC6scwZdxH04"
      }
    },
    {
      "cell_type": "code",
      "execution_count": 110,
      "metadata": {
        "colab": {
          "base_uri": "https://localhost:8080/"
        },
        "id": "SYmGiaJ0nr_a",
        "outputId": "36d4c2e8-59ed-4f4c-8df0-b5758167e822"
      },
      "outputs": [
        {
          "output_type": "stream",
          "name": "stdout",
          "text": [
            "Epoch 1/20\n",
            "30/30 [==============================] - 1s 22ms/step - loss: 0.4937 - accuracy: 0.7880 - val_loss: 0.3820 - val_accuracy: 0.8673\n",
            "Epoch 2/20\n",
            "30/30 [==============================] - 0s 16ms/step - loss: 0.3066 - accuracy: 0.9042 - val_loss: 0.3288 - val_accuracy: 0.8736\n",
            "Epoch 3/20\n",
            "30/30 [==============================] - 0s 16ms/step - loss: 0.2393 - accuracy: 0.9249 - val_loss: 0.2875 - val_accuracy: 0.8890\n",
            "Epoch 4/20\n",
            "30/30 [==============================] - 0s 16ms/step - loss: 0.1943 - accuracy: 0.9412 - val_loss: 0.2775 - val_accuracy: 0.8891\n",
            "Epoch 5/20\n",
            "30/30 [==============================] - 0s 16ms/step - loss: 0.1659 - accuracy: 0.9490 - val_loss: 0.2790 - val_accuracy: 0.8857\n",
            "Epoch 6/20\n",
            "30/30 [==============================] - 1s 17ms/step - loss: 0.1423 - accuracy: 0.9565 - val_loss: 0.2872 - val_accuracy: 0.8842\n",
            "Epoch 7/20\n",
            "30/30 [==============================] - 0s 17ms/step - loss: 0.1234 - accuracy: 0.9646 - val_loss: 0.2924 - val_accuracy: 0.8848\n",
            "Epoch 8/20\n",
            "30/30 [==============================] - 0s 16ms/step - loss: 0.1093 - accuracy: 0.9690 - val_loss: 0.3079 - val_accuracy: 0.8791\n",
            "Epoch 9/20\n",
            "30/30 [==============================] - 0s 16ms/step - loss: 0.0956 - accuracy: 0.9741 - val_loss: 0.3029 - val_accuracy: 0.8822\n",
            "Epoch 10/20\n",
            "30/30 [==============================] - 1s 17ms/step - loss: 0.0836 - accuracy: 0.9791 - val_loss: 0.3156 - val_accuracy: 0.8834\n",
            "Epoch 11/20\n",
            "30/30 [==============================] - 0s 16ms/step - loss: 0.0745 - accuracy: 0.9818 - val_loss: 0.3544 - val_accuracy: 0.8747\n",
            "Epoch 12/20\n",
            "30/30 [==============================] - 0s 16ms/step - loss: 0.0654 - accuracy: 0.9850 - val_loss: 0.3412 - val_accuracy: 0.8798\n",
            "Epoch 13/20\n",
            "30/30 [==============================] - 0s 16ms/step - loss: 0.0574 - accuracy: 0.9884 - val_loss: 0.3692 - val_accuracy: 0.8760\n",
            "Epoch 14/20\n",
            "30/30 [==============================] - 1s 18ms/step - loss: 0.0510 - accuracy: 0.9901 - val_loss: 0.3724 - val_accuracy: 0.8764\n",
            "Epoch 15/20\n",
            "30/30 [==============================] - 1s 17ms/step - loss: 0.0455 - accuracy: 0.9920 - val_loss: 0.3903 - val_accuracy: 0.8758\n",
            "Epoch 16/20\n",
            "30/30 [==============================] - 0s 17ms/step - loss: 0.0400 - accuracy: 0.9933 - val_loss: 0.4029 - val_accuracy: 0.8743\n",
            "Epoch 17/20\n",
            "30/30 [==============================] - 0s 16ms/step - loss: 0.0346 - accuracy: 0.9945 - val_loss: 0.4239 - val_accuracy: 0.8721\n",
            "Epoch 18/20\n",
            "30/30 [==============================] - 0s 16ms/step - loss: 0.0307 - accuracy: 0.9955 - val_loss: 0.4574 - val_accuracy: 0.8715\n",
            "Epoch 19/20\n",
            "30/30 [==============================] - 0s 16ms/step - loss: 0.0263 - accuracy: 0.9965 - val_loss: 0.4792 - val_accuracy: 0.8642\n",
            "Epoch 20/20\n",
            "30/30 [==============================] - 0s 16ms/step - loss: 0.0230 - accuracy: 0.9973 - val_loss: 0.4815 - val_accuracy: 0.8690\n"
          ]
        }
      ],
      "source": [
        "seed(123)\n",
        "model1 = keras.Sequential([\n",
        "    layers.Dense(16, activation=\"relu\"),\n",
        "    layers.Dense(1, activation=\"sigmoid\")\n",
        "])\n",
        "\n",
        "model1.compile(optimizer=\"rmsprop\",\n",
        "              loss=\"binary_crossentropy\",\n",
        "              metrics=[\"accuracy\"])\n",
        "\n",
        "x_val = x_train[:10000]\n",
        "partial_x_train = x_train[10000:]\n",
        "\n",
        "y_val = y_train[:10000]\n",
        "partial_y_train = y_train[10000:]\n",
        "\n",
        "\n",
        "history1 = model1.fit(partial_x_train,\n",
        "                    partial_y_train,\n",
        "                    epochs=20,\n",
        "                    batch_size=512,\n",
        "                    validation_data=(x_val, y_val))"
      ]
    },
    {
      "cell_type": "code",
      "execution_count": 111,
      "metadata": {
        "colab": {
          "base_uri": "https://localhost:8080/"
        },
        "id": "H-gjl-eLn3Vj",
        "outputId": "c848b31c-8742-431c-873c-ebf0e5f0aa6d"
      },
      "outputs": [
        {
          "output_type": "execute_result",
          "data": {
            "text/plain": [
              "dict_keys(['loss', 'accuracy', 'val_loss', 'val_accuracy'])"
            ]
          },
          "metadata": {},
          "execution_count": 111
        }
      ],
      "source": [
        "history_dict = history1.history\n",
        "history_dict.keys()"
      ]
    },
    {
      "cell_type": "code",
      "execution_count": 112,
      "metadata": {
        "colab": {
          "base_uri": "https://localhost:8080/",
          "height": 573
        },
        "id": "wKyJGuySn6Dl",
        "outputId": "1f185b43-d804-4786-e06e-1ea04b65d34f"
      },
      "outputs": [
        {
          "output_type": "display_data",
          "data": {
            "text/plain": [
              "<Figure size 432x288 with 1 Axes>"
            ],
            "image/png": "[encoded data removed]"
          },
          "metadata": {
            "needs_background": "light"
          }
        },
        {
          "output_type": "display_data",
          "data": {
            "text/plain": [
              "<Figure size 432x288 with 1 Axes>"
            ],
            "image/png": "[encoded data removed]"
          },
          "metadata": {
            "needs_background": "light"
          }
        }
      ],
      "source": [
        "import matplotlib.pyplot as plt\n",
        "history_dict = history1.history\n",
        "loss_values = history_dict[\"loss\"]\n",
        "val_loss_values = history_dict[\"val_loss\"]\n",
        "epochs = range(1, len(loss_values) + 1)\n",
        "#Plotting graph between Training and Validation loss\n",
        "plt.plot(epochs, loss_values, \"ro\", label=\"Training loss\")\n",
        "plt.plot(epochs, val_loss_values, \"r\", label=\"Validation loss\")\n",
        "plt.title(\"Training and validation loss\")\n",
        "plt.xlabel(\"Epochs\")\n",
        "plt.ylabel(\"Loss\")\n",
        "plt.legend()\n",
        "plt.show()\n",
        "\n",
        "#Plotting graph between Training and Validation Accuracy\n",
        "plt.clf()\n",
        "acc = history_dict[\"accuracy\"]\n",
        "val_acc = history_dict[\"val_accuracy\"]\n",
        "plt.plot(epochs, acc, \"ro\", label=\"Training accuracy\")\n",
        "plt.plot(epochs, val_acc, \"r\", label=\"Validation accuracy\")\n",
        "plt.title(\"Training and validation accuracy\")\n",
        "plt.xlabel(\"Epochs\")\n",
        "plt.ylabel(\"Accuracy\")\n",
        "plt.legend()\n",
        "plt.show()"
      ]
    },
    {
      "cell_type": "markdown",
      "metadata": {
        "id": "U582p26yo5G1"
      },
      "source": [
        " Retraining the model"
      ]
    },
    {
      "cell_type": "code",
      "execution_count": 113,
      "metadata": {
        "colab": {
          "base_uri": "https://localhost:8080/"
        },
        "id": "e4FGCJ9go67A",
        "outputId": "e7d0fb3a-778f-4906-887f-ecf96829e614"
      },
      "outputs": [
        {
          "output_type": "stream",
          "name": "stdout",
          "text": [
            "Epoch 1/5\n",
            "49/49 [==============================] - 1s 12ms/step - loss: 0.4477 - accuracy: 0.8320\n",
            "Epoch 2/5\n",
            "49/49 [==============================] - 1s 12ms/step - loss: 0.2793 - accuracy: 0.9062\n",
            "Epoch 3/5\n",
            "49/49 [==============================] - 1s 12ms/step - loss: 0.2204 - accuracy: 0.9256\n",
            "Epoch 4/5\n",
            "49/49 [==============================] - 1s 12ms/step - loss: 0.1882 - accuracy: 0.9353\n",
            "Epoch 5/5\n",
            "49/49 [==============================] - 1s 12ms/step - loss: 0.1657 - accuracy: 0.9421\n",
            "782/782 [==============================] - 2s 2ms/step - loss: 0.2932 - accuracy: 0.8819\n"
          ]
        }
      ],
      "source": [
        "np.random.seed(123)\n",
        "model1 = keras.Sequential([\n",
        "    layers.Dense(16, activation=\"relu\"),\n",
        "    layers.Dense(1, activation=\"sigmoid\")\n",
        "])\n",
        "\n",
        "model1.compile(optimizer=\"rmsprop\",\n",
        "              loss=\"binary_crossentropy\",\n",
        "              metrics=[\"accuracy\"])\n",
        "model1.fit(x_train, y_train, epochs=5, batch_size=512)\n",
        "results1 = model1.evaluate(x_test, y_test)"
      ]
    },
    {
      "cell_type": "code",
      "execution_count": 114,
      "metadata": {
        "colab": {
          "base_uri": "https://localhost:8080/"
        },
        "id": "7t8HXTqRpBWi",
        "outputId": "0ec3e570-e724-4dd1-86f9-5f0c82524b89"
      },
      "outputs": [
        {
          "output_type": "execute_result",
          "data": {
            "text/plain": [
              "[0.29316866397857666, 0.881879985332489]"
            ]
          },
          "metadata": {},
          "execution_count": 114
        }
      ],
      "source": [
        "results1"
      ]
    },
    {
      "cell_type": "markdown",
      "source": [
        "The results display accuracy and loss of the test set as 0.28 and 88.49% respectively"
      ],
      "metadata": {
        "id": "ZBYL-1Fnxvec"
      }
    },
    {
      "cell_type": "code",
      "execution_count": 115,
      "metadata": {
        "colab": {
          "base_uri": "https://localhost:8080/"
        },
        "id": "_hdD28HIpD34",
        "outputId": "d1c8c16f-fae4-4e18-84ca-7664466c0486"
      },
      "outputs": [
        {
          "output_type": "execute_result",
          "data": {
            "text/plain": [
              "array([[0.14623237],\n",
              "       [0.9997661 ],\n",
              "       [0.6924913 ],\n",
              "       ...,\n",
              "       [0.09286991],\n",
              "       [0.05921036],\n",
              "       [0.4118243 ]], dtype=float32)"
            ]
          },
          "metadata": {},
          "execution_count": 115
        }
      ],
      "source": [
        "model1.predict(x_test)"
      ]
    },
    {
      "cell_type": "markdown",
      "metadata": {
        "id": "_2Tg0wt8pJ_I"
      },
      "source": [
        "**Neural Network with 3-Hidden Layers**"
      ]
    },
    {
      "cell_type": "markdown",
      "source": [
        "Here,we are building the neural network with three layers and everything will be same as 2-layer neural network."
      ],
      "metadata": {
        "id": "MVOp3vTUx-dP"
      }
    },
    {
      "cell_type": "code",
      "execution_count": 116,
      "metadata": {
        "colab": {
          "base_uri": "https://localhost:8080/"
        },
        "id": "W5YcCsP5ylxn",
        "outputId": "b6674ae7-2084-4e8b-e983-20e20a5cea6d"
      },
      "outputs": [
        {
          "output_type": "stream",
          "name": "stdout",
          "text": [
            "Epoch 1/20\n",
            "30/30 [==============================] - 1s 23ms/step - loss: 0.5330 - accuracy: 0.7537 - val_loss: 0.3901 - val_accuracy: 0.8582\n",
            "Epoch 2/20\n",
            "30/30 [==============================] - 0s 16ms/step - loss: 0.3022 - accuracy: 0.9011 - val_loss: 0.3189 - val_accuracy: 0.8759\n",
            "Epoch 3/20\n",
            "30/30 [==============================] - 0s 17ms/step - loss: 0.2145 - accuracy: 0.9299 - val_loss: 0.3158 - val_accuracy: 0.8745\n",
            "Epoch 4/20\n",
            "30/30 [==============================] - 0s 16ms/step - loss: 0.1635 - accuracy: 0.9448 - val_loss: 0.2919 - val_accuracy: 0.8831\n",
            "Epoch 5/20\n",
            "30/30 [==============================] - 0s 17ms/step - loss: 0.1335 - accuracy: 0.9562 - val_loss: 0.3232 - val_accuracy: 0.8763\n",
            "Epoch 6/20\n",
            "30/30 [==============================] - 0s 15ms/step - loss: 0.1063 - accuracy: 0.9663 - val_loss: 0.3300 - val_accuracy: 0.8779\n",
            "Epoch 7/20\n",
            "30/30 [==============================] - 1s 17ms/step - loss: 0.0846 - accuracy: 0.9755 - val_loss: 0.3614 - val_accuracy: 0.8738\n",
            "Epoch 8/20\n",
            "30/30 [==============================] - 0s 16ms/step - loss: 0.0728 - accuracy: 0.9791 - val_loss: 0.3661 - val_accuracy: 0.8766\n",
            "Epoch 9/20\n",
            "30/30 [==============================] - 1s 18ms/step - loss: 0.0559 - accuracy: 0.9845 - val_loss: 0.4233 - val_accuracy: 0.8711\n",
            "Epoch 10/20\n",
            "30/30 [==============================] - 1s 17ms/step - loss: 0.0415 - accuracy: 0.9893 - val_loss: 0.4371 - val_accuracy: 0.8743\n",
            "Epoch 11/20\n",
            "30/30 [==============================] - 1s 19ms/step - loss: 0.0353 - accuracy: 0.9913 - val_loss: 0.4640 - val_accuracy: 0.8722\n",
            "Epoch 12/20\n",
            "30/30 [==============================] - 1s 17ms/step - loss: 0.0336 - accuracy: 0.9895 - val_loss: 0.4944 - val_accuracy: 0.8725\n",
            "Epoch 13/20\n",
            "30/30 [==============================] - 1s 18ms/step - loss: 0.0127 - accuracy: 0.9987 - val_loss: 0.5303 - val_accuracy: 0.8710\n",
            "Epoch 14/20\n",
            "30/30 [==============================] - 0s 15ms/step - loss: 0.0190 - accuracy: 0.9944 - val_loss: 0.5677 - val_accuracy: 0.8691\n",
            "Epoch 15/20\n",
            "30/30 [==============================] - 0s 15ms/step - loss: 0.0203 - accuracy: 0.9941 - val_loss: 0.6062 - val_accuracy: 0.8670\n",
            "Epoch 16/20\n",
            "30/30 [==============================] - 0s 15ms/step - loss: 0.0051 - accuracy: 0.9997 - val_loss: 0.6285 - val_accuracy: 0.8695\n",
            "Epoch 17/20\n",
            "30/30 [==============================] - 0s 15ms/step - loss: 0.0155 - accuracy: 0.9954 - val_loss: 0.6666 - val_accuracy: 0.8682\n",
            "Epoch 18/20\n",
            "30/30 [==============================] - 0s 16ms/step - loss: 0.0028 - accuracy: 0.9999 - val_loss: 0.7035 - val_accuracy: 0.8683\n",
            "Epoch 19/20\n",
            "30/30 [==============================] - 1s 23ms/step - loss: 0.0038 - accuracy: 0.9993 - val_loss: 0.9343 - val_accuracy: 0.8456\n",
            "Epoch 20/20\n",
            "30/30 [==============================] - 1s 19ms/step - loss: 0.0019 - accuracy: 0.9997 - val_loss: 0.7988 - val_accuracy: 0.8666\n"
          ]
        }
      ],
      "source": [
        "np.random.seed(123)\n",
        "model_3 = keras.Sequential([\n",
        "    layers.Dense(16, activation=\"relu\"),\n",
        "    layers.Dense(16, activation=\"relu\"),\n",
        "    layers.Dense(16, activation=\"relu\"),\n",
        "    layers.Dense(1, activation=\"sigmoid\")\n",
        "])\n",
        "model_3.compile(optimizer=\"rmsprop\",\n",
        "              loss=\"binary_crossentropy\",\n",
        "              metrics=[\"accuracy\"])\n",
        "x_val = x_train[:10000]\n",
        "partial_x_train = x_train[10000:]\n",
        "\n",
        "y_val = y_train[:10000]\n",
        "partial_y_train = y_train[10000:]\n",
        "\n",
        "history3 = model_3.fit(partial_x_train,\n",
        "                    partial_y_train,\n",
        "                    epochs=20,\n",
        "                    batch_size=512,\n",
        "                    validation_data=(x_val, y_val))\n"
      ]
    },
    {
      "cell_type": "code",
      "execution_count": 117,
      "metadata": {
        "colab": {
          "base_uri": "https://localhost:8080/"
        },
        "id": "Cj3t_6nEp-mv",
        "outputId": "fc894af5-adf0-41e8-d324-909b9e1bebeb"
      },
      "outputs": [
        {
          "output_type": "execute_result",
          "data": {
            "text/plain": [
              "dict_keys(['loss', 'accuracy', 'val_loss', 'val_accuracy'])"
            ]
          },
          "metadata": {},
          "execution_count": 117
        }
      ],
      "source": [
        "history_dict3 = history3.history\n",
        "history_dict3.keys()"
      ]
    },
    {
      "cell_type": "markdown",
      "source": [
        "Plotting graph between Training and Validation loss"
      ],
      "metadata": {
        "id": "0utG0hZCrNdR"
      }
    },
    {
      "cell_type": "code",
      "execution_count": 118,
      "metadata": {
        "colab": {
          "base_uri": "https://localhost:8080/",
          "height": 295
        },
        "id": "lCKVwAThyn_h",
        "outputId": "ab95c83e-31c5-434f-e773-ba2165773066"
      },
      "outputs": [
        {
          "output_type": "display_data",
          "data": {
            "text/plain": [
              "<Figure size 432x288 with 1 Axes>"
            ],
            "image/png": "[encoded data removed]"
          },
          "metadata": {
            "needs_background": "light"
          }
        }
      ],
      "source": [
        "loss_values = history_dict3[\"loss\"]\n",
        "val_loss_values = history_dict3[\"val_loss\"]\n",
        "epochs = range(1, len(loss_values) + 1)\n",
        "plt.plot(epochs, loss_values, \"go\", label=\"Training loss\")\n",
        "plt.plot(epochs, val_loss_values, \"g\", label=\"Validation loss\")\n",
        "plt.title(\"Training and validation loss\")\n",
        "plt.xlabel(\"Epochs\")\n",
        "plt.ylabel(\"Loss\")\n",
        "plt.legend()\n",
        "plt.show()"
      ]
    },
    {
      "cell_type": "markdown",
      "source": [
        "Plotting graph between Training and Validation Accuracy"
      ],
      "metadata": {
        "id": "yam4pgRirLon"
      }
    },
    {
      "cell_type": "code",
      "execution_count": 119,
      "metadata": {
        "colab": {
          "base_uri": "https://localhost:8080/",
          "height": 295
        },
        "id": "Md5dDf1ErXVq",
        "outputId": "28052b9f-2bd5-4cd4-dba8-10d3eb58ba69"
      },
      "outputs": [
        {
          "output_type": "display_data",
          "data": {
            "text/plain": [
              "<Figure size 432x288 with 1 Axes>"
            ],
            "image/png": "[encoded data removed]"
          },
          "metadata": {
            "needs_background": "light"
          }
        }
      ],
      "source": [
        "plt.clf()\n",
        "acc = history_dict3[\"accuracy\"]\n",
        "val_acc = history_dict3[\"val_accuracy\"]\n",
        "plt.plot(epochs, acc, \"go\", label=\"Training acc\")\n",
        "plt.plot(epochs, val_acc, \"g\", label=\"Validation acc\")\n",
        "plt.title(\"Training and validation accuracy\")\n",
        "plt.xlabel(\"Epochs\")\n",
        "plt.ylabel(\"Accuracy\")\n",
        "plt.legend()\n",
        "plt.show()"
      ]
    },
    {
      "cell_type": "code",
      "execution_count": 120,
      "metadata": {
        "id": "GjepdNVKysiw",
        "colab": {
          "base_uri": "https://localhost:8080/"
        },
        "outputId": "4ce7188e-a4b7-46d3-a94f-8b8847d431aa"
      },
      "outputs": [
        {
          "output_type": "stream",
          "name": "stdout",
          "text": [
            "Epoch 1/3\n",
            "49/49 [==============================] - 1s 12ms/step - loss: 0.4631 - accuracy: 0.8141\n",
            "Epoch 2/3\n",
            "49/49 [==============================] - 1s 11ms/step - loss: 0.2588 - accuracy: 0.9046\n",
            "Epoch 3/3\n",
            "49/49 [==============================] - 1s 12ms/step - loss: 0.1995 - accuracy: 0.9276\n",
            "782/782 [==============================] - 2s 2ms/step - loss: 0.2814 - accuracy: 0.8881\n"
          ]
        }
      ],
      "source": [
        "np.random.seed(123)\n",
        "model_3 = keras.Sequential([\n",
        "    layers.Dense(16, activation=\"relu\"),\n",
        "    layers.Dense(16, activation=\"relu\"),\n",
        "    layers.Dense(16, activation=\"relu\"),\n",
        "    layers.Dense(1, activation=\"sigmoid\")\n",
        "])\n",
        "\n",
        "\n",
        "model_3.compile(optimizer='rmsprop',\n",
        "              loss='binary_crossentropy',\n",
        "              metrics=['accuracy'])\n",
        "\n",
        "model_3.fit(x_train, y_train, epochs=3, batch_size=512)\n",
        "results_3 = model_3.evaluate(x_test, y_test)"
      ]
    },
    {
      "cell_type": "code",
      "source": [
        "results_3"
      ],
      "metadata": {
        "colab": {
          "base_uri": "https://localhost:8080/"
        },
        "id": "iyTDhGrJsLZL",
        "outputId": "25782304-d2d9-4fb1-f68b-8b03770bf0f9"
      },
      "execution_count": 121,
      "outputs": [
        {
          "output_type": "execute_result",
          "data": {
            "text/plain": [
              "[0.28139135241508484, 0.8880800008773804]"
            ]
          },
          "metadata": {},
          "execution_count": 121
        }
      ]
    },
    {
      "cell_type": "markdown",
      "source": [
        "The results display accuracy and loss of the test set as 0.28 and 88.8% respectively"
      ],
      "metadata": {
        "id": "h2lDlwbIygTq"
      }
    },
    {
      "cell_type": "code",
      "source": [
        "model_3.predict(x_test)"
      ],
      "metadata": {
        "colab": {
          "base_uri": "https://localhost:8080/"
        },
        "id": "zYU5_oPHsNmD",
        "outputId": "fbb75243-e276-4421-88f4-c91a97e020a3"
      },
      "execution_count": 122,
      "outputs": [
        {
          "output_type": "execute_result",
          "data": {
            "text/plain": [
              "array([[0.24235305],\n",
              "       [0.9986923 ],\n",
              "       [0.9298434 ],\n",
              "       ...,\n",
              "       [0.16059542],\n",
              "       [0.13164154],\n",
              "       [0.49691132]], dtype=float32)"
            ]
          },
          "metadata": {},
          "execution_count": 122
        }
      ]
    },
    {
      "cell_type": "markdown",
      "source": [
        "By changing the number of layers, the accuracy of the model does not improve much. The model using three layers, however, shows a better accuracy compared to the other two.\n",
        "\n",
        "You must choose the number of units in the hidden layers when determining the overall architecture of your neural network.Although these layers do not directly interact with the external environment, they have a significant impact on the final result.Each hidden layer must be carefully considered in terms of both its number of units and its number of hidden layers.\n",
        "\n",
        "Let's try using layers with more hidden units or fewer hidden units: 32 units, 64 and 128 units to validate the results"
      ],
      "metadata": {
        "id": "IRP2pIGlpp0R"
      }
    },
    {
      "cell_type": "markdown",
      "source": [
        "From here we will be using the 2-layers and find ways to improve the performance of the model."
      ],
      "metadata": {
        "id": "WLdkZFJ8GZ2B"
      }
    },
    {
      "cell_type": "markdown",
      "source": [
        "**Building the Neural Network with 32-Units**"
      ],
      "metadata": {
        "id": "A4ZhBT0ytt6z"
      }
    },
    {
      "cell_type": "code",
      "execution_count": 123,
      "metadata": {
        "id": "Jmttu_-iyutd",
        "colab": {
          "base_uri": "https://localhost:8080/"
        },
        "outputId": "deb67ad0-456e-4599-8639-cd25477c8650"
      },
      "outputs": [
        {
          "output_type": "stream",
          "name": "stdout",
          "text": [
            "Epoch 1/20\n",
            "30/30 [==============================] - 1s 27ms/step - loss: 0.4965 - accuracy: 0.7785 - val_loss: 0.3656 - val_accuracy: 0.8659\n",
            "Epoch 2/20\n",
            "30/30 [==============================] - 1s 20ms/step - loss: 0.2823 - accuracy: 0.9057 - val_loss: 0.2854 - val_accuracy: 0.8927\n",
            "Epoch 3/20\n",
            "30/30 [==============================] - 1s 20ms/step - loss: 0.2060 - accuracy: 0.9292 - val_loss: 0.2943 - val_accuracy: 0.8828\n",
            "Epoch 4/20\n",
            "30/30 [==============================] - 1s 19ms/step - loss: 0.1568 - accuracy: 0.9477 - val_loss: 0.2807 - val_accuracy: 0.8860\n",
            "Epoch 5/20\n",
            "30/30 [==============================] - 1s 19ms/step - loss: 0.1310 - accuracy: 0.9554 - val_loss: 0.2913 - val_accuracy: 0.8876\n",
            "Epoch 6/20\n",
            "30/30 [==============================] - 1s 19ms/step - loss: 0.0949 - accuracy: 0.9715 - val_loss: 0.3126 - val_accuracy: 0.8839\n",
            "Epoch 7/20\n",
            "30/30 [==============================] - 1s 20ms/step - loss: 0.0819 - accuracy: 0.9747 - val_loss: 0.3433 - val_accuracy: 0.8813\n",
            "Epoch 8/20\n",
            "30/30 [==============================] - 1s 19ms/step - loss: 0.0668 - accuracy: 0.9797 - val_loss: 0.3650 - val_accuracy: 0.8789\n",
            "Epoch 9/20\n",
            "30/30 [==============================] - 1s 19ms/step - loss: 0.0498 - accuracy: 0.9867 - val_loss: 0.4001 - val_accuracy: 0.8782\n",
            "Epoch 10/20\n",
            "30/30 [==============================] - 1s 20ms/step - loss: 0.0393 - accuracy: 0.9898 - val_loss: 0.4287 - val_accuracy: 0.8768\n",
            "Epoch 11/20\n",
            "30/30 [==============================] - 1s 20ms/step - loss: 0.0367 - accuracy: 0.9896 - val_loss: 0.4652 - val_accuracy: 0.8751\n",
            "Epoch 12/20\n",
            "30/30 [==============================] - 1s 20ms/step - loss: 0.0178 - accuracy: 0.9976 - val_loss: 0.5069 - val_accuracy: 0.8708\n",
            "Epoch 13/20\n",
            "30/30 [==============================] - 1s 19ms/step - loss: 0.0200 - accuracy: 0.9954 - val_loss: 0.5447 - val_accuracy: 0.8717\n",
            "Epoch 14/20\n",
            "30/30 [==============================] - 1s 19ms/step - loss: 0.0196 - accuracy: 0.9953 - val_loss: 0.5818 - val_accuracy: 0.8688\n",
            "Epoch 15/20\n",
            "30/30 [==============================] - 1s 19ms/step - loss: 0.0065 - accuracy: 0.9998 - val_loss: 0.7334 - val_accuracy: 0.8523\n",
            "Epoch 16/20\n",
            "30/30 [==============================] - 1s 18ms/step - loss: 0.0090 - accuracy: 0.9989 - val_loss: 0.6669 - val_accuracy: 0.8686\n",
            "Epoch 17/20\n",
            "30/30 [==============================] - 1s 19ms/step - loss: 0.0155 - accuracy: 0.9955 - val_loss: 0.7005 - val_accuracy: 0.8667\n",
            "Epoch 18/20\n",
            "30/30 [==============================] - 1s 19ms/step - loss: 0.0024 - accuracy: 0.9999 - val_loss: 0.7347 - val_accuracy: 0.8648\n",
            "Epoch 19/20\n",
            "30/30 [==============================] - 1s 20ms/step - loss: 0.0121 - accuracy: 0.9963 - val_loss: 0.7565 - val_accuracy: 0.8647\n",
            "Epoch 20/20\n",
            "30/30 [==============================] - 1s 19ms/step - loss: 0.0015 - accuracy: 0.9999 - val_loss: 0.7877 - val_accuracy: 0.8649\n"
          ]
        }
      ],
      "source": [
        "np.random.seed(123)\n",
        "model_32 = keras.Sequential([\n",
        "    layers.Dense(32, activation=\"relu\"),\n",
        "    layers.Dense(32, activation=\"relu\"),\n",
        "    layers.Dense(1, activation=\"sigmoid\")\n",
        "])\n",
        "#compiling the model\n",
        "model_32.compile(optimizer=\"rmsprop\",\n",
        "              loss=\"binary_crossentropy\",\n",
        "              metrics=[\"accuracy\"])\n",
        "# validating the model\n",
        "x_val = x_train[:10000]\n",
        "partial_x_train = x_train[10000:]\n",
        "\n",
        "y_val = y_train[:10000]\n",
        "partial_y_train = y_train[10000:]\n",
        "\n",
        "#Model fit\n",
        "np.random.seed(123)\n",
        "history32 = model_32.fit(partial_x_train,\n",
        "                    partial_y_train,\n",
        "                    epochs=20,\n",
        "                    batch_size=512,\n",
        "                    validation_data=(x_val, y_val))\n"
      ]
    },
    {
      "cell_type": "code",
      "source": [
        "history_dict32 = history32.history\n",
        "history_dict32.keys()"
      ],
      "metadata": {
        "colab": {
          "base_uri": "https://localhost:8080/"
        },
        "id": "SrpiDxlWuPpj",
        "outputId": "d753758a-83d3-4458-8164-a8b62176e013"
      },
      "execution_count": 124,
      "outputs": [
        {
          "output_type": "execute_result",
          "data": {
            "text/plain": [
              "dict_keys(['loss', 'accuracy', 'val_loss', 'val_accuracy'])"
            ]
          },
          "metadata": {},
          "execution_count": 124
        }
      ]
    },
    {
      "cell_type": "markdown",
      "source": [
        "Plotting graph between Training and Validation Loss"
      ],
      "metadata": {
        "id": "x5CGGYaNrUm5"
      }
    },
    {
      "cell_type": "code",
      "execution_count": 125,
      "metadata": {
        "id": "bFI_RNjXyw-h",
        "colab": {
          "base_uri": "https://localhost:8080/",
          "height": 295
        },
        "outputId": "21bacab9-9803-42b0-83ec-0fa6056486db"
      },
      "outputs": [
        {
          "output_type": "display_data",
          "data": {
            "text/plain": [
              "<Figure size 432x288 with 1 Axes>"
            ],
            "image/png": "[encoded data removed]"
          },
          "metadata": {
            "needs_background": "light"
          }
        }
      ],
      "source": [
        "loss_values = history_dict32[\"loss\"]\n",
        "val_loss_values = history_dict32[\"val_loss\"]\n",
        "epochs = range(1, len(loss_values) + 1)\n",
        "plt.plot(epochs, loss_values, \"bo\", label=\"Training loss\")\n",
        "plt.plot(epochs, val_loss_values, \"b\", label=\"Validation loss\")\n",
        "plt.title(\"Training and validation loss\")\n",
        "plt.xlabel(\"Epochs\")\n",
        "plt.ylabel(\"Loss\")\n",
        "plt.legend()\n",
        "plt.show()"
      ]
    },
    {
      "cell_type": "markdown",
      "source": [
        "Plotting graph between Training and Validation Accuracy"
      ],
      "metadata": {
        "id": "IAhPGxhirXeV"
      }
    },
    {
      "cell_type": "code",
      "execution_count": 126,
      "metadata": {
        "id": "8nmVJAqDyzn9",
        "colab": {
          "base_uri": "https://localhost:8080/",
          "height": 295
        },
        "outputId": "004d188d-ce21-407f-b1eb-c144b81fc492"
      },
      "outputs": [
        {
          "output_type": "display_data",
          "data": {
            "text/plain": [
              "<Figure size 432x288 with 1 Axes>"
            ],
            "image/png": "[encoded data removed]"
          },
          "metadata": {
            "needs_background": "light"
          }
        }
      ],
      "source": [
        "plt.clf()\n",
        "acc = history_dict32[\"accuracy\"]\n",
        "val_acc = history_dict32[\"val_accuracy\"]\n",
        "plt.plot(epochs, acc, \"bo\", label=\"Training acc\")\n",
        "plt.plot(epochs, val_acc, \"b\", label=\"Validation acc\")\n",
        "plt.title(\"Training and validation accuracy\")\n",
        "plt.xlabel(\"Epochs\")\n",
        "plt.ylabel(\"Accuracy\")\n",
        "plt.legend()\n",
        "plt.show()"
      ]
    },
    {
      "cell_type": "code",
      "execution_count": 127,
      "metadata": {
        "id": "7YqFmkrcy1qg",
        "colab": {
          "base_uri": "https://localhost:8080/"
        },
        "outputId": "ba65792d-871e-4445-a1cb-0e9a84303335"
      },
      "outputs": [
        {
          "output_type": "stream",
          "name": "stdout",
          "text": [
            "Epoch 1/3\n",
            "49/49 [==============================] - 1s 15ms/step - loss: 0.2252 - accuracy: 0.9440\n",
            "Epoch 2/3\n",
            "49/49 [==============================] - 1s 14ms/step - loss: 0.1281 - accuracy: 0.9608\n",
            "Epoch 3/3\n",
            "49/49 [==============================] - 1s 14ms/step - loss: 0.0952 - accuracy: 0.9703\n",
            "782/782 [==============================] - 2s 2ms/step - loss: 0.4616 - accuracy: 0.8614\n"
          ]
        },
        {
          "output_type": "execute_result",
          "data": {
            "text/plain": [
              "[0.4615730047225952, 0.8613600134849548]"
            ]
          },
          "metadata": {},
          "execution_count": 127
        }
      ],
      "source": [
        "history_32 = model_32.fit(x_train, y_train, epochs=3, batch_size=512)\n",
        "results_32 = model_32.evaluate(x_test, y_test)\n",
        "results_32"
      ]
    },
    {
      "cell_type": "code",
      "source": [
        "model_32.predict(x_test)"
      ],
      "metadata": {
        "colab": {
          "base_uri": "https://localhost:8080/"
        },
        "id": "7wVSxsdZ2Jsp",
        "outputId": "a9f5c0d8-1f51-4c70-9e66-23c08bb9d404"
      },
      "execution_count": 128,
      "outputs": [
        {
          "output_type": "execute_result",
          "data": {
            "text/plain": [
              "array([[0.0127261 ],\n",
              "       [0.99998665],\n",
              "       [0.9728122 ],\n",
              "       ...,\n",
              "       [0.08829135],\n",
              "       [0.06073213],\n",
              "       [0.7600264 ]], dtype=float32)"
            ]
          },
          "metadata": {},
          "execution_count": 128
        }
      ]
    },
    {
      "cell_type": "markdown",
      "source": [
        "**Training the model with 64-Units**"
      ],
      "metadata": {
        "id": "-UTKAbkqwU0t"
      }
    },
    {
      "cell_type": "code",
      "source": [
        "np.random.seed(123)\n",
        "model_64 = keras.Sequential([\n",
        "    layers.Dense(64, activation=\"relu\"),\n",
        "    layers.Dense(64, activation=\"relu\"),\n",
        "    layers.Dense(1, activation=\"sigmoid\")\n",
        "])\n",
        "model_64.compile(optimizer=\"rmsprop\",\n",
        "              loss=\"binary_crossentropy\",\n",
        "              metrics=[\"accuracy\"])\n",
        "# validation\n",
        "x_val = x_train[:10000]\n",
        "partial_x_train = x_train[10000:]\n",
        "\n",
        "y_val = y_train[:10000]\n",
        "partial_y_train = y_train[10000:]\n",
        "\n",
        "np.random.seed(123)\n",
        "history64 = model_64.fit(partial_x_train,\n",
        "                    partial_y_train,\n",
        "                    epochs=20,\n",
        "                    batch_size=512,\n",
        "                    validation_data=(x_val, y_val))"
      ],
      "metadata": {
        "colab": {
          "base_uri": "https://localhost:8080/"
        },
        "id": "0C5GyjQF2UZf",
        "outputId": "6eb72a75-1fae-47c0-eb55-0b16c928df10"
      },
      "execution_count": 129,
      "outputs": [
        {
          "output_type": "stream",
          "name": "stdout",
          "text": [
            "Epoch 1/20\n",
            "30/30 [==============================] - 2s 36ms/step - loss: 0.4832 - accuracy: 0.7731 - val_loss: 0.3185 - val_accuracy: 0.8815\n",
            "Epoch 2/20\n",
            "30/30 [==============================] - 1s 30ms/step - loss: 0.2609 - accuracy: 0.9027 - val_loss: 0.2855 - val_accuracy: 0.8885\n",
            "Epoch 3/20\n",
            "30/30 [==============================] - 1s 30ms/step - loss: 0.1921 - accuracy: 0.9280 - val_loss: 0.2780 - val_accuracy: 0.8881\n",
            "Epoch 4/20\n",
            "30/30 [==============================] - 1s 30ms/step - loss: 0.1396 - accuracy: 0.9495 - val_loss: 0.3232 - val_accuracy: 0.8755\n",
            "Epoch 5/20\n",
            "30/30 [==============================] - 1s 32ms/step - loss: 0.1012 - accuracy: 0.9650 - val_loss: 0.5786 - val_accuracy: 0.8219\n",
            "Epoch 6/20\n",
            "30/30 [==============================] - 1s 30ms/step - loss: 0.0833 - accuracy: 0.9714 - val_loss: 0.3463 - val_accuracy: 0.8839\n",
            "Epoch 7/20\n",
            "30/30 [==============================] - 1s 31ms/step - loss: 0.0688 - accuracy: 0.9793 - val_loss: 0.3751 - val_accuracy: 0.8838\n",
            "Epoch 8/20\n",
            "30/30 [==============================] - 1s 30ms/step - loss: 0.0546 - accuracy: 0.9831 - val_loss: 0.4033 - val_accuracy: 0.8800\n",
            "Epoch 9/20\n",
            "30/30 [==============================] - 1s 29ms/step - loss: 0.0168 - accuracy: 0.9975 - val_loss: 0.4754 - val_accuracy: 0.8723\n",
            "Epoch 10/20\n",
            "30/30 [==============================] - 1s 30ms/step - loss: 0.0429 - accuracy: 0.9884 - val_loss: 0.4898 - val_accuracy: 0.8772\n",
            "Epoch 11/20\n",
            "30/30 [==============================] - 1s 29ms/step - loss: 0.0065 - accuracy: 0.9997 - val_loss: 0.5468 - val_accuracy: 0.8761\n",
            "Epoch 12/20\n",
            "30/30 [==============================] - 1s 29ms/step - loss: 0.0382 - accuracy: 0.9894 - val_loss: 0.5713 - val_accuracy: 0.8766\n",
            "Epoch 13/20\n",
            "30/30 [==============================] - 1s 31ms/step - loss: 0.0026 - accuracy: 0.9999 - val_loss: 0.6160 - val_accuracy: 0.8771\n",
            "Epoch 14/20\n",
            "30/30 [==============================] - 1s 31ms/step - loss: 0.0017 - accuracy: 0.9999 - val_loss: 0.8395 - val_accuracy: 0.8561\n",
            "Epoch 15/20\n",
            "30/30 [==============================] - 1s 31ms/step - loss: 0.0295 - accuracy: 0.9915 - val_loss: 0.6891 - val_accuracy: 0.8742\n",
            "Epoch 16/20\n",
            "30/30 [==============================] - 1s 31ms/step - loss: 8.4150e-04 - accuracy: 0.9999 - val_loss: 0.7378 - val_accuracy: 0.8731\n",
            "Epoch 17/20\n",
            "30/30 [==============================] - 1s 30ms/step - loss: 5.3133e-04 - accuracy: 1.0000 - val_loss: 0.8168 - val_accuracy: 0.8743\n",
            "Epoch 18/20\n",
            "30/30 [==============================] - 1s 29ms/step - loss: 0.0234 - accuracy: 0.9941 - val_loss: 0.8288 - val_accuracy: 0.8731\n",
            "Epoch 19/20\n",
            "30/30 [==============================] - 1s 31ms/step - loss: 2.5077e-04 - accuracy: 1.0000 - val_loss: 0.8534 - val_accuracy: 0.8732\n",
            "Epoch 20/20\n",
            "30/30 [==============================] - 1s 30ms/step - loss: 1.7090e-04 - accuracy: 1.0000 - val_loss: 0.8924 - val_accuracy: 0.8733\n"
          ]
        }
      ]
    },
    {
      "cell_type": "code",
      "source": [
        "history_dict64 = history64.history\n",
        "history_dict64.keys()"
      ],
      "metadata": {
        "colab": {
          "base_uri": "https://localhost:8080/"
        },
        "id": "2u2kkTad2r4i",
        "outputId": "fe22d218-2f23-45fc-a949-bb57e57a651e"
      },
      "execution_count": 130,
      "outputs": [
        {
          "output_type": "execute_result",
          "data": {
            "text/plain": [
              "dict_keys(['loss', 'accuracy', 'val_loss', 'val_accuracy'])"
            ]
          },
          "metadata": {},
          "execution_count": 130
        }
      ]
    },
    {
      "cell_type": "markdown",
      "source": [
        "Plotting graph between Training and Validation Loss"
      ],
      "metadata": {
        "id": "F37tVdejraDb"
      }
    },
    {
      "cell_type": "code",
      "source": [
        "loss_values = history_dict64[\"loss\"]\n",
        "val_loss_values = history_dict64[\"val_loss\"]\n",
        "epochs = range(1, len(loss_values) + 1)\n",
        "plt.plot(epochs, loss_values, \"bo\", label=\"Training loss\")\n",
        "plt.plot(epochs, val_loss_values, \"b\", label=\"Validation loss\")\n",
        "plt.title(\"Training and validation loss\")\n",
        "plt.xlabel(\"Epochs\")\n",
        "plt.ylabel(\"Loss\")\n",
        "plt.legend()\n",
        "plt.show()"
      ],
      "metadata": {
        "colab": {
          "base_uri": "https://localhost:8080/",
          "height": 295
        },
        "id": "9e3SEtfW2wVl",
        "outputId": "73bffee3-cc90-43c6-eec0-c8eb2b1005f2"
      },
      "execution_count": 131,
      "outputs": [
        {
          "output_type": "display_data",
          "data": {
            "text/plain": [
              "<Figure size 432x288 with 1 Axes>"
            ],
            "image/png": "[encoded data removed]"
          },
          "metadata": {
            "needs_background": "light"
          }
        }
      ]
    },
    {
      "cell_type": "markdown",
      "source": [
        "Plotting graph between Training and Validation Accuracy"
      ],
      "metadata": {
        "id": "9R66tHCFrcnF"
      }
    },
    {
      "cell_type": "code",
      "source": [
        "plt.clf()\n",
        "acc = history_dict64[\"accuracy\"]\n",
        "val_acc = history_dict64[\"val_accuracy\"]\n",
        "plt.plot(epochs, acc, \"bo\", label=\"Training acc\")\n",
        "plt.plot(epochs, val_acc, \"b\", label=\"Validation acc\")\n",
        "plt.title(\"Training and validation accuracy\")\n",
        "plt.xlabel(\"Epochs\")\n",
        "plt.ylabel(\"Accuracy\")\n",
        "plt.legend()\n",
        "plt.show()"
      ],
      "metadata": {
        "colab": {
          "base_uri": "https://localhost:8080/",
          "height": 295
        },
        "id": "CPUs4dBq2z_b",
        "outputId": "a9622030-a1e2-4763-b168-27f64abc4ef0"
      },
      "execution_count": 132,
      "outputs": [
        {
          "output_type": "display_data",
          "data": {
            "text/plain": [
              "<Figure size 432x288 with 1 Axes>"
            ],
            "image/png": "[encoded data removed]"
          },
          "metadata": {
            "needs_background": "light"
          }
        }
      ]
    },
    {
      "cell_type": "code",
      "source": [
        "history_64 = model_64.fit(x_train, y_train, epochs=3, batch_size=512)\n",
        "results_64 = model_64.evaluate(x_test, y_test)\n",
        "results_64"
      ],
      "metadata": {
        "colab": {
          "base_uri": "https://localhost:8080/"
        },
        "id": "1VNN9atS224-",
        "outputId": "0d7418b0-bffa-4660-c9ce-aacc56382f9e"
      },
      "execution_count": 133,
      "outputs": [
        {
          "output_type": "stream",
          "name": "stdout",
          "text": [
            "Epoch 1/3\n",
            "49/49 [==============================] - 1s 22ms/step - loss: 0.2218 - accuracy: 0.9455\n",
            "Epoch 2/3\n",
            "49/49 [==============================] - 1s 22ms/step - loss: 0.1001 - accuracy: 0.9686\n",
            "Epoch 3/3\n",
            "49/49 [==============================] - 1s 22ms/step - loss: 0.0591 - accuracy: 0.9817\n",
            "782/782 [==============================] - 2s 3ms/step - loss: 0.5171 - accuracy: 0.8642\n"
          ]
        },
        {
          "output_type": "execute_result",
          "data": {
            "text/plain": [
              "[0.5170963406562805, 0.8641600012779236]"
            ]
          },
          "metadata": {},
          "execution_count": 133
        }
      ]
    },
    {
      "cell_type": "code",
      "source": [
        "model_64.predict(x_test)"
      ],
      "metadata": {
        "colab": {
          "base_uri": "https://localhost:8080/"
        },
        "id": "gfYJ4xJe25pd",
        "outputId": "f469102b-ec6d-4f7f-fdc5-d9876bb74c0d"
      },
      "execution_count": 134,
      "outputs": [
        {
          "output_type": "execute_result",
          "data": {
            "text/plain": [
              "array([[0.0159097 ],\n",
              "       [1.        ],\n",
              "       [0.9999905 ],\n",
              "       ...,\n",
              "       [0.0738408 ],\n",
              "       [0.02603778],\n",
              "       [0.8346243 ]], dtype=float32)"
            ]
          },
          "metadata": {},
          "execution_count": 134
        }
      ]
    },
    {
      "cell_type": "markdown",
      "source": [
        "**Training the model with 128-Units**"
      ],
      "metadata": {
        "id": "ml1LOON_58Oo"
      }
    },
    {
      "cell_type": "code",
      "source": [
        "np.random.seed(123)\n",
        "model_128 = keras.Sequential([\n",
        "    layers.Dense(128, activation=\"relu\"),\n",
        "    layers.Dense(128, activation=\"relu\"),\n",
        "    layers.Dense(1, activation=\"sigmoid\")\n",
        "])\n",
        "model_128.compile(optimizer=\"rmsprop\",\n",
        "              loss=\"binary_crossentropy\",\n",
        "              metrics=[\"accuracy\"])\n",
        "# validation\n",
        "x_val = x_train[:10000]\n",
        "partial_x_train = x_train[10000:]\n",
        "\n",
        "y_val = y_train[:10000]\n",
        "partial_y_train = y_train[10000:]\n",
        "\n",
        "np.random.seed(123)\n",
        "history128 = model_128.fit(partial_x_train,\n",
        "                    partial_y_train,\n",
        "                    epochs=20,\n",
        "                    batch_size=512,\n",
        "                    validation_data=(x_val, y_val))"
      ],
      "metadata": {
        "colab": {
          "base_uri": "https://localhost:8080/"
        },
        "id": "ZQcrIq2T5_TI",
        "outputId": "e4665b64-f132-4d10-c7fa-250fde40e487"
      },
      "execution_count": 135,
      "outputs": [
        {
          "output_type": "stream",
          "name": "stdout",
          "text": [
            "Epoch 1/20\n",
            "30/30 [==============================] - 2s 50ms/step - loss: 0.4905 - accuracy: 0.7853 - val_loss: 0.3150 - val_accuracy: 0.8813\n",
            "Epoch 2/20\n",
            "30/30 [==============================] - 1s 42ms/step - loss: 0.2589 - accuracy: 0.9027 - val_loss: 0.3860 - val_accuracy: 0.8459\n",
            "Epoch 3/20\n",
            "30/30 [==============================] - 1s 40ms/step - loss: 0.1766 - accuracy: 0.9323 - val_loss: 0.2878 - val_accuracy: 0.8882\n",
            "Epoch 4/20\n",
            "30/30 [==============================] - 1s 40ms/step - loss: 0.1443 - accuracy: 0.9459 - val_loss: 0.3024 - val_accuracy: 0.8863\n",
            "Epoch 5/20\n",
            "30/30 [==============================] - 1s 42ms/step - loss: 0.0833 - accuracy: 0.9729 - val_loss: 0.3402 - val_accuracy: 0.8832\n",
            "Epoch 6/20\n",
            "30/30 [==============================] - 1s 41ms/step - loss: 0.0599 - accuracy: 0.9801 - val_loss: 0.3925 - val_accuracy: 0.8820\n",
            "Epoch 7/20\n",
            "30/30 [==============================] - 1s 41ms/step - loss: 0.0529 - accuracy: 0.9843 - val_loss: 0.3889 - val_accuracy: 0.8823\n",
            "Epoch 8/20\n",
            "30/30 [==============================] - 1s 41ms/step - loss: 0.0083 - accuracy: 0.9991 - val_loss: 0.4941 - val_accuracy: 0.8821\n",
            "Epoch 9/20\n",
            "30/30 [==============================] - 1s 40ms/step - loss: 0.0805 - accuracy: 0.9853 - val_loss: 0.4995 - val_accuracy: 0.8806\n",
            "Epoch 10/20\n",
            "30/30 [==============================] - 1s 41ms/step - loss: 0.0021 - accuracy: 0.9999 - val_loss: 0.5640 - val_accuracy: 0.8800\n",
            "Epoch 11/20\n",
            "30/30 [==============================] - 1s 41ms/step - loss: 9.9870e-04 - accuracy: 0.9999 - val_loss: 0.6504 - val_accuracy: 0.8816\n",
            "Epoch 12/20\n",
            "30/30 [==============================] - 1s 41ms/step - loss: 4.1492e-04 - accuracy: 1.0000 - val_loss: 0.7521 - val_accuracy: 0.8788\n",
            "Epoch 13/20\n",
            "30/30 [==============================] - 1s 39ms/step - loss: 0.1093 - accuracy: 0.9869 - val_loss: 0.7759 - val_accuracy: 0.8769\n",
            "Epoch 14/20\n",
            "30/30 [==============================] - 1s 43ms/step - loss: 1.4167e-04 - accuracy: 1.0000 - val_loss: 0.7911 - val_accuracy: 0.8776\n",
            "Epoch 15/20\n",
            "30/30 [==============================] - 1s 42ms/step - loss: 9.3291e-05 - accuracy: 1.0000 - val_loss: 0.8183 - val_accuracy: 0.8774\n",
            "Epoch 16/20\n",
            "30/30 [==============================] - 1s 42ms/step - loss: 6.0300e-05 - accuracy: 1.0000 - val_loss: 0.8656 - val_accuracy: 0.8780\n",
            "Epoch 17/20\n",
            "30/30 [==============================] - 1s 41ms/step - loss: 3.3182e-05 - accuracy: 1.0000 - val_loss: 0.9401 - val_accuracy: 0.8769\n",
            "Epoch 18/20\n",
            "30/30 [==============================] - 1s 41ms/step - loss: 1.3732e-05 - accuracy: 1.0000 - val_loss: 1.0298 - val_accuracy: 0.8759\n",
            "Epoch 19/20\n",
            "30/30 [==============================] - 1s 41ms/step - loss: 0.1060 - accuracy: 0.9879 - val_loss: 0.9831 - val_accuracy: 0.8750\n",
            "Epoch 20/20\n",
            "30/30 [==============================] - 1s 41ms/step - loss: 1.1387e-05 - accuracy: 1.0000 - val_loss: 0.9877 - val_accuracy: 0.8762\n"
          ]
        }
      ]
    },
    {
      "cell_type": "code",
      "source": [
        "history_dict128 = history128.history\n",
        "history_dict128.keys()"
      ],
      "metadata": {
        "colab": {
          "base_uri": "https://localhost:8080/"
        },
        "id": "1KK-mMcY7kpl",
        "outputId": "2c5e2627-fa64-4ba0-f58d-d429aa6c4c50"
      },
      "execution_count": 136,
      "outputs": [
        {
          "output_type": "execute_result",
          "data": {
            "text/plain": [
              "dict_keys(['loss', 'accuracy', 'val_loss', 'val_accuracy'])"
            ]
          },
          "metadata": {},
          "execution_count": 136
        }
      ]
    },
    {
      "cell_type": "markdown",
      "source": [
        "Plotting graph between Training and Validation loss"
      ],
      "metadata": {
        "id": "R9HtWn4zrfxe"
      }
    },
    {
      "cell_type": "code",
      "source": [
        "loss_values = history_dict128[\"loss\"]\n",
        "val_loss_values = history_dict128[\"val_loss\"]\n",
        "epochs = range(1, len(loss_values) + 1)\n",
        "plt.plot(epochs, loss_values, \"bo\", label=\"Training loss\")\n",
        "plt.plot(epochs, val_loss_values, \"b\", label=\"Validation loss\")\n",
        "plt.title(\"Training and validation loss\")\n",
        "plt.xlabel(\"Epochs\")\n",
        "plt.ylabel(\"Loss\")\n",
        "plt.legend()\n",
        "plt.show()"
      ],
      "metadata": {
        "colab": {
          "base_uri": "https://localhost:8080/",
          "height": 295
        },
        "id": "szD1ShRt7ZF8",
        "outputId": "0a9c0277-6d95-4b7b-9338-8e84fea6777f"
      },
      "execution_count": 137,
      "outputs": [
        {
          "output_type": "display_data",
          "data": {
            "text/plain": [
              "<Figure size 432x288 with 1 Axes>"
            ],
            "image/png": "[encoded data removed]"
          },
          "metadata": {
            "needs_background": "light"
          }
        }
      ]
    },
    {
      "cell_type": "markdown",
      "source": [
        "Plotting graph between Training and Validation Accuracy"
      ],
      "metadata": {
        "id": "jbjEFZ7griT5"
      }
    },
    {
      "cell_type": "code",
      "source": [
        "plt.clf()\n",
        "acc = history_dict128[\"accuracy\"]\n",
        "val_acc = history_dict128[\"val_accuracy\"]\n",
        "plt.plot(epochs, acc, \"bo\", label=\"Training acc\")\n",
        "plt.plot(epochs, val_acc, \"b\", label=\"Validation acc\")\n",
        "plt.title(\"Training and validation accuracy\")\n",
        "plt.xlabel(\"Epochs\")\n",
        "plt.ylabel(\"Accuracy\")\n",
        "plt.legend()\n",
        "plt.show()"
      ],
      "metadata": {
        "colab": {
          "base_uri": "https://localhost:8080/",
          "height": 295
        },
        "id": "qW6A6t547vbe",
        "outputId": "894bb05e-3f73-498d-e668-8a6052f83ec4"
      },
      "execution_count": 138,
      "outputs": [
        {
          "output_type": "display_data",
          "data": {
            "text/plain": [
              "<Figure size 432x288 with 1 Axes>"
            ],
            "image/png": "[encoded data removed]"
          },
          "metadata": {
            "needs_background": "light"
          }
        }
      ]
    },
    {
      "cell_type": "code",
      "source": [
        "history_128 = model_128.fit(x_train, y_train, epochs=2, batch_size=512)\n",
        "results_128 = model_128.evaluate(x_test, y_test)\n",
        "results_128"
      ],
      "metadata": {
        "colab": {
          "base_uri": "https://localhost:8080/"
        },
        "id": "EDNr6TDs6DYL",
        "outputId": "dadaf312-22d2-4901-bbcf-b4b84fca703f"
      },
      "execution_count": 139,
      "outputs": [
        {
          "output_type": "stream",
          "name": "stdout",
          "text": [
            "Epoch 1/2\n",
            "49/49 [==============================] - 2s 32ms/step - loss: 0.1932 - accuracy: 0.9476\n",
            "Epoch 2/2\n",
            "49/49 [==============================] - 2s 31ms/step - loss: 0.0751 - accuracy: 0.9756\n",
            "782/782 [==============================] - 3s 4ms/step - loss: 0.4232 - accuracy: 0.8720\n"
          ]
        },
        {
          "output_type": "execute_result",
          "data": {
            "text/plain": [
              "[0.42320406436920166, 0.871999979019165]"
            ]
          },
          "metadata": {},
          "execution_count": 139
        }
      ]
    },
    {
      "cell_type": "code",
      "source": [
        "model_128.predict(x_test)"
      ],
      "metadata": {
        "colab": {
          "base_uri": "https://localhost:8080/"
        },
        "id": "BEWr3wbW7J5S",
        "outputId": "1732ec39-2346-472d-84d0-301dd8ff9405"
      },
      "execution_count": 140,
      "outputs": [
        {
          "output_type": "execute_result",
          "data": {
            "text/plain": [
              "array([[0.025334  ],\n",
              "       [1.        ],\n",
              "       [0.9999443 ],\n",
              "       ...,\n",
              "       [0.06409588],\n",
              "       [0.02785847],\n",
              "       [0.8473625 ]], dtype=float32)"
            ]
          },
          "metadata": {},
          "execution_count": 140
        }
      ]
    },
    {
      "cell_type": "markdown",
      "source": [
        "**Observations:**\n",
        "\n",
        "-> For 32-units,the accuracy on the validation set is 86.13%.\n",
        "\n",
        "-> For 64-units,the accuracy on the validation set is 86.41%.\n",
        "\n",
        "-> For 128-units,the accuracy on the validation set is 87.19%.It seems like increasing the number of units the model performance's tends to increase."
      ],
      "metadata": {
        "id": "jdXv3SDs8vKC"
      }
    },
    {
      "cell_type": "markdown",
      "source": [
        "**Neural Network with MSE Loss Function**"
      ],
      "metadata": {
        "id": "g28L256a8Xbl"
      }
    },
    {
      "cell_type": "markdown",
      "source": [
        "The Mean Squared Error, or MSE, loss is the default loss to use for regression problems.The mean squared error loss function can be used in Keras by specifying ‘mse‘ or ‘mean_squared_error‘ as the loss function when compiling the model."
      ],
      "metadata": {
        "id": "8SoDbA3T7Pln"
      }
    },
    {
      "cell_type": "markdown",
      "source": [
        "Let's try to use MSE loss function instead of binary_crossentropy loss function and check results"
      ],
      "metadata": {
        "id": "yKVDZkA56V3b"
      }
    },
    {
      "cell_type": "code",
      "source": [
        "np.random.seed(123)\n",
        "model_MSE = keras.Sequential([\n",
        "    layers.Dense(16, activation=\"relu\"),\n",
        "    layers.Dense(16, activation=\"relu\"),\n",
        "    layers.Dense(1, activation=\"sigmoid\")\n",
        "])\n",
        "#Model compilation\n",
        "model_MSE.compile(optimizer=\"rmsprop\",\n",
        "              loss=\"mse\",\n",
        "              metrics=[\"accuracy\"])\n",
        "# validation\n",
        "x_val = x_train[:10000]\n",
        "partial_x_train = x_train[10000:]\n",
        "\n",
        "y_val = y_train[:10000]\n",
        "partial_y_train = y_train[10000:]\n",
        "# Model Fit\n",
        "np.random.seed(123)\n",
        "history_model_MSE = model_MSE.fit(partial_x_train,\n",
        "                    partial_y_train,\n",
        "                    epochs=20,\n",
        "                    batch_size=512,\n",
        "                    validation_data=(x_val, y_val))\n"
      ],
      "metadata": {
        "colab": {
          "base_uri": "https://localhost:8080/"
        },
        "id": "sIY20vGN8nO1",
        "outputId": "2ff3451b-b2ee-4531-98b4-64a1c36192af"
      },
      "execution_count": 141,
      "outputs": [
        {
          "output_type": "stream",
          "name": "stdout",
          "text": [
            "Epoch 1/20\n",
            "30/30 [==============================] - 1s 23ms/step - loss: 0.1846 - accuracy: 0.7756 - val_loss: 0.1303 - val_accuracy: 0.8677\n",
            "Epoch 2/20\n",
            "30/30 [==============================] - 0s 16ms/step - loss: 0.1018 - accuracy: 0.8975 - val_loss: 0.0995 - val_accuracy: 0.8843\n",
            "Epoch 3/20\n",
            "30/30 [==============================] - 1s 17ms/step - loss: 0.0723 - accuracy: 0.9243 - val_loss: 0.0881 - val_accuracy: 0.8870\n",
            "Epoch 4/20\n",
            "30/30 [==============================] - 0s 16ms/step - loss: 0.0548 - accuracy: 0.9439 - val_loss: 0.0890 - val_accuracy: 0.8825\n",
            "Epoch 5/20\n",
            "30/30 [==============================] - 1s 17ms/step - loss: 0.0442 - accuracy: 0.9542 - val_loss: 0.0853 - val_accuracy: 0.8840\n",
            "Epoch 6/20\n",
            "30/30 [==============================] - 1s 17ms/step - loss: 0.0361 - accuracy: 0.9649 - val_loss: 0.0827 - val_accuracy: 0.8880\n",
            "Epoch 7/20\n",
            "30/30 [==============================] - 1s 17ms/step - loss: 0.0287 - accuracy: 0.9732 - val_loss: 0.0844 - val_accuracy: 0.8862\n",
            "Epoch 8/20\n",
            "30/30 [==============================] - 1s 17ms/step - loss: 0.0242 - accuracy: 0.9781 - val_loss: 0.0861 - val_accuracy: 0.8834\n",
            "Epoch 9/20\n",
            "30/30 [==============================] - 0s 16ms/step - loss: 0.0195 - accuracy: 0.9838 - val_loss: 0.0922 - val_accuracy: 0.8782\n",
            "Epoch 10/20\n",
            "30/30 [==============================] - 1s 17ms/step - loss: 0.0160 - accuracy: 0.9867 - val_loss: 0.0916 - val_accuracy: 0.8788\n",
            "Epoch 11/20\n",
            "30/30 [==============================] - 0s 16ms/step - loss: 0.0131 - accuracy: 0.9896 - val_loss: 0.0931 - val_accuracy: 0.8774\n",
            "Epoch 12/20\n",
            "30/30 [==============================] - 1s 18ms/step - loss: 0.0108 - accuracy: 0.9922 - val_loss: 0.0954 - val_accuracy: 0.8765\n",
            "Epoch 13/20\n",
            "30/30 [==============================] - 1s 17ms/step - loss: 0.0093 - accuracy: 0.9931 - val_loss: 0.0970 - val_accuracy: 0.8738\n",
            "Epoch 14/20\n",
            "30/30 [==============================] - 0s 17ms/step - loss: 0.0070 - accuracy: 0.9951 - val_loss: 0.0996 - val_accuracy: 0.8717\n",
            "Epoch 15/20\n",
            "30/30 [==============================] - 1s 17ms/step - loss: 0.0054 - accuracy: 0.9960 - val_loss: 0.1031 - val_accuracy: 0.8677\n",
            "Epoch 16/20\n",
            "30/30 [==============================] - 0s 16ms/step - loss: 0.0053 - accuracy: 0.9960 - val_loss: 0.1034 - val_accuracy: 0.8697\n",
            "Epoch 17/20\n",
            "30/30 [==============================] - 0s 17ms/step - loss: 0.0052 - accuracy: 0.9950 - val_loss: 0.1091 - val_accuracy: 0.8647\n",
            "Epoch 18/20\n",
            "30/30 [==============================] - 1s 17ms/step - loss: 0.0032 - accuracy: 0.9973 - val_loss: 0.1075 - val_accuracy: 0.8655\n",
            "Epoch 19/20\n",
            "30/30 [==============================] - 1s 17ms/step - loss: 0.0045 - accuracy: 0.9956 - val_loss: 0.1076 - val_accuracy: 0.8682\n",
            "Epoch 20/20\n",
            "30/30 [==============================] - 0s 16ms/step - loss: 0.0027 - accuracy: 0.9975 - val_loss: 0.1083 - val_accuracy: 0.8667\n"
          ]
        }
      ]
    },
    {
      "cell_type": "code",
      "source": [
        "history_dict_MSE = history_model_MSE.history\n",
        "history_dict_MSE.keys()"
      ],
      "metadata": {
        "colab": {
          "base_uri": "https://localhost:8080/"
        },
        "id": "whFpX7Bh9SEJ",
        "outputId": "67b4559c-c0c9-4634-f8af-0c6f4029a20b"
      },
      "execution_count": 142,
      "outputs": [
        {
          "output_type": "execute_result",
          "data": {
            "text/plain": [
              "dict_keys(['loss', 'accuracy', 'val_loss', 'val_accuracy'])"
            ]
          },
          "metadata": {},
          "execution_count": 142
        }
      ]
    },
    {
      "cell_type": "markdown",
      "source": [
        "Plotting graph between Training and Validation loss"
      ],
      "metadata": {
        "id": "E-ON1lX2rtqh"
      }
    },
    {
      "cell_type": "code",
      "source": [
        "import matplotlib.pyplot as plt\n",
        "loss_values = history_dict_MSE[\"loss\"]\n",
        "val_loss_values = history_dict_MSE[\"val_loss\"]\n",
        "epochs = range(1, len(loss_values) + 1)\n",
        "plt.plot(epochs, loss_values, \"bo\", label=\"Training loss\")\n",
        "plt.plot(epochs, val_loss_values, \"b\", label=\"Validation loss\")\n",
        "plt.title(\"Training and validation loss\")\n",
        "plt.xlabel(\"Epochs\")\n",
        "plt.ylabel(\"Loss\")\n",
        "plt.legend()\n",
        "plt.show()"
      ],
      "metadata": {
        "colab": {
          "base_uri": "https://localhost:8080/",
          "height": 295
        },
        "id": "AntjZD-g9fgh",
        "outputId": "156ff912-2834-43cb-87ea-e472b195aa52"
      },
      "execution_count": 143,
      "outputs": [
        {
          "output_type": "display_data",
          "data": {
            "text/plain": [
              "<Figure size 432x288 with 1 Axes>"
            ],
            "image/png": "[encoded data removed]"
          },
          "metadata": {
            "needs_background": "light"
          }
        }
      ]
    },
    {
      "cell_type": "markdown",
      "source": [
        "Plotting graph between Training and Validation Accuracy"
      ],
      "metadata": {
        "id": "cDhwLUyjrwO_"
      }
    },
    {
      "cell_type": "code",
      "source": [
        "plt.clf()\n",
        "acc = history_dict_MSE[\"accuracy\"]\n",
        "val_acc = history_dict_MSE[\"val_accuracy\"]\n",
        "plt.plot(epochs, acc, \"bo\", label=\"Training acc\")\n",
        "plt.plot(epochs, val_acc, \"b\", label=\"Validation acc\")\n",
        "plt.title(\"Training and validation accuracy\")\n",
        "plt.xlabel(\"Epochs\")\n",
        "plt.ylabel(\"Accuracy\")\n",
        "plt.legend()\n",
        "plt.show()"
      ],
      "metadata": {
        "colab": {
          "base_uri": "https://localhost:8080/",
          "height": 295
        },
        "id": "1U8ZdF7z9gYK",
        "outputId": "2b4c04d9-ac96-42f9-e287-66b20882540a"
      },
      "execution_count": 144,
      "outputs": [
        {
          "output_type": "display_data",
          "data": {
            "text/plain": [
              "<Figure size 432x288 with 1 Axes>"
            ],
            "image/png": "[encoded data removed]"
          },
          "metadata": {
            "needs_background": "light"
          }
        }
      ]
    },
    {
      "cell_type": "code",
      "source": [
        "model_MSE.fit(x_train, y_train, epochs=8, batch_size=512)\n",
        "results_MSE = model_MSE.evaluate(x_test, y_test)\n",
        "results_MSE"
      ],
      "metadata": {
        "colab": {
          "base_uri": "https://localhost:8080/"
        },
        "id": "CoE4IzDi9mBc",
        "outputId": "b4cc4ce6-cc9f-4cd4-a55d-7579113e31f8"
      },
      "execution_count": 145,
      "outputs": [
        {
          "output_type": "stream",
          "name": "stdout",
          "text": [
            "Epoch 1/8\n",
            "49/49 [==============================] - 1s 12ms/step - loss: 0.0447 - accuracy: 0.9467\n",
            "Epoch 2/8\n",
            "49/49 [==============================] - 1s 12ms/step - loss: 0.0325 - accuracy: 0.9629\n",
            "Epoch 3/8\n",
            "49/49 [==============================] - 1s 12ms/step - loss: 0.0260 - accuracy: 0.9714\n",
            "Epoch 4/8\n",
            "49/49 [==============================] - 1s 12ms/step - loss: 0.0217 - accuracy: 0.9773\n",
            "Epoch 5/8\n",
            "49/49 [==============================] - 1s 12ms/step - loss: 0.0186 - accuracy: 0.9812\n",
            "Epoch 6/8\n",
            "49/49 [==============================] - 1s 12ms/step - loss: 0.0162 - accuracy: 0.9834\n",
            "Epoch 7/8\n",
            "49/49 [==============================] - 1s 12ms/step - loss: 0.0139 - accuracy: 0.9861\n",
            "Epoch 8/8\n",
            "49/49 [==============================] - 1s 12ms/step - loss: 0.0127 - accuracy: 0.9869\n",
            "782/782 [==============================] - 1s 2ms/step - loss: 0.1177 - accuracy: 0.8590\n"
          ]
        },
        {
          "output_type": "execute_result",
          "data": {
            "text/plain": [
              "[0.11767461150884628, 0.8590400218963623]"
            ]
          },
          "metadata": {},
          "execution_count": 145
        }
      ]
    },
    {
      "cell_type": "code",
      "source": [
        "model_MSE.predict(x_test)"
      ],
      "metadata": {
        "colab": {
          "base_uri": "https://localhost:8080/"
        },
        "id": "9MhRQNTu-KHd",
        "outputId": "7a4ff3c3-5839-494e-9adc-44c4eabde308"
      },
      "execution_count": 146,
      "outputs": [
        {
          "output_type": "execute_result",
          "data": {
            "text/plain": [
              "array([[9.4428658e-04],\n",
              "       [9.9998510e-01],\n",
              "       [9.8560226e-01],\n",
              "       ...,\n",
              "       [5.7458371e-02],\n",
              "       [2.0643771e-03],\n",
              "       [9.4083512e-01]], dtype=float32)"
            ]
          },
          "metadata": {},
          "execution_count": 146
        }
      ]
    },
    {
      "cell_type": "markdown",
      "source": [
        "**Observations:**\n",
        "\n",
        "First of all, cross-entropy (or softmax loss, but cross-entropy is more effective) is a better measure for classification than MSE, since the decision boundary in a classification task is large when compared with regression.Despite being non-satisfactory for misclassifications, MSE is relevant for regressions with small distances between predictable values.\n",
        "\n",
        "Here, I find no real difference between the two functions, but Binarycross entropy shows slightly better accuracy."
      ],
      "metadata": {
        "id": "8DJ11bN3CLQL"
      }
    },
    {
      "cell_type": "markdown",
      "source": [
        "**Neural Network using Tanh Activation Function** "
      ],
      "metadata": {
        "id": "Gw4vJZ3I-Jvy"
      }
    },
    {
      "cell_type": "markdown",
      "source": [
        "Tanh is also a very common activation function.Due to its nonlinear nature, it is bound to the range (-1, 1).In tanh, the gradient is stronger than in sigmoid."
      ],
      "metadata": {
        "id": "BOnDeGqm6zno"
      }
    },
    {
      "cell_type": "markdown",
      "source": [
        "Let's try to use tanh activation function instead of relu activation function and validate the results"
      ],
      "metadata": {
        "id": "Z20ug9Br6krt"
      }
    },
    {
      "cell_type": "code",
      "source": [
        "np.random.seed(123)\n",
        "model_tanh = keras.Sequential([\n",
        "    layers.Dense(16, activation=\"tanh\"),\n",
        "    layers.Dense(16, activation=\"tanh\"),\n",
        "    layers.Dense(1, activation=\"sigmoid\")\n",
        "])\n",
        "\n",
        "model_tanh.compile(optimizer='rmsprop',\n",
        "              loss='binary_crossentropy',\n",
        "              metrics=['accuracy'])\n",
        "\n",
        "x_val = x_train[:10000]\n",
        "partial_x_train = x_train[10000:]\n",
        "\n",
        "y_val = y_train[:10000]\n",
        "partial_y_train = y_train[10000:]\n",
        "\n",
        "np.random.seed(123) \n",
        "\n",
        "history_tanh = model_tanh.fit(partial_x_train,\n",
        "                    partial_y_train,\n",
        "                    epochs=20,\n",
        "                    batch_size=512,\n",
        "                    validation_data=(x_val, y_val))"
      ],
      "metadata": {
        "colab": {
          "base_uri": "https://localhost:8080/"
        },
        "id": "EkjymirS-i0v",
        "outputId": "8429f479-33de-4800-d1b4-9ab10b9a754f"
      },
      "execution_count": 147,
      "outputs": [
        {
          "output_type": "stream",
          "name": "stdout",
          "text": [
            "Epoch 1/20\n",
            "30/30 [==============================] - 1s 24ms/step - loss: 0.4721 - accuracy: 0.8043 - val_loss: 0.3617 - val_accuracy: 0.8652\n",
            "Epoch 2/20\n",
            "30/30 [==============================] - 1s 17ms/step - loss: 0.2725 - accuracy: 0.9072 - val_loss: 0.3176 - val_accuracy: 0.8639\n",
            "Epoch 3/20\n",
            "30/30 [==============================] - 0s 16ms/step - loss: 0.1935 - accuracy: 0.9343 - val_loss: 0.2709 - val_accuracy: 0.8876\n",
            "Epoch 4/20\n",
            "30/30 [==============================] - 0s 17ms/step - loss: 0.1450 - accuracy: 0.9502 - val_loss: 0.3251 - val_accuracy: 0.8713\n",
            "Epoch 5/20\n",
            "30/30 [==============================] - 0s 16ms/step - loss: 0.1144 - accuracy: 0.9617 - val_loss: 0.3270 - val_accuracy: 0.8785\n",
            "Epoch 6/20\n",
            "30/30 [==============================] - 0s 16ms/step - loss: 0.0856 - accuracy: 0.9732 - val_loss: 0.3357 - val_accuracy: 0.8824\n",
            "Epoch 7/20\n",
            "30/30 [==============================] - 1s 18ms/step - loss: 0.0681 - accuracy: 0.9787 - val_loss: 0.3747 - val_accuracy: 0.8799\n",
            "Epoch 8/20\n",
            "30/30 [==============================] - 1s 17ms/step - loss: 0.0569 - accuracy: 0.9825 - val_loss: 0.4393 - val_accuracy: 0.8728\n",
            "Epoch 9/20\n",
            "30/30 [==============================] - 0s 17ms/step - loss: 0.0444 - accuracy: 0.9867 - val_loss: 0.4503 - val_accuracy: 0.8734\n",
            "Epoch 10/20\n",
            "30/30 [==============================] - 0s 16ms/step - loss: 0.0357 - accuracy: 0.9903 - val_loss: 0.4951 - val_accuracy: 0.8700\n",
            "Epoch 11/20\n",
            "30/30 [==============================] - 1s 17ms/step - loss: 0.0170 - accuracy: 0.9973 - val_loss: 0.6881 - val_accuracy: 0.8467\n",
            "Epoch 12/20\n",
            "30/30 [==============================] - 1s 18ms/step - loss: 0.0294 - accuracy: 0.9903 - val_loss: 0.5765 - val_accuracy: 0.8682\n",
            "Epoch 13/20\n",
            "30/30 [==============================] - 0s 17ms/step - loss: 0.0085 - accuracy: 0.9991 - val_loss: 0.6201 - val_accuracy: 0.8680\n",
            "Epoch 14/20\n",
            "30/30 [==============================] - 0s 17ms/step - loss: 0.0218 - accuracy: 0.9935 - val_loss: 0.6592 - val_accuracy: 0.8669\n",
            "Epoch 15/20\n",
            "30/30 [==============================] - 1s 17ms/step - loss: 0.0033 - accuracy: 0.9996 - val_loss: 0.6910 - val_accuracy: 0.8640\n",
            "Epoch 16/20\n",
            "30/30 [==============================] - 0s 17ms/step - loss: 0.0161 - accuracy: 0.9951 - val_loss: 0.7173 - val_accuracy: 0.8648\n",
            "Epoch 17/20\n",
            "30/30 [==============================] - 0s 16ms/step - loss: 0.0014 - accuracy: 1.0000 - val_loss: 0.7478 - val_accuracy: 0.8637\n",
            "Epoch 18/20\n",
            "30/30 [==============================] - 1s 17ms/step - loss: 8.3044e-04 - accuracy: 1.0000 - val_loss: 0.8156 - val_accuracy: 0.8624\n",
            "Epoch 19/20\n",
            "30/30 [==============================] - 0s 16ms/step - loss: 0.0234 - accuracy: 0.9944 - val_loss: 0.8445 - val_accuracy: 0.8611\n",
            "Epoch 20/20\n",
            "30/30 [==============================] - 0s 16ms/step - loss: 4.0263e-04 - accuracy: 1.0000 - val_loss: 0.8517 - val_accuracy: 0.8612\n"
          ]
        }
      ]
    },
    {
      "cell_type": "code",
      "source": [
        "history_dict_tanh = history_tanh.history\n",
        "history_dict_tanh.keys()"
      ],
      "metadata": {
        "colab": {
          "base_uri": "https://localhost:8080/"
        },
        "id": "v6Ak-L1N_aiw",
        "outputId": "ec1f71ca-5acc-4e64-bc1a-166eda2a4c1e"
      },
      "execution_count": 148,
      "outputs": [
        {
          "output_type": "execute_result",
          "data": {
            "text/plain": [
              "dict_keys(['loss', 'accuracy', 'val_loss', 'val_accuracy'])"
            ]
          },
          "metadata": {},
          "execution_count": 148
        }
      ]
    },
    {
      "cell_type": "markdown",
      "source": [
        "Plotting graph between Training and Validation loss"
      ],
      "metadata": {
        "id": "DXz1nF-Cr7tI"
      }
    },
    {
      "cell_type": "code",
      "source": [
        "loss_values = history_dict_tanh[\"loss\"]\n",
        "val_loss_values = history_dict_tanh[\"val_loss\"]\n",
        "epochs = range(1, len(loss_values) + 1)\n",
        "plt.plot(epochs, loss_values, \"bo\", label=\"Training loss\")\n",
        "plt.plot(epochs, val_loss_values, \"b\", label=\"Validation loss\")\n",
        "plt.title(\"Training and validation loss\")\n",
        "plt.xlabel(\"Epochs\")\n",
        "plt.ylabel(\"Loss\")\n",
        "plt.legend()\n",
        "plt.show()"
      ],
      "metadata": {
        "colab": {
          "base_uri": "https://localhost:8080/",
          "height": 295
        },
        "id": "L6LGsklj_gEG",
        "outputId": "0b443fb4-7fe5-449c-ea07-0cf8d67d7671"
      },
      "execution_count": 149,
      "outputs": [
        {
          "output_type": "display_data",
          "data": {
            "text/plain": [
              "<Figure size 432x288 with 1 Axes>"
            ],
            "image/png": "[encoded data removed]"
          },
          "metadata": {
            "needs_background": "light"
          }
        }
      ]
    },
    {
      "cell_type": "markdown",
      "source": [
        "Plotting graph between Training and Validation Accuracy"
      ],
      "metadata": {
        "id": "tuo5NWzAr-M7"
      }
    },
    {
      "cell_type": "code",
      "source": [
        "plt.clf()\n",
        "acc = history_dict_tanh[\"accuracy\"]\n",
        "val_acc = history_dict_tanh[\"val_accuracy\"]\n",
        "plt.plot(epochs, acc, \"bo\", label=\"Training acc\")\n",
        "plt.plot(epochs, val_acc, \"b\", label=\"Validation acc\")\n",
        "plt.title(\"Training and validation accuracy\")\n",
        "plt.xlabel(\"Epochs\")\n",
        "plt.ylabel(\"Accuracy\")\n",
        "plt.legend()\n",
        "plt.show()"
      ],
      "metadata": {
        "colab": {
          "base_uri": "https://localhost:8080/",
          "height": 295
        },
        "id": "ZtHnWuEe_iHP",
        "outputId": "5eeac314-15a9-4e85-94fc-a08c1ffe251e"
      },
      "execution_count": 150,
      "outputs": [
        {
          "output_type": "display_data",
          "data": {
            "text/plain": [
              "<Figure size 432x288 with 1 Axes>"
            ],
            "image/png": "[encoded data removed]"
          },
          "metadata": {
            "needs_background": "light"
          }
        }
      ]
    },
    {
      "cell_type": "code",
      "source": [
        "model_tanh.fit(x_train, y_train, epochs=8, batch_size=512)\n",
        "results_tanh = model_tanh.evaluate(x_test, y_test)\n",
        "results_tanh"
      ],
      "metadata": {
        "colab": {
          "base_uri": "https://localhost:8080/"
        },
        "id": "mEH-VUtW_l46",
        "outputId": "596d0019-dc33-4824-d7c4-63d196b4037e"
      },
      "execution_count": 151,
      "outputs": [
        {
          "output_type": "stream",
          "name": "stdout",
          "text": [
            "Epoch 1/8\n",
            "49/49 [==============================] - 1s 14ms/step - loss: 0.3159 - accuracy: 0.9438\n",
            "Epoch 2/8\n",
            "49/49 [==============================] - 1s 12ms/step - loss: 0.1609 - accuracy: 0.9618\n",
            "Epoch 3/8\n",
            "49/49 [==============================] - 1s 12ms/step - loss: 0.1168 - accuracy: 0.9673\n",
            "Epoch 4/8\n",
            "49/49 [==============================] - 1s 12ms/step - loss: 0.0969 - accuracy: 0.9712\n",
            "Epoch 5/8\n",
            "49/49 [==============================] - 1s 12ms/step - loss: 0.0789 - accuracy: 0.9764\n",
            "Epoch 6/8\n",
            "49/49 [==============================] - 1s 13ms/step - loss: 0.0680 - accuracy: 0.9796\n",
            "Epoch 7/8\n",
            "49/49 [==============================] - 1s 12ms/step - loss: 0.0568 - accuracy: 0.9825\n",
            "Epoch 8/8\n",
            "49/49 [==============================] - 1s 12ms/step - loss: 0.0516 - accuracy: 0.9845\n",
            "782/782 [==============================] - 1s 2ms/step - loss: 0.6916 - accuracy: 0.8407\n"
          ]
        },
        {
          "output_type": "execute_result",
          "data": {
            "text/plain": [
              "[0.69157874584198, 0.840719997882843]"
            ]
          },
          "metadata": {},
          "execution_count": 151
        }
      ]
    },
    {
      "cell_type": "markdown",
      "source": [
        "\n",
        "**Observations:**\n",
        "\n",
        "In comparison to the sigmoid and TanH, ReLu is now the best and most advanced activation function since it totally eliminates limitations like the Vanishing Gradient Problem, making it more sophisticated than other activation functions.\n",
        "\n",
        "Model performance utilizing relu activation is good, as can be observed when the two activations are used and compared."
      ],
      "metadata": {
        "id": "E-m1VJc9CdBL"
      }
    },
    {
      "cell_type": "markdown",
      "source": [
        "**Neural Network using Adam optimiser Function**"
      ],
      "metadata": {
        "id": "tyuXCg8RGl6r"
      }
    },
    {
      "cell_type": "code",
      "source": [
        "np.random.seed(123)\n",
        "model_adam = keras.Sequential([\n",
        "    layers.Dense(16, activation=\"relu\"),\n",
        "    layers.Dense(16, activation=\"relu\"),\n",
        "    layers.Dense(1, activation=\"sigmoid\")\n",
        "])\n",
        "\n",
        "model_adam.compile(optimizer='adam',\n",
        "              loss='binary_crossentropy',\n",
        "              metrics=['accuracy'])\n",
        "\n",
        "x_val = x_train[:10000]\n",
        "partial_x_train = x_train[10000:]\n",
        "\n",
        "y_val = y_train[:10000]\n",
        "partial_y_train = y_train[10000:]\n",
        "\n",
        "np.random.seed(123) \n",
        "\n",
        "history_adam = model_adam.fit(partial_x_train,\n",
        "                    partial_y_train,\n",
        "                    epochs=20,\n",
        "                    batch_size=512,\n",
        "                    validation_data=(x_val, y_val))"
      ],
      "metadata": {
        "colab": {
          "base_uri": "https://localhost:8080/"
        },
        "id": "6tqxsRKpGyho",
        "outputId": "bd38e300-1a6a-4871-c811-da9d867b8b0a"
      },
      "execution_count": 152,
      "outputs": [
        {
          "output_type": "stream",
          "name": "stdout",
          "text": [
            "Epoch 1/20\n",
            "30/30 [==============================] - 1s 24ms/step - loss: 0.5948 - accuracy: 0.7301 - val_loss: 0.4494 - val_accuracy: 0.8485\n",
            "Epoch 2/20\n",
            "30/30 [==============================] - 0s 16ms/step - loss: 0.3371 - accuracy: 0.8889 - val_loss: 0.3111 - val_accuracy: 0.8822\n",
            "Epoch 3/20\n",
            "30/30 [==============================] - 0s 16ms/step - loss: 0.2207 - accuracy: 0.9275 - val_loss: 0.2790 - val_accuracy: 0.8890\n",
            "Epoch 4/20\n",
            "30/30 [==============================] - 0s 17ms/step - loss: 0.1652 - accuracy: 0.9480 - val_loss: 0.2840 - val_accuracy: 0.8881\n",
            "Epoch 5/20\n",
            "30/30 [==============================] - 0s 16ms/step - loss: 0.1278 - accuracy: 0.9629 - val_loss: 0.2898 - val_accuracy: 0.8874\n",
            "Epoch 6/20\n",
            "30/30 [==============================] - 0s 17ms/step - loss: 0.1010 - accuracy: 0.9732 - val_loss: 0.3049 - val_accuracy: 0.8850\n",
            "Epoch 7/20\n",
            "30/30 [==============================] - 0s 15ms/step - loss: 0.0792 - accuracy: 0.9823 - val_loss: 0.3294 - val_accuracy: 0.8815\n",
            "Epoch 8/20\n",
            "30/30 [==============================] - 0s 15ms/step - loss: 0.0621 - accuracy: 0.9876 - val_loss: 0.3542 - val_accuracy: 0.8812\n",
            "Epoch 9/20\n",
            "30/30 [==============================] - 0s 16ms/step - loss: 0.0489 - accuracy: 0.9914 - val_loss: 0.3772 - val_accuracy: 0.8779\n",
            "Epoch 10/20\n",
            "30/30 [==============================] - 0s 15ms/step - loss: 0.0390 - accuracy: 0.9941 - val_loss: 0.4042 - val_accuracy: 0.8763\n",
            "Epoch 11/20\n",
            "30/30 [==============================] - 0s 16ms/step - loss: 0.0298 - accuracy: 0.9965 - val_loss: 0.4315 - val_accuracy: 0.8743\n",
            "Epoch 12/20\n",
            "30/30 [==============================] - 0s 17ms/step - loss: 0.0234 - accuracy: 0.9985 - val_loss: 0.4625 - val_accuracy: 0.8746\n",
            "Epoch 13/20\n",
            "30/30 [==============================] - 0s 16ms/step - loss: 0.0186 - accuracy: 0.9993 - val_loss: 0.4863 - val_accuracy: 0.8729\n",
            "Epoch 14/20\n",
            "30/30 [==============================] - 0s 15ms/step - loss: 0.0149 - accuracy: 0.9995 - val_loss: 0.5110 - val_accuracy: 0.8718\n",
            "Epoch 15/20\n",
            "30/30 [==============================] - 0s 16ms/step - loss: 0.0121 - accuracy: 0.9997 - val_loss: 0.5359 - val_accuracy: 0.8715\n",
            "Epoch 16/20\n",
            "30/30 [==============================] - 0s 15ms/step - loss: 0.0099 - accuracy: 0.9998 - val_loss: 0.5586 - val_accuracy: 0.8701\n",
            "Epoch 17/20\n",
            "30/30 [==============================] - 1s 17ms/step - loss: 0.0082 - accuracy: 0.9998 - val_loss: 0.5787 - val_accuracy: 0.8700\n",
            "Epoch 18/20\n",
            "30/30 [==============================] - 0s 16ms/step - loss: 0.0070 - accuracy: 0.9998 - val_loss: 0.5989 - val_accuracy: 0.8693\n",
            "Epoch 19/20\n",
            "30/30 [==============================] - 1s 17ms/step - loss: 0.0058 - accuracy: 0.9999 - val_loss: 0.6183 - val_accuracy: 0.8689\n",
            "Epoch 20/20\n",
            "30/30 [==============================] - 0s 16ms/step - loss: 0.0050 - accuracy: 0.9999 - val_loss: 0.6365 - val_accuracy: 0.8680\n"
          ]
        }
      ]
    },
    {
      "cell_type": "code",
      "source": [
        "history_dict_adam = history_adam.history\n",
        "history_dict_adam.keys()"
      ],
      "metadata": {
        "colab": {
          "base_uri": "https://localhost:8080/"
        },
        "id": "amswjX0OHKB6",
        "outputId": "1251f8fc-b43c-4bfa-98a0-07d5f7af2d2a"
      },
      "execution_count": 153,
      "outputs": [
        {
          "output_type": "execute_result",
          "data": {
            "text/plain": [
              "dict_keys(['loss', 'accuracy', 'val_loss', 'val_accuracy'])"
            ]
          },
          "metadata": {},
          "execution_count": 153
        }
      ]
    },
    {
      "cell_type": "markdown",
      "source": [
        "Plotting graph between Training and Validation loss"
      ],
      "metadata": {
        "id": "BM9K3OhxH12H"
      }
    },
    {
      "cell_type": "code",
      "source": [
        "loss_values = history_dict_adam[\"loss\"]\n",
        "val_loss_values = history_dict_adam[\"val_loss\"]\n",
        "epochs = range(1, len(loss_values) + 1)\n",
        "plt.plot(epochs, loss_values, \"bo\", label=\"Training loss\")\n",
        "plt.plot(epochs, val_loss_values, \"b\", label=\"Validation loss\")\n",
        "plt.title(\"Training and validation loss\")\n",
        "plt.xlabel(\"Epochs\")\n",
        "plt.ylabel(\"Loss\")\n",
        "plt.legend()\n",
        "plt.show()"
      ],
      "metadata": {
        "colab": {
          "base_uri": "https://localhost:8080/",
          "height": 295
        },
        "id": "3F-7AbBeHUbQ",
        "outputId": "c0876dc3-76bc-45d8-b489-0be5ade7bfd9"
      },
      "execution_count": 154,
      "outputs": [
        {
          "output_type": "display_data",
          "data": {
            "text/plain": [
              "<Figure size 432x288 with 1 Axes>"
            ],
            "image/png": "[encoded data removed]"
          },
          "metadata": {
            "needs_background": "light"
          }
        }
      ]
    },
    {
      "cell_type": "markdown",
      "source": [
        "Plotting graph between Training and Validation Accuracy"
      ],
      "metadata": {
        "id": "4iU07JP2Hz4n"
      }
    },
    {
      "cell_type": "code",
      "source": [
        "plt.clf()\n",
        "acc = history_dict_adam[\"accuracy\"]\n",
        "val_acc = history_dict_adam[\"val_accuracy\"]\n",
        "plt.plot(epochs, acc, \"bo\", label=\"Training acc\")\n",
        "plt.plot(epochs, val_acc, \"b\", label=\"Validation acc\")\n",
        "plt.title(\"Training and validation accuracy\")\n",
        "plt.xlabel(\"Epochs\")\n",
        "plt.ylabel(\"Accuracy\")\n",
        "plt.legend()\n",
        "plt.show()"
      ],
      "metadata": {
        "colab": {
          "base_uri": "https://localhost:8080/",
          "height": 295
        },
        "id": "FlxsEhRfHcvR",
        "outputId": "2ff34286-5e24-452e-d41a-70a077811c01"
      },
      "execution_count": 155,
      "outputs": [
        {
          "output_type": "display_data",
          "data": {
            "text/plain": [
              "<Figure size 432x288 with 1 Axes>"
            ],
            "image/png": "[encoded data removed]"
          },
          "metadata": {
            "needs_background": "light"
          }
        }
      ]
    },
    {
      "cell_type": "code",
      "source": [
        "model_adam.fit(x_train, y_train, epochs=4, batch_size=512)\n",
        "results_adam = model_adam.evaluate(x_test, y_test)\n",
        "results_adam"
      ],
      "metadata": {
        "colab": {
          "base_uri": "https://localhost:8080/"
        },
        "id": "BrUbdxMwHkmw",
        "outputId": "05b4f9e2-82c6-4037-e7d6-2a5e6373613e"
      },
      "execution_count": 173,
      "outputs": [
        {
          "output_type": "stream",
          "name": "stdout",
          "text": [
            "Epoch 1/4\n",
            "49/49 [==============================] - 1s 11ms/step - loss: 4.6818e-04 - accuracy: 1.0000\n",
            "Epoch 2/4\n",
            "49/49 [==============================] - 1s 11ms/step - loss: 4.1983e-04 - accuracy: 1.0000\n",
            "Epoch 3/4\n",
            "49/49 [==============================] - 1s 11ms/step - loss: 3.7981e-04 - accuracy: 1.0000\n",
            "Epoch 4/4\n",
            "49/49 [==============================] - 1s 11ms/step - loss: 3.4473e-04 - accuracy: 1.0000\n",
            "782/782 [==============================] - 1s 2ms/step - loss: 1.4027 - accuracy: 0.8490\n"
          ]
        },
        {
          "output_type": "execute_result",
          "data": {
            "text/plain": [
              "[1.4026676416397095, 0.8489999771118164]"
            ]
          },
          "metadata": {},
          "execution_count": 173
        }
      ]
    },
    {
      "cell_type": "markdown",
      "source": [
        "Adam is the best optimizer. Adam is the optimizer if one wishes to train the neural network more quickly and effectively. Utilize optimizers with a dynamic learning rate for sparse data. The best gradient descent algorithm to utilize is minimum-batch gradient descent."
      ],
      "metadata": {
        "id": "7Q6OEG3CNo-s"
      }
    },
    {
      "cell_type": "markdown",
      "source": [
        "**Regularization**\n"
      ],
      "metadata": {
        "id": "GilpSnEmAb5M"
      }
    },
    {
      "cell_type": "markdown",
      "source": [
        "Regularization is the process of modulating the quantity of information a model is allowed to store or add. The most commonly used regularizers are Lasso (L2) and Ridge (L1).\n"
      ],
      "metadata": {
        "id": "1ecSoK-U7uf_"
      }
    },
    {
      "cell_type": "code",
      "source": [
        "from tensorflow.keras import regularizers\n",
        "np.random.seed(123)\n",
        "model_regularization = keras.Sequential([\n",
        "    layers.Dense(16, activation=\"relu\",kernel_regularizer=regularizers.l2(0.001)),\n",
        "    layers.Dense(16, activation=\"relu\",kernel_regularizer=regularizers.l2(0.001)),\n",
        "    layers.Dense(1, activation=\"sigmoid\")\n",
        "])\n",
        "model_regularization.compile(optimizer=\"rmsprop\",\n",
        "              loss=\"binary_crossentropy\",\n",
        "              metrics=[\"accuracy\"])\n",
        "np.random.seed(123)\n",
        "history_model_regularization = model_regularization.fit(partial_x_train,\n",
        "                    partial_y_train,\n",
        "                    epochs=20,\n",
        "                    batch_size=512,\n",
        "                    validation_data=(x_val, y_val))\n",
        "history_dict_regularization = history_model_regularization.history\n",
        "history_dict_regularization.keys()"
      ],
      "metadata": {
        "colab": {
          "base_uri": "https://localhost:8080/"
        },
        "id": "5-5RKUN8AdyT",
        "outputId": "fc8440cb-4d68-4b0e-f6de-506ee1fb3140"
      },
      "execution_count": 174,
      "outputs": [
        {
          "output_type": "stream",
          "name": "stdout",
          "text": [
            "Epoch 1/20\n",
            "30/30 [==============================] - 1s 24ms/step - loss: 0.5407 - accuracy: 0.7967 - val_loss: 0.4184 - val_accuracy: 0.8729\n",
            "Epoch 2/20\n",
            "30/30 [==============================] - 1s 18ms/step - loss: 0.3522 - accuracy: 0.9001 - val_loss: 0.3555 - val_accuracy: 0.8828\n",
            "Epoch 3/20\n",
            "30/30 [==============================] - 1s 17ms/step - loss: 0.2830 - accuracy: 0.9230 - val_loss: 0.3335 - val_accuracy: 0.8893\n",
            "Epoch 4/20\n",
            "30/30 [==============================] - 0s 17ms/step - loss: 0.2456 - accuracy: 0.9357 - val_loss: 0.3294 - val_accuracy: 0.8886\n",
            "Epoch 5/20\n",
            "30/30 [==============================] - 1s 17ms/step - loss: 0.2261 - accuracy: 0.9429 - val_loss: 0.3315 - val_accuracy: 0.8868\n",
            "Epoch 6/20\n",
            "30/30 [==============================] - 1s 17ms/step - loss: 0.2120 - accuracy: 0.9479 - val_loss: 0.3396 - val_accuracy: 0.8845\n",
            "Epoch 7/20\n",
            "30/30 [==============================] - 1s 17ms/step - loss: 0.1996 - accuracy: 0.9527 - val_loss: 0.3919 - val_accuracy: 0.8676\n",
            "Epoch 8/20\n",
            "30/30 [==============================] - 1s 18ms/step - loss: 0.1921 - accuracy: 0.9575 - val_loss: 0.3547 - val_accuracy: 0.8824\n",
            "Epoch 9/20\n",
            "30/30 [==============================] - 1s 18ms/step - loss: 0.1841 - accuracy: 0.9619 - val_loss: 0.3616 - val_accuracy: 0.8825\n",
            "Epoch 10/20\n",
            "30/30 [==============================] - 1s 17ms/step - loss: 0.1785 - accuracy: 0.9621 - val_loss: 0.4016 - val_accuracy: 0.8730\n",
            "Epoch 11/20\n",
            "30/30 [==============================] - 1s 18ms/step - loss: 0.1719 - accuracy: 0.9643 - val_loss: 0.3954 - val_accuracy: 0.8726\n",
            "Epoch 12/20\n",
            "30/30 [==============================] - 0s 16ms/step - loss: 0.1678 - accuracy: 0.9665 - val_loss: 0.4327 - val_accuracy: 0.8620\n",
            "Epoch 13/20\n",
            "30/30 [==============================] - 1s 18ms/step - loss: 0.1632 - accuracy: 0.9686 - val_loss: 0.4265 - val_accuracy: 0.8650\n",
            "Epoch 14/20\n",
            "30/30 [==============================] - 1s 17ms/step - loss: 0.1668 - accuracy: 0.9653 - val_loss: 0.4061 - val_accuracy: 0.8771\n",
            "Epoch 15/20\n",
            "30/30 [==============================] - 0s 16ms/step - loss: 0.1573 - accuracy: 0.9705 - val_loss: 0.4511 - val_accuracy: 0.8673\n",
            "Epoch 16/20\n",
            "30/30 [==============================] - 1s 18ms/step - loss: 0.1531 - accuracy: 0.9713 - val_loss: 0.4178 - val_accuracy: 0.8735\n",
            "Epoch 17/20\n",
            "30/30 [==============================] - 1s 17ms/step - loss: 0.1520 - accuracy: 0.9723 - val_loss: 0.4263 - val_accuracy: 0.8749\n",
            "Epoch 18/20\n",
            "30/30 [==============================] - 1s 18ms/step - loss: 0.1499 - accuracy: 0.9721 - val_loss: 0.4603 - val_accuracy: 0.8637\n",
            "Epoch 19/20\n",
            "30/30 [==============================] - 1s 17ms/step - loss: 0.1479 - accuracy: 0.9734 - val_loss: 0.4925 - val_accuracy: 0.8638\n",
            "Epoch 20/20\n",
            "30/30 [==============================] - 1s 18ms/step - loss: 0.1481 - accuracy: 0.9731 - val_loss: 0.4698 - val_accuracy: 0.8669\n"
          ]
        },
        {
          "output_type": "execute_result",
          "data": {
            "text/plain": [
              "dict_keys(['loss', 'accuracy', 'val_loss', 'val_accuracy'])"
            ]
          },
          "metadata": {},
          "execution_count": 174
        }
      ]
    },
    {
      "cell_type": "markdown",
      "source": [
        "Plotting graph between Training and Validation loss"
      ],
      "metadata": {
        "id": "HAea4TczsCxP"
      }
    },
    {
      "cell_type": "code",
      "source": [
        "loss_values = history_dict_regularization[\"loss\"]\n",
        "val_loss_values = history_dict_regularization[\"val_loss\"]\n",
        "epochs = range(1, len(loss_values) + 1)\n",
        "plt.plot(epochs, loss_values, \"bo\", label=\"Training loss\")\n",
        "plt.plot(epochs, val_loss_values, \"b\", label=\"Validation loss\")\n",
        "plt.title(\"Training and validation loss\")\n",
        "plt.xlabel(\"Epochs\")\n",
        "plt.ylabel(\"Loss\")\n",
        "plt.legend()\n",
        "plt.show()"
      ],
      "metadata": {
        "colab": {
          "base_uri": "https://localhost:8080/",
          "height": 295
        },
        "id": "RYOrIcHJFdw2",
        "outputId": "83536825-a70c-470f-a761-934c7fb240de"
      },
      "execution_count": 175,
      "outputs": [
        {
          "output_type": "display_data",
          "data": {
            "text/plain": [
              "<Figure size 432x288 with 1 Axes>"
            ],
            "image/png": "[encoded data removed]"
          },
          "metadata": {
            "needs_background": "light"
          }
        }
      ]
    },
    {
      "cell_type": "markdown",
      "source": [
        "Plotting graph between Training and Validation Accuracy"
      ],
      "metadata": {
        "id": "OY4yzM3MsE04"
      }
    },
    {
      "cell_type": "code",
      "source": [
        "plt.clf()\n",
        "acc = history_dict_regularization[\"accuracy\"]\n",
        "val_acc = history_dict_regularization[\"val_accuracy\"]\n",
        "plt.plot(epochs, acc, \"bo\", label=\"Training acc\")\n",
        "plt.plot(epochs, val_acc, \"b\", label=\"Validation acc\")\n",
        "plt.title(\"Training and validation accuracy\")\n",
        "plt.xlabel(\"Epochs\")\n",
        "plt.ylabel(\"Accuracy\")\n",
        "plt.legend()\n",
        "plt.show()"
      ],
      "metadata": {
        "colab": {
          "base_uri": "https://localhost:8080/",
          "height": 295
        },
        "id": "bdemI9tDFfAJ",
        "outputId": "b4e79009-b9a7-444b-dd9e-706992efe854"
      },
      "execution_count": 176,
      "outputs": [
        {
          "output_type": "display_data",
          "data": {
            "text/plain": [
              "<Figure size 432x288 with 1 Axes>"
            ],
            "image/png": "[encoded data removed]"
          },
          "metadata": {
            "needs_background": "light"
          }
        }
      ]
    },
    {
      "cell_type": "code",
      "source": [
        "model_regularization.fit(x_train, y_train, epochs=8, batch_size=512)\n",
        "results_regularization = model_regularization.evaluate(x_test, y_test)\n",
        "results_regularization"
      ],
      "metadata": {
        "colab": {
          "base_uri": "https://localhost:8080/"
        },
        "id": "eK7mP0vVFkPC",
        "outputId": "bf93a826-36a8-4fa7-f45f-2e324b2e6950"
      },
      "execution_count": 177,
      "outputs": [
        {
          "output_type": "stream",
          "name": "stdout",
          "text": [
            "Epoch 1/8\n",
            "49/49 [==============================] - 1s 13ms/step - loss: 0.2544 - accuracy: 0.9346\n",
            "Epoch 2/8\n",
            "49/49 [==============================] - 1s 13ms/step - loss: 0.2213 - accuracy: 0.9408\n",
            "Epoch 3/8\n",
            "49/49 [==============================] - 1s 13ms/step - loss: 0.2048 - accuracy: 0.9464\n",
            "Epoch 4/8\n",
            "49/49 [==============================] - 1s 14ms/step - loss: 0.1974 - accuracy: 0.9485\n",
            "Epoch 5/8\n",
            "49/49 [==============================] - 1s 14ms/step - loss: 0.1938 - accuracy: 0.9495\n",
            "Epoch 6/8\n",
            "49/49 [==============================] - 1s 14ms/step - loss: 0.1895 - accuracy: 0.9511\n",
            "Epoch 7/8\n",
            "49/49 [==============================] - 1s 15ms/step - loss: 0.1841 - accuracy: 0.9546\n",
            "Epoch 8/8\n",
            "49/49 [==============================] - 1s 17ms/step - loss: 0.1806 - accuracy: 0.9536\n",
            "782/782 [==============================] - 2s 3ms/step - loss: 0.4727 - accuracy: 0.8570\n"
          ]
        },
        {
          "output_type": "execute_result",
          "data": {
            "text/plain": [
              "[0.47265297174453735, 0.8569999933242798]"
            ]
          },
          "metadata": {},
          "execution_count": 177
        }
      ]
    },
    {
      "cell_type": "markdown",
      "source": [
        "The results display accuracy and loss of the test set as 0.47 and 85.69% respectively"
      ],
      "metadata": {
        "id": "USTn7FDTQcIN"
      }
    },
    {
      "cell_type": "markdown",
      "source": [
        "**Dropout**\n",
        "\n",
        "A Simple Way to Prevent Neural Network from Overfitting.In training, the dropout layer's outputs are randomly subsampled, resulting in a reduction in capacity or thinning of the network.The use of dropout may require a wider network, e.g. more nodes.A dropout regularization approach can be viewed as generic.Dropout is most effective when there is a limited amount of training data and the model is likely to overfit."
      ],
      "metadata": {
        "id": "n5ae7HgGF5NV"
      }
    },
    {
      "cell_type": "code",
      "source": [
        "from tensorflow.keras import regularizers\n",
        "np.random.seed(123)\n",
        "model_Dropout = keras.Sequential([\n",
        "    layers.Dense(16, activation=\"relu\"),\n",
        "    layers.Dropout(0.5),\n",
        "    layers.Dense(16, activation=\"relu\"),\n",
        "    layers.Dropout(0.5),\n",
        "    layers.Dense(1, activation=\"sigmoid\")\n",
        "])\n",
        "model_Dropout.compile(optimizer=\"rmsprop\",\n",
        "              loss=\"binary_crossentropy\",\n",
        "              metrics=[\"accuracy\"])\n",
        "np.random.seed(123)\n",
        "history_model_Dropout = model_Dropout.fit(partial_x_train,\n",
        "                    partial_y_train,\n",
        "                    epochs=20,\n",
        "                    batch_size=512,\n",
        "                    validation_data=(x_val, y_val))\n",
        "history_dict_Dropout = history_model_Dropout.history\n",
        "history_dict_Dropout.keys()"
      ],
      "metadata": {
        "colab": {
          "base_uri": "https://localhost:8080/"
        },
        "id": "G2u8Uuf3FodX",
        "outputId": "734290ea-e478-4374-e832-0b5ca8c417ef"
      },
      "execution_count": 161,
      "outputs": [
        {
          "output_type": "stream",
          "name": "stdout",
          "text": [
            "Epoch 1/20\n",
            "30/30 [==============================] - 1s 23ms/step - loss: 0.6540 - accuracy: 0.6098 - val_loss: 0.5629 - val_accuracy: 0.8185\n",
            "Epoch 2/20\n",
            "30/30 [==============================] - 1s 18ms/step - loss: 0.5558 - accuracy: 0.7327 - val_loss: 0.4578 - val_accuracy: 0.8633\n",
            "Epoch 3/20\n",
            "30/30 [==============================] - 0s 16ms/step - loss: 0.4790 - accuracy: 0.7931 - val_loss: 0.3953 - val_accuracy: 0.8782\n",
            "Epoch 4/20\n",
            "30/30 [==============================] - 1s 18ms/step - loss: 0.4177 - accuracy: 0.8357 - val_loss: 0.3388 - val_accuracy: 0.8833\n",
            "Epoch 5/20\n",
            "30/30 [==============================] - 1s 18ms/step - loss: 0.3659 - accuracy: 0.8587 - val_loss: 0.3091 - val_accuracy: 0.8818\n",
            "Epoch 6/20\n",
            "30/30 [==============================] - 1s 17ms/step - loss: 0.3252 - accuracy: 0.8786 - val_loss: 0.2875 - val_accuracy: 0.8914\n",
            "Epoch 7/20\n",
            "30/30 [==============================] - 1s 19ms/step - loss: 0.2927 - accuracy: 0.8969 - val_loss: 0.2732 - val_accuracy: 0.8937\n",
            "Epoch 8/20\n",
            "30/30 [==============================] - 1s 17ms/step - loss: 0.2607 - accuracy: 0.9097 - val_loss: 0.2720 - val_accuracy: 0.8923\n",
            "Epoch 9/20\n",
            "30/30 [==============================] - 1s 17ms/step - loss: 0.2376 - accuracy: 0.9195 - val_loss: 0.2712 - val_accuracy: 0.8918\n",
            "Epoch 10/20\n",
            "30/30 [==============================] - 1s 17ms/step - loss: 0.2148 - accuracy: 0.9293 - val_loss: 0.2827 - val_accuracy: 0.8929\n",
            "Epoch 11/20\n",
            "30/30 [==============================] - 1s 18ms/step - loss: 0.1897 - accuracy: 0.9363 - val_loss: 0.2974 - val_accuracy: 0.8910\n",
            "Epoch 12/20\n",
            "30/30 [==============================] - 0s 17ms/step - loss: 0.1768 - accuracy: 0.9407 - val_loss: 0.3030 - val_accuracy: 0.8915\n",
            "Epoch 13/20\n",
            "30/30 [==============================] - 0s 16ms/step - loss: 0.1698 - accuracy: 0.9438 - val_loss: 0.3229 - val_accuracy: 0.8918\n",
            "Epoch 14/20\n",
            "30/30 [==============================] - 0s 17ms/step - loss: 0.1510 - accuracy: 0.9483 - val_loss: 0.3487 - val_accuracy: 0.8898\n",
            "Epoch 15/20\n",
            "30/30 [==============================] - 1s 17ms/step - loss: 0.1445 - accuracy: 0.9522 - val_loss: 0.3511 - val_accuracy: 0.8858\n",
            "Epoch 16/20\n",
            "30/30 [==============================] - 1s 17ms/step - loss: 0.1397 - accuracy: 0.9521 - val_loss: 0.3868 - val_accuracy: 0.8870\n",
            "Epoch 17/20\n",
            "30/30 [==============================] - 1s 17ms/step - loss: 0.1248 - accuracy: 0.9591 - val_loss: 0.4055 - val_accuracy: 0.8884\n",
            "Epoch 18/20\n",
            "30/30 [==============================] - 1s 18ms/step - loss: 0.1202 - accuracy: 0.9590 - val_loss: 0.4358 - val_accuracy: 0.8810\n",
            "Epoch 19/20\n",
            "30/30 [==============================] - 0s 17ms/step - loss: 0.1111 - accuracy: 0.9621 - val_loss: 0.4483 - val_accuracy: 0.8828\n",
            "Epoch 20/20\n",
            "30/30 [==============================] - 0s 17ms/step - loss: 0.1158 - accuracy: 0.9610 - val_loss: 0.4719 - val_accuracy: 0.8865\n"
          ]
        },
        {
          "output_type": "execute_result",
          "data": {
            "text/plain": [
              "dict_keys(['loss', 'accuracy', 'val_loss', 'val_accuracy'])"
            ]
          },
          "metadata": {},
          "execution_count": 161
        }
      ]
    },
    {
      "cell_type": "markdown",
      "source": [
        "Plotting graph between Training and Validation loss"
      ],
      "metadata": {
        "id": "PHRdZz1NsJNo"
      }
    },
    {
      "cell_type": "code",
      "source": [
        "loss_values = history_dict_Dropout[\"loss\"]\n",
        "val_loss_values = history_dict_Dropout[\"val_loss\"]\n",
        "epochs = range(1, len(loss_values) + 1)\n",
        "plt.plot(epochs, loss_values, \"bo\", label=\"Training loss\")\n",
        "plt.plot(epochs, val_loss_values, \"b\", label=\"Validation loss\")\n",
        "plt.title(\"Training and validation loss\")\n",
        "plt.xlabel(\"Epochs\")\n",
        "plt.ylabel(\"Loss\")\n",
        "plt.legend()\n",
        "plt.show()"
      ],
      "metadata": {
        "colab": {
          "base_uri": "https://localhost:8080/",
          "height": 295
        },
        "id": "JeQ7lTHaF_tw",
        "outputId": "1af482b8-6b3a-4243-e3c4-821303d327db"
      },
      "execution_count": 162,
      "outputs": [
        {
          "output_type": "display_data",
          "data": {
            "text/plain": [
              "<Figure size 432x288 with 1 Axes>"
            ],
            "image/png": "[encoded data removed]"
          },
          "metadata": {
            "needs_background": "light"
          }
        }
      ]
    },
    {
      "cell_type": "markdown",
      "source": [
        "Plotting graph between Training and Validation Accuracy"
      ],
      "metadata": {
        "id": "6WhUvL-HsLUv"
      }
    },
    {
      "cell_type": "code",
      "source": [
        "plt.clf()\n",
        "acc = history_dict_Dropout[\"accuracy\"]\n",
        "val_acc = history_dict_Dropout[\"val_accuracy\"]\n",
        "plt.plot(epochs, acc, \"bo\", label=\"Training acc\")\n",
        "plt.plot(epochs, val_acc, \"b\", label=\"Validation acc\")\n",
        "plt.title(\"Training and validation accuracy\")\n",
        "plt.xlabel(\"Epochs\")\n",
        "plt.ylabel(\"Accuracy\")\n",
        "plt.legend()\n",
        "plt.show()"
      ],
      "metadata": {
        "colab": {
          "base_uri": "https://localhost:8080/",
          "height": 295
        },
        "id": "gld039LnGD2x",
        "outputId": "a3143152-6f09-4a70-828c-ed2e6a192461"
      },
      "execution_count": 163,
      "outputs": [
        {
          "output_type": "display_data",
          "data": {
            "text/plain": [
              "<Figure size 432x288 with 1 Axes>"
            ],
            "image/png": "[encoded data removed]"
          },
          "metadata": {
            "needs_background": "light"
          }
        }
      ]
    },
    {
      "cell_type": "code",
      "source": [
        "model_Dropout.fit(x_train, y_train, epochs=8, batch_size=512)\n",
        "results_Dropout = model_Dropout.evaluate(x_test, y_test)\n",
        "results_Dropout"
      ],
      "metadata": {
        "colab": {
          "base_uri": "https://localhost:8080/"
        },
        "id": "Rz7FlkD0GHnO",
        "outputId": "103fb7d8-14ae-4b31-a1eb-0fe38fa6d0e1"
      },
      "execution_count": 164,
      "outputs": [
        {
          "output_type": "stream",
          "name": "stdout",
          "text": [
            "Epoch 1/8\n",
            "49/49 [==============================] - 1s 13ms/step - loss: 0.2666 - accuracy: 0.9187\n",
            "Epoch 2/8\n",
            "49/49 [==============================] - 1s 13ms/step - loss: 0.2277 - accuracy: 0.9259\n",
            "Epoch 3/8\n",
            "49/49 [==============================] - 1s 13ms/step - loss: 0.2008 - accuracy: 0.9323\n",
            "Epoch 4/8\n",
            "49/49 [==============================] - 1s 13ms/step - loss: 0.1885 - accuracy: 0.9386\n",
            "Epoch 5/8\n",
            "49/49 [==============================] - 1s 13ms/step - loss: 0.1791 - accuracy: 0.9388\n",
            "Epoch 6/8\n",
            "49/49 [==============================] - 1s 13ms/step - loss: 0.1771 - accuracy: 0.9402\n",
            "Epoch 7/8\n",
            "49/49 [==============================] - 1s 13ms/step - loss: 0.1587 - accuracy: 0.9452\n",
            "Epoch 8/8\n",
            "49/49 [==============================] - 1s 13ms/step - loss: 0.1544 - accuracy: 0.9476\n",
            "782/782 [==============================] - 1s 2ms/step - loss: 0.4424 - accuracy: 0.8722\n"
          ]
        },
        {
          "output_type": "execute_result",
          "data": {
            "text/plain": [
              "[0.4423696994781494, 0.872160017490387]"
            ]
          },
          "metadata": {},
          "execution_count": 164
        }
      ]
    },
    {
      "cell_type": "markdown",
      "source": [
        "The results display accuracy and loss of the test set as 0.44 and 87.21% respectively"
      ],
      "metadata": {
        "id": "C156K7E6Qvz0"
      }
    },
    {
      "cell_type": "markdown",
      "source": [
        "Training the Model with Hypertunned Parameters"
      ],
      "metadata": {
        "id": "EPNWrJUcsZuH"
      }
    },
    {
      "cell_type": "code",
      "source": [
        "from tensorflow.keras import regularizers\n",
        "np.random.seed(123)\n",
        "model_Hyper = keras.Sequential([\n",
        "    layers.Dense(32, activation=\"relu\",kernel_regularizer=regularizers.l2(0.0001)),\n",
        "    layers.Dropout(0.5),    \n",
        "    layers.Dense(32, activation=\"relu\",kernel_regularizer=regularizers.l2(0.0001)),\n",
        "    layers.Dropout(0.5),\n",
        "    layers.Dense(16, activation=\"relu\",kernel_regularizer=regularizers.l2(0.0001)),\n",
        "    layers.Dropout(0.5),\n",
        "    layers.Dense(1, activation=\"sigmoid\")\n",
        "])\n",
        "model_Hyper.compile(optimizer=\"rmsprop\",\n",
        "              loss=\"mse\",\n",
        "              metrics=[\"accuracy\"])\n",
        "np.random.seed(123)\n",
        "history_model_Hyper = model_Hyper.fit(partial_x_train,\n",
        "                    partial_y_train,\n",
        "                    epochs=20,\n",
        "                    batch_size=512,\n",
        "                    validation_data=(x_val, y_val))\n",
        "history_dict_Hyper = history_model_Hyper.history\n",
        "history_dict_Hyper.keys()"
      ],
      "metadata": {
        "colab": {
          "base_uri": "https://localhost:8080/"
        },
        "id": "o9pfj7TsGOz7",
        "outputId": "551e671f-420b-4fb4-e344-4dad1e0adc7b"
      },
      "execution_count": 165,
      "outputs": [
        {
          "output_type": "stream",
          "name": "stdout",
          "text": [
            "Epoch 1/20\n",
            "30/30 [==============================] - 2s 30ms/step - loss: 0.2422 - accuracy: 0.5902 - val_loss: 0.1960 - val_accuracy: 0.8124\n",
            "Epoch 2/20\n",
            "30/30 [==============================] - 1s 21ms/step - loss: 0.1873 - accuracy: 0.7503 - val_loss: 0.1421 - val_accuracy: 0.8435\n",
            "Epoch 3/20\n",
            "30/30 [==============================] - 1s 22ms/step - loss: 0.1439 - accuracy: 0.8343 - val_loss: 0.1074 - val_accuracy: 0.8713\n",
            "Epoch 4/20\n",
            "30/30 [==============================] - 1s 23ms/step - loss: 0.1151 - accuracy: 0.8775 - val_loss: 0.0959 - val_accuracy: 0.8865\n",
            "Epoch 5/20\n",
            "30/30 [==============================] - 1s 28ms/step - loss: 0.0961 - accuracy: 0.9067 - val_loss: 0.0954 - val_accuracy: 0.8838\n",
            "Epoch 6/20\n",
            "30/30 [==============================] - 1s 23ms/step - loss: 0.0820 - accuracy: 0.9195 - val_loss: 0.0950 - val_accuracy: 0.8869\n",
            "Epoch 7/20\n",
            "30/30 [==============================] - 1s 22ms/step - loss: 0.0712 - accuracy: 0.9347 - val_loss: 0.0995 - val_accuracy: 0.8850\n",
            "Epoch 8/20\n",
            "30/30 [==============================] - 1s 22ms/step - loss: 0.0652 - accuracy: 0.9425 - val_loss: 0.0997 - val_accuracy: 0.8853\n",
            "Epoch 9/20\n",
            "30/30 [==============================] - 1s 21ms/step - loss: 0.0583 - accuracy: 0.9489 - val_loss: 0.1033 - val_accuracy: 0.8848\n",
            "Epoch 10/20\n",
            "30/30 [==============================] - 1s 21ms/step - loss: 0.0551 - accuracy: 0.9521 - val_loss: 0.1037 - val_accuracy: 0.8846\n",
            "Epoch 11/20\n",
            "30/30 [==============================] - 1s 21ms/step - loss: 0.0502 - accuracy: 0.9582 - val_loss: 0.1061 - val_accuracy: 0.8843\n",
            "Epoch 12/20\n",
            "30/30 [==============================] - 1s 22ms/step - loss: 0.0481 - accuracy: 0.9611 - val_loss: 0.1054 - val_accuracy: 0.8837\n",
            "Epoch 13/20\n",
            "30/30 [==============================] - 1s 22ms/step - loss: 0.0467 - accuracy: 0.9621 - val_loss: 0.1087 - val_accuracy: 0.8824\n",
            "Epoch 14/20\n",
            "30/30 [==============================] - 1s 21ms/step - loss: 0.0455 - accuracy: 0.9628 - val_loss: 0.1098 - val_accuracy: 0.8816\n",
            "Epoch 15/20\n",
            "30/30 [==============================] - 1s 21ms/step - loss: 0.0427 - accuracy: 0.9648 - val_loss: 0.1097 - val_accuracy: 0.8822\n",
            "Epoch 16/20\n",
            "30/30 [==============================] - 1s 21ms/step - loss: 0.0430 - accuracy: 0.9651 - val_loss: 0.1106 - val_accuracy: 0.8799\n",
            "Epoch 17/20\n",
            "30/30 [==============================] - 1s 22ms/step - loss: 0.0411 - accuracy: 0.9670 - val_loss: 0.1122 - val_accuracy: 0.8807\n",
            "Epoch 18/20\n",
            "30/30 [==============================] - 1s 21ms/step - loss: 0.0385 - accuracy: 0.9702 - val_loss: 0.1137 - val_accuracy: 0.8793\n",
            "Epoch 19/20\n",
            "30/30 [==============================] - 1s 21ms/step - loss: 0.0397 - accuracy: 0.9691 - val_loss: 0.1150 - val_accuracy: 0.8773\n",
            "Epoch 20/20\n",
            "30/30 [==============================] - 1s 22ms/step - loss: 0.0417 - accuracy: 0.9654 - val_loss: 0.1115 - val_accuracy: 0.8815\n"
          ]
        },
        {
          "output_type": "execute_result",
          "data": {
            "text/plain": [
              "dict_keys(['loss', 'accuracy', 'val_loss', 'val_accuracy'])"
            ]
          },
          "metadata": {},
          "execution_count": 165
        }
      ]
    },
    {
      "cell_type": "markdown",
      "source": [
        "Plotting graph between Training and Validation loss"
      ],
      "metadata": {
        "id": "rh8lNax3skBd"
      }
    },
    {
      "cell_type": "code",
      "source": [
        "loss_values = history_dict_Hyper[\"loss\"]\n",
        "val_loss_values = history_dict_Hyper[\"val_loss\"]\n",
        "epochs = range(1, len(loss_values) + 1)\n",
        "plt.plot(epochs, loss_values, \"bo\", label=\"Training loss\")\n",
        "plt.plot(epochs, val_loss_values, \"b\", label=\"Validation loss\")\n",
        "plt.title(\"Training and validation loss\")\n",
        "plt.xlabel(\"Epochs\")\n",
        "plt.ylabel(\"Loss\")\n",
        "plt.legend()\n",
        "plt.show()"
      ],
      "metadata": {
        "colab": {
          "base_uri": "https://localhost:8080/",
          "height": 295
        },
        "id": "yh8KG_fFGVZg",
        "outputId": "45488024-7488-4e6a-da3e-eff1fc50ef7e"
      },
      "execution_count": 166,
      "outputs": [
        {
          "output_type": "display_data",
          "data": {
            "text/plain": [
              "<Figure size 432x288 with 1 Axes>"
            ],
            "image/png": "[encoded data removed]"
          },
          "metadata": {
            "needs_background": "light"
          }
        }
      ]
    },
    {
      "cell_type": "markdown",
      "source": [
        "Plotting graph between Training and Validation Accuracy"
      ],
      "metadata": {
        "id": "6L_GgaH8smX9"
      }
    },
    {
      "cell_type": "code",
      "source": [
        "plt.clf()\n",
        "acc = history_dict_Hyper[\"accuracy\"]\n",
        "val_acc = history_dict_Hyper[\"val_accuracy\"]\n",
        "plt.plot(epochs, acc, \"bo\", label=\"Training acc\")\n",
        "plt.plot(epochs, val_acc, \"b\", label=\"Validation acc\")\n",
        "plt.title(\"Training and validation accuracy\")\n",
        "plt.xlabel(\"Epochs\")\n",
        "plt.ylabel(\"Accuracy\")\n",
        "plt.legend()\n",
        "plt.show()"
      ],
      "metadata": {
        "colab": {
          "base_uri": "https://localhost:8080/",
          "height": 295
        },
        "id": "SNZ6fwh0GWFK",
        "outputId": "edb7d4bc-8220-4202-8123-dc05f0f9b754"
      },
      "execution_count": 167,
      "outputs": [
        {
          "output_type": "display_data",
          "data": {
            "text/plain": [
              "<Figure size 432x288 with 1 Axes>"
            ],
            "image/png": "[encoded data removed]"
          },
          "metadata": {
            "needs_background": "light"
          }
        }
      ]
    },
    {
      "cell_type": "code",
      "source": [
        "model_Hyper.fit(x_train, y_train, epochs=8, batch_size=512)\n",
        "results_Hyper = model_Hyper.evaluate(x_test, y_test)\n",
        "results_Hyper"
      ],
      "metadata": {
        "colab": {
          "base_uri": "https://localhost:8080/"
        },
        "id": "I7YxcE0OGYND",
        "outputId": "acd89e18-f260-478b-f63f-5fa42d6ec6af"
      },
      "execution_count": 168,
      "outputs": [
        {
          "output_type": "stream",
          "name": "stdout",
          "text": [
            "Epoch 1/8\n",
            "49/49 [==============================] - 1s 17ms/step - loss: 0.0733 - accuracy: 0.9258\n",
            "Epoch 2/8\n",
            "49/49 [==============================] - 1s 16ms/step - loss: 0.0668 - accuracy: 0.9334\n",
            "Epoch 3/8\n",
            "49/49 [==============================] - 1s 16ms/step - loss: 0.0628 - accuracy: 0.9382\n",
            "Epoch 4/8\n",
            "49/49 [==============================] - 1s 16ms/step - loss: 0.0595 - accuracy: 0.9416\n",
            "Epoch 5/8\n",
            "49/49 [==============================] - 1s 17ms/step - loss: 0.0579 - accuracy: 0.9445\n",
            "Epoch 6/8\n",
            "49/49 [==============================] - 1s 17ms/step - loss: 0.0552 - accuracy: 0.9471\n",
            "Epoch 7/8\n",
            "49/49 [==============================] - 1s 16ms/step - loss: 0.0543 - accuracy: 0.9487\n",
            "Epoch 8/8\n",
            "49/49 [==============================] - 1s 16ms/step - loss: 0.0541 - accuracy: 0.9493\n",
            "782/782 [==============================] - 2s 2ms/step - loss: 0.1136 - accuracy: 0.8744\n"
          ]
        },
        {
          "output_type": "execute_result",
          "data": {
            "text/plain": [
              "[0.11364694684743881, 0.8744000196456909]"
            ]
          },
          "metadata": {},
          "execution_count": 168
        }
      ]
    },
    {
      "cell_type": "markdown",
      "source": [
        "**Summary of All the Models**"
      ],
      "metadata": {
        "id": "_adZegquMIT1"
      }
    },
    {
      "cell_type": "code",
      "source": [
        "All_Models_Loss= np.array([results_Dropout[0],results_Hyper[0],results_MSE[0],results_regularization[0],results_tanh[0]])*100\n",
        "All_Models_Loss\n",
        "All_Models_Accuracy= np.array([results_Dropout[1],results_Hyper[1],results_MSE[1],results_regularization[1],results_tanh[1]])*100\n",
        "All_Models_Accuracy\n",
        "Labels=['Model_Dropout','Model_Hyper','Model_MSE','model_regularization','model_tanh']\n",
        "plt.clf()\n"
      ],
      "metadata": {
        "colab": {
          "base_uri": "https://localhost:8080/",
          "height": 34
        },
        "id": "2WIQn_QTGaBD",
        "outputId": "985eef78-f8b7-4e7d-d418-a3970909d03c"
      },
      "execution_count": 178,
      "outputs": [
        {
          "output_type": "display_data",
          "data": {
            "text/plain": [
              "<Figure size 432x288 with 0 Axes>"
            ]
          },
          "metadata": {}
        }
      ]
    },
    {
      "cell_type": "markdown",
      "source": [
        "**Comparing all the models using Graph**"
      ],
      "metadata": {
        "id": "qsk1jS1PMfJu"
      }
    },
    {
      "cell_type": "code",
      "source": [
        "fig, ax = plt.subplots()\n",
        "ax.scatter(All_Models_Loss,All_Models_Accuracy)\n",
        "for i, txt in enumerate(Labels):\n",
        "    ax.annotate(txt, (All_Models_Loss[i],All_Models_Accuracy[i] ))\n",
        "plt.title(\"Summary for Accuracy and Loss of the Model\")\n",
        "plt.ylabel(\"Accuracy\")\n",
        "plt.xlabel(\"Loss\")\n",
        "\n",
        "plt.show()"
      ],
      "metadata": {
        "colab": {
          "base_uri": "https://localhost:8080/",
          "height": 295
        },
        "id": "WA0UM6VXGc6t",
        "outputId": "4d05c641-596c-4df5-a1dd-ca1e9a93ad40"
      },
      "execution_count": 179,
      "outputs": [
        {
          "output_type": "display_data",
          "data": {
            "text/plain": [
              "<Figure size 432x288 with 1 Axes>"
            ],
            "image/png": "[encoded data removed]"
          },
          "metadata": {
            "needs_background": "light"
          }
        }
      ]
    },
    {
      "cell_type": "markdown",
      "source": [
        "**Conclusion:**\n",
        "\n",
        "Based on the graph, we can conclude that Maximum accuracy and loss were achieved with Model_Hyper.Three thick layers were used (32,32,16), each with a drop out rate of 0.5.With MSE, we observe that the model's MSE loss is negligible compared to any other model (other than Final Hypertuned Model).\n",
        "\n",
        "We observe that accuracy changes very little as we raise the unit from 16, 32, 64, 128, while the loss function decreases.\n",
        "\n",
        "Hidden Layers:Increasing the number of hidden layers from 1 to 3 did not affect loss function accuracy or deflection\n",
        "\n",
        "Loss Function: Using \"mse\" as the loss function for the IMDB dataset, the loss value is minimal when compared to binary cross entropy.\n",
        "\n",
        "Activation Function: Due to the vanishing gradient problem, the model's tanh activation function has a low accuracy.\n",
        "\n",
        "Optimiser Function: Using Adam as an Optimiser we can compute the model more efficiently.\n",
        "\n",
        "Regularization: In comparison to the initial model, regularization results in much smaller losses and less overfitting, with the L-2 model showing somewhat better accuracy.\n",
        "\n",
        "Dropout: Dropout also reduces the loss function, but does not affect the accuracy.\n"
      ],
      "metadata": {
        "id": "7aspxzKTtDSN"
      }
    }
  ],
  "metadata": {
    "colab": {
      "collapsed_sections": [],
      "provenance": [],
      "machine_shape": "hm"
    },
    "kernelspec": {
      "display_name": "Python 3 (ipykernel)",
      "language": "python",
      "name": "python3"
    },
    "language_info": {
      "codemirror_mode": {
        "name": "ipython",
        "version": 3
      },
      "file_extension": ".py",
      "mimetype": "text/x-python",
      "name": "python",
      "nbconvert_exporter": "python",
      "pygments_lexer": "ipython3",
      "version": "3.9.12"
    }
  },
  "nbformat": 4,
  "nbformat_minor": 0
}