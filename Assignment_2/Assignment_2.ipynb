{
  "cells": [
    {
      "cell_type": "markdown",
      "source": [
        "**Assignment-2 - Convolutional Neural Networks(CNN)**\n",
        "\n",
        "A convolutional neural network can detect and classify objects in an image.The main objective of this assignment is to apply convnet to images and assess their performance based on pre-trained networks.\n",
        "\n",
        "Here we will be downloading the data using an API token from Kaggle Personal Account."
      ],
      "metadata": {
        "id": "uz8QgYGFcCiO"
      }
    },
    {
      "cell_type": "code",
      "execution_count": 2,
      "metadata": {
        "id": "Ht6IprDmK3M3",
        "colab": {
          "base_uri": "https://localhost:8080/",
          "height": 91
        },
        "outputId": "9dcf4215-2369-42aa-eef0-2a40f4ab0b5f"
      },
      "outputs": [
        {
          "output_type": "display_data",
          "data": {
            "text/plain": [
              "<IPython.core.display.HTML object>"
            ],
            "text/html": [
              "\n",
              "     <input type=\"file\" id=\"files-e9253c9a-5acb-4336-8106-30a21b71aff7\" name=\"files[]\" multiple disabled\n",
              "        style=\"border:none\" />\n",
              "     <output id=\"result-e9253c9a-5acb-4336-8106-30a21b71aff7\">\n",
              "      Upload widget is only available when the cell has been executed in the\n",
              "      current browser session. Please rerun this cell to enable.\n",
              "      </output>\n",
              "      <script>// Copyright 2017 Google LLC\n",
              "//\n",
              "// Licensed under the Apache License, Version 2.0 (the \"License\");\n",
              "// you may not use this file except in compliance with the License.\n",
              "// You may obtain a copy of the License at\n",
              "//\n",
              "//      http://www.apache.org/licenses/LICENSE-2.0\n",
              "//\n",
              "// Unless required by applicable law or agreed to in writing, software\n",
              "// distributed under the License is distributed on an \"AS IS\" BASIS,\n",
              "// WITHOUT WARRANTIES OR CONDITIONS OF ANY KIND, either express or implied.\n",
              "// See the License for the specific language governing permissions and\n",
              "// limitations under the License.\n",
              "\n",
              "/**\n",
              " * @fileoverview Helpers for google.colab Python module.\n",
              " */\n",
              "(function(scope) {\n",
              "function span(text, styleAttributes = {}) {\n",
              "  const element = document.createElement('span');\n",
              "  element.textContent = text;\n",
              "  for (const key of Object.keys(styleAttributes)) {\n",
              "    element.style[key] = styleAttributes[key];\n",
              "  }\n",
              "  return element;\n",
              "}\n",
              "\n",
              "// Max number of bytes which will be uploaded at a time.\n",
              "const MAX_PAYLOAD_SIZE = 100 * 1024;\n",
              "\n",
              "function _uploadFiles(inputId, outputId) {\n",
              "  const steps = uploadFilesStep(inputId, outputId);\n",
              "  const outputElement = document.getElementById(outputId);\n",
              "  // Cache steps on the outputElement to make it available for the next call\n",
              "  // to uploadFilesContinue from Python.\n",
              "  outputElement.steps = steps;\n",
              "\n",
              "  return _uploadFilesContinue(outputId);\n",
              "}\n",
              "\n",
              "// This is roughly an async generator (not supported in the browser yet),\n",
              "// where there are multiple asynchronous steps and the Python side is going\n",
              "// to poll for completion of each step.\n",
              "// This uses a Promise to block the python side on completion of each step,\n",
              "// then passes the result of the previous step as the input to the next step.\n",
              "function _uploadFilesContinue(outputId) {\n",
              "  const outputElement = document.getElementById(outputId);\n",
              "  const steps = outputElement.steps;\n",
              "\n",
              "  const next = steps.next(outputElement.lastPromiseValue);\n",
              "  return Promise.resolve(next.value.promise).then((value) => {\n",
              "    // Cache the last promise value to make it available to the next\n",
              "    // step of the generator.\n",
              "    outputElement.lastPromiseValue = value;\n",
              "    return next.value.response;\n",
              "  });\n",
              "}\n",
              "\n",
              "/**\n",
              " * Generator function which is called between each async step of the upload\n",
              " * process.\n",
              " * @param {string} inputId Element ID of the input file picker element.\n",
              " * @param {string} outputId Element ID of the output display.\n",
              " * @return {!Iterable<!Object>} Iterable of next steps.\n",
              " */\n",
              "function* uploadFilesStep(inputId, outputId) {\n",
              "  const inputElement = document.getElementById(inputId);\n",
              "  inputElement.disabled = false;\n",
              "\n",
              "  const outputElement = document.getElementById(outputId);\n",
              "  outputElement.innerHTML = '';\n",
              "\n",
              "  const pickedPromise = new Promise((resolve) => {\n",
              "    inputElement.addEventListener('change', (e) => {\n",
              "      resolve(e.target.files);\n",
              "    });\n",
              "  });\n",
              "\n",
              "  const cancel = document.createElement('button');\n",
              "  inputElement.parentElement.appendChild(cancel);\n",
              "  cancel.textContent = 'Cancel upload';\n",
              "  const cancelPromise = new Promise((resolve) => {\n",
              "    cancel.onclick = () => {\n",
              "      resolve(null);\n",
              "    };\n",
              "  });\n",
              "\n",
              "  // Wait for the user to pick the files.\n",
              "  const files = yield {\n",
              "    promise: Promise.race([pickedPromise, cancelPromise]),\n",
              "    response: {\n",
              "      action: 'starting',\n",
              "    }\n",
              "  };\n",
              "\n",
              "  cancel.remove();\n",
              "\n",
              "  // Disable the input element since further picks are not allowed.\n",
              "  inputElement.disabled = true;\n",
              "\n",
              "  if (!files) {\n",
              "    return {\n",
              "      response: {\n",
              "        action: 'complete',\n",
              "      }\n",
              "    };\n",
              "  }\n",
              "\n",
              "  for (const file of files) {\n",
              "    const li = document.createElement('li');\n",
              "    li.append(span(file.name, {fontWeight: 'bold'}));\n",
              "    li.append(span(\n",
              "        `(${file.type || 'n/a'}) - ${file.size} bytes, ` +\n",
              "        `last modified: ${\n",
              "            file.lastModifiedDate ? file.lastModifiedDate.toLocaleDateString() :\n",
              "                                    'n/a'} - `));\n",
              "    const percent = span('0% done');\n",
              "    li.appendChild(percent);\n",
              "\n",
              "    outputElement.appendChild(li);\n",
              "\n",
              "    const fileDataPromise = new Promise((resolve) => {\n",
              "      const reader = new FileReader();\n",
              "      reader.onload = (e) => {\n",
              "        resolve(e.target.result);\n",
              "      };\n",
              "      reader.readAsArrayBuffer(file);\n",
              "    });\n",
              "    // Wait for the data to be ready.\n",
              "    let fileData = yield {\n",
              "      promise: fileDataPromise,\n",
              "      response: {\n",
              "        action: 'continue',\n",
              "      }\n",
              "    };\n",
              "\n",
              "    // Use a chunked sending to avoid message size limits. See b/62115660.\n",
              "    let position = 0;\n",
              "    do {\n",
              "      const length = Math.min(fileData.byteLength - position, MAX_PAYLOAD_SIZE);\n",
              "      const chunk = new Uint8Array(fileData, position, length);\n",
              "      position += length;\n",
              "\n",
              "      const base64 = btoa(String.fromCharCode.apply(null, chunk));\n",
              "      yield {\n",
              "        response: {\n",
              "          action: 'append',\n",
              "          file: file.name,\n",
              "          data: base64,\n",
              "        },\n",
              "      };\n",
              "\n",
              "      let percentDone = fileData.byteLength === 0 ?\n",
              "          100 :\n",
              "          Math.round((position / fileData.byteLength) * 100);\n",
              "      percent.textContent = `${percentDone}% done`;\n",
              "\n",
              "    } while (position < fileData.byteLength);\n",
              "  }\n",
              "\n",
              "  // All done.\n",
              "  yield {\n",
              "    response: {\n",
              "      action: 'complete',\n",
              "    }\n",
              "  };\n",
              "}\n",
              "\n",
              "scope.google = scope.google || {};\n",
              "scope.google.colab = scope.google.colab || {};\n",
              "scope.google.colab._files = {\n",
              "  _uploadFiles,\n",
              "  _uploadFilesContinue,\n",
              "};\n",
              "})(self);\n",
              "</script> "
            ]
          },
          "metadata": {}
        },
        {
          "output_type": "stream",
          "name": "stdout",
          "text": [
            "Saving kaggle.json to kaggle.json\n"
          ]
        },
        {
          "output_type": "execute_result",
          "data": {
            "text/plain": [
              "{'kaggle.json': b'{\"username\":\"manasachelukala\",\"key\":\"504f8855f9c348dcaa2dc9cddd064c75\"}'}"
            ]
          },
          "metadata": {},
          "execution_count": 2
        }
      ],
      "source": [
        "\n",
        "from google.colab import files\n",
        "files.upload()"
      ]
    },
    {
      "cell_type": "code",
      "execution_count": 3,
      "metadata": {
        "id": "xaY6Wg9AK3M4"
      },
      "outputs": [],
      "source": [
        "!mkdir ~/.kaggle\n",
        "!cp kaggle.json ~/.kaggle/\n",
        "!chmod 600 ~/.kaggle/kaggle.json"
      ]
    },
    {
      "cell_type": "code",
      "source": [
        "from google.colab import drive\n",
        "drive.mount('/content/drive')"
      ],
      "metadata": {
        "colab": {
          "base_uri": "https://localhost:8080/"
        },
        "id": "hhJ0IHcxLpRr",
        "outputId": "985e9140-22d0-409a-a193-d39410637044"
      },
      "execution_count": 4,
      "outputs": [
        {
          "output_type": "stream",
          "name": "stdout",
          "text": [
            "Mounted at /content/drive\n"
          ]
        }
      ]
    },
    {
      "cell_type": "code",
      "execution_count": 5,
      "metadata": {
        "colab": {
          "base_uri": "https://localhost:8080/"
        },
        "id": "3_oaV3jAK3M5",
        "outputId": "18d43fdd-008b-4a40-fff0-f1529a66ce1d"
      },
      "outputs": [
        {
          "output_type": "stream",
          "name": "stdout",
          "text": [
            "Downloading dogs-vs-cats.zip to /content\n",
            "100% 812M/812M [00:20<00:00, 46.0MB/s]\n",
            "100% 812M/812M [00:20<00:00, 40.7MB/s]\n"
          ]
        }
      ],
      "source": [
        "!kaggle competitions download -c dogs-vs-cats"
      ]
    },
    {
      "cell_type": "code",
      "source": [
        "!unzip -qq dogs-vs-cats.zip"
      ],
      "metadata": {
        "id": "KDAvTYPeMbgy"
      },
      "execution_count": 6,
      "outputs": []
    },
    {
      "cell_type": "code",
      "execution_count": 7,
      "metadata": {
        "id": "xsUkygm5K3M6"
      },
      "outputs": [],
      "source": [
        "!unzip -qq train.zip"
      ]
    },
    {
      "cell_type": "markdown",
      "metadata": {
        "id": "wa_0UmV4K3M6"
      },
      "source": [
        "**Question-1**\n",
        "\n",
        "Consider the Cats & Dogs example. Start initially with a training sample of 1000, a validation sample of 500, and a test sample of 500 (like in the text). Use any technique to reduce overfitting and improve performance in developing a network that you train from scratch. What performance did you achieve?\n",
        "\n",
        "We will develop a convolutional neural network from scratch here. Now that we have loaded the dataset, we can create subsets of it for our training, validation, and test data.In this case, we use 1000 images for training, 500 for validation, and 500 for testing.\n",
        "\n",
        "Dividing the Dataset into Train, Validation and Test"
      ]
    },
    {
      "cell_type": "markdown",
      "source": [],
      "metadata": {
        "id": "J5JAaZJfmxVB"
      }
    },
    {
      "cell_type": "code",
      "execution_count": 8,
      "metadata": {
        "id": "4FysLcTOK3M6"
      },
      "outputs": [],
      "source": [
        "import os, shutil, pathlib\n",
        "\n",
        "original_dir = pathlib.Path(\"train\")\n",
        "new_base_dir = pathlib.Path(\"cats_vs_dogs_small\")\n",
        "\n",
        "def make_subset(subset_name, start_index, end_index):\n",
        "    for category in (\"cat\", \"dog\"):\n",
        "        dir = new_base_dir / subset_name / category\n",
        "        os.makedirs(dir)\n",
        "        fnames = [f\"{category}.{i}.jpg\" for i in range(start_index, end_index)]\n",
        "        for fname in fnames:\n",
        "            shutil.copyfile(src=original_dir / fname,\n",
        "                            dst=dir / fname)\n",
        "\n",
        "make_subset(\"test\", start_index=0, end_index=500)\n",
        "make_subset(\"validation\", start_index=500, end_index=1000)\n",
        "make_subset(\"train\", start_index=1000, end_index=2000)"
      ]
    },
    {
      "cell_type": "markdown",
      "metadata": {
        "id": "HnyGI0BTK3M7"
      },
      "source": [
        "### Building the model"
      ]
    },
    {
      "cell_type": "markdown",
      "source": [
        "Our input for this network is images (a 3D tensor), which needs to be reshaped first.We then use convolution with a window size of 3x3 (kernel_size) and maxpooling with a 2x2 window (pool_size).\n",
        "\n",
        "This assignment aims to classify images; therefore, we use a dense layer as a final layer to determine whether the output is classified as a \"cat\" or a \"dog\".There is only one output node, either \"cat\" or \"dog\".To feed the dense layer, we first need a layer that flattens the 3D shape into 1D."
      ],
      "metadata": {
        "id": "oPt6Un8hnnu1"
      }
    },
    {
      "cell_type": "markdown",
      "metadata": {
        "id": "nEeWxzsaK3M7"
      },
      "source": [
        "**Instantiating a small convnet for dogs vs. cats classification**"
      ]
    },
    {
      "cell_type": "code",
      "execution_count": 9,
      "metadata": {
        "id": "YK28HNdYK3M7"
      },
      "outputs": [],
      "source": [
        "from tensorflow import keras\n",
        "from tensorflow.keras import layers\n",
        "\n",
        "inputs = keras.Input(shape=(180, 180, 3))\n",
        "x = layers.Rescaling(1./255)(inputs)\n",
        "x = layers.Conv2D(filters=32, kernel_size=3, activation=\"relu\")(x)\n",
        "x = layers.MaxPooling2D(pool_size=2)(x)\n",
        "x = layers.Conv2D(filters=64, kernel_size=3, activation=\"relu\")(x)\n",
        "x = layers.MaxPooling2D(pool_size=2)(x)\n",
        "x = layers.Conv2D(filters=128, kernel_size=3, activation=\"relu\")(x)\n",
        "x = layers.MaxPooling2D(pool_size=2)(x)\n",
        "x = layers.Conv2D(filters=256, kernel_size=3, activation=\"relu\")(x)\n",
        "x = layers.MaxPooling2D(pool_size=2)(x)\n",
        "x = layers.Conv2D(filters=256, kernel_size=3, activation=\"relu\")(x)\n",
        "x = layers.Flatten()(x)\n",
        "outputs = layers.Dense(1, activation=\"sigmoid\")(x)\n",
        "model = keras.Model(inputs=inputs, outputs=outputs)"
      ]
    },
    {
      "cell_type": "code",
      "execution_count": 10,
      "metadata": {
        "colab": {
          "base_uri": "https://localhost:8080/"
        },
        "id": "0hoGu8jSK3M8",
        "outputId": "a8a0f6b3-4eff-4991-8d68-e2259f2c083f"
      },
      "outputs": [
        {
          "output_type": "stream",
          "name": "stdout",
          "text": [
            "Model: \"model\"\n",
            "_________________________________________________________________\n",
            " Layer (type)                Output Shape              Param #   \n",
            "=================================================================\n",
            " input_1 (InputLayer)        [(None, 180, 180, 3)]     0         \n",
            "                                                                 \n",
            " rescaling (Rescaling)       (None, 180, 180, 3)       0         \n",
            "                                                                 \n",
            " conv2d (Conv2D)             (None, 178, 178, 32)      896       \n",
            "                                                                 \n",
            " max_pooling2d (MaxPooling2D  (None, 89, 89, 32)       0         \n",
            " )                                                               \n",
            "                                                                 \n",
            " conv2d_1 (Conv2D)           (None, 87, 87, 64)        18496     \n",
            "                                                                 \n",
            " max_pooling2d_1 (MaxPooling  (None, 43, 43, 64)       0         \n",
            " 2D)                                                             \n",
            "                                                                 \n",
            " conv2d_2 (Conv2D)           (None, 41, 41, 128)       73856     \n",
            "                                                                 \n",
            " max_pooling2d_2 (MaxPooling  (None, 20, 20, 128)      0         \n",
            " 2D)                                                             \n",
            "                                                                 \n",
            " conv2d_3 (Conv2D)           (None, 18, 18, 256)       295168    \n",
            "                                                                 \n",
            " max_pooling2d_3 (MaxPooling  (None, 9, 9, 256)        0         \n",
            " 2D)                                                             \n",
            "                                                                 \n",
            " conv2d_4 (Conv2D)           (None, 7, 7, 256)         590080    \n",
            "                                                                 \n",
            " flatten (Flatten)           (None, 12544)             0         \n",
            "                                                                 \n",
            " dense (Dense)               (None, 1)                 12545     \n",
            "                                                                 \n",
            "=================================================================\n",
            "Total params: 991,041\n",
            "Trainable params: 991,041\n",
            "Non-trainable params: 0\n",
            "_________________________________________________________________\n"
          ]
        }
      ],
      "source": [
        "model.summary()"
      ]
    },
    {
      "cell_type": "markdown",
      "source": [
        "From the above summary,we can see that there are 991,041 parameters to optimize."
      ],
      "metadata": {
        "id": "JAkKVHV_RyD1"
      }
    },
    {
      "cell_type": "markdown",
      "metadata": {
        "id": "bPgxF46tK3M8"
      },
      "source": [
        "**Configuring the model for training**"
      ]
    },
    {
      "cell_type": "code",
      "execution_count": 11,
      "metadata": {
        "id": "e6nhe65PK3M9"
      },
      "outputs": [],
      "source": [
        "model.compile(loss=\"binary_crossentropy\",\n",
        "              optimizer=\"rmsprop\",\n",
        "              metrics=[\"accuracy\"])"
      ]
    },
    {
      "cell_type": "markdown",
      "metadata": {
        "id": "bbLAcKRrK3M9"
      },
      "source": [
        "**Data preprocessing**"
      ]
    },
    {
      "cell_type": "markdown",
      "metadata": {
        "id": "OMR2Il5RK3M-"
      },
      "source": [
        "**Using `image_dataset_from_directory` to read images**"
      ]
    },
    {
      "cell_type": "markdown",
      "source": [
        "This code Modifies the  images to tensors in their specific folders of training,validation and test."
      ],
      "metadata": {
        "id": "4RHe6YaBSFsA"
      }
    },
    {
      "cell_type": "code",
      "execution_count": 12,
      "metadata": {
        "colab": {
          "base_uri": "https://localhost:8080/"
        },
        "id": "Iuuvq2QzK3M-",
        "outputId": "11c6e2f7-addd-4128-c249-69b4aabb9504"
      },
      "outputs": [
        {
          "output_type": "stream",
          "name": "stdout",
          "text": [
            "Found 2000 files belonging to 2 classes.\n",
            "Found 1000 files belonging to 2 classes.\n",
            "Found 1000 files belonging to 2 classes.\n"
          ]
        }
      ],
      "source": [
        "from tensorflow.keras.utils import image_dataset_from_directory\n",
        "\n",
        "train_dataset = image_dataset_from_directory(\n",
        "    new_base_dir / \"train\",\n",
        "    image_size=(180, 180),\n",
        "    batch_size=32)\n",
        "validation_dataset = image_dataset_from_directory(\n",
        "    new_base_dir / \"validation\",\n",
        "    image_size=(180, 180),\n",
        "    batch_size=32)\n",
        "test_dataset = image_dataset_from_directory(\n",
        "    new_base_dir / \"test\",\n",
        "    image_size=(180, 180),\n",
        "    batch_size=32)"
      ]
    },
    {
      "cell_type": "code",
      "execution_count": 13,
      "metadata": {
        "id": "QkbpoJvRK3M_"
      },
      "outputs": [],
      "source": [
        "import numpy as np\n",
        "import tensorflow as tf\n",
        "random_numbers = np.random.normal(size=(1000, 16))\n",
        "dataset = tf.data.Dataset.from_tensor_slices(random_numbers)"
      ]
    },
    {
      "cell_type": "code",
      "execution_count": 14,
      "metadata": {
        "colab": {
          "base_uri": "https://localhost:8080/"
        },
        "id": "JDMmt1ZcK3M_",
        "outputId": "7f07970a-6b18-403b-bd62-84c190771c05"
      },
      "outputs": [
        {
          "output_type": "stream",
          "name": "stdout",
          "text": [
            "(16,)\n",
            "(16,)\n",
            "(16,)\n"
          ]
        }
      ],
      "source": [
        "for i, element in enumerate(dataset):\n",
        "    print(element.shape)\n",
        "    if i >= 2:\n",
        "        break"
      ]
    },
    {
      "cell_type": "code",
      "execution_count": 15,
      "metadata": {
        "colab": {
          "base_uri": "https://localhost:8080/"
        },
        "id": "gRe4uSVMK3NN",
        "outputId": "68c40750-b625-40e7-82fc-e9218a8965be"
      },
      "outputs": [
        {
          "output_type": "stream",
          "name": "stdout",
          "text": [
            "(32, 16)\n",
            "(32, 16)\n",
            "(32, 16)\n"
          ]
        }
      ],
      "source": [
        "batched_dataset = dataset.batch(32)\n",
        "for i, element in enumerate(batched_dataset):\n",
        "    print(element.shape)\n",
        "    if i >= 2:\n",
        "        break"
      ]
    },
    {
      "cell_type": "code",
      "execution_count": 16,
      "metadata": {
        "colab": {
          "base_uri": "https://localhost:8080/"
        },
        "id": "haYcxEsbK3NO",
        "outputId": "490e624c-e97e-4848-ed54-e8d99d103ec7"
      },
      "outputs": [
        {
          "output_type": "stream",
          "name": "stdout",
          "text": [
            "(4, 4)\n",
            "(4, 4)\n",
            "(4, 4)\n"
          ]
        }
      ],
      "source": [
        "reshaped_dataset = dataset.map(lambda x: tf.reshape(x, (4, 4)))\n",
        "for i, element in enumerate(reshaped_dataset):\n",
        "    print(element.shape)\n",
        "    if i >= 2:\n",
        "        break"
      ]
    },
    {
      "cell_type": "markdown",
      "metadata": {
        "id": "9QgWi2KuK3NO"
      },
      "source": [
        "**Displaying the shapes of the data and labels yielded by the `Dataset`**"
      ]
    },
    {
      "cell_type": "code",
      "execution_count": 17,
      "metadata": {
        "colab": {
          "base_uri": "https://localhost:8080/"
        },
        "id": "7i8obEf2K3NO",
        "outputId": "68549da2-2740-4862-db1f-c16e3957ce23"
      },
      "outputs": [
        {
          "output_type": "stream",
          "name": "stdout",
          "text": [
            "data batch shape: (32, 180, 180, 3)\n",
            "labels batch shape: (32,)\n"
          ]
        }
      ],
      "source": [
        "for data_batch, labels_batch in train_dataset:\n",
        "    print(\"data batch shape:\", data_batch.shape)\n",
        "    print(\"labels batch shape:\", labels_batch.shape)\n",
        "    break"
      ]
    },
    {
      "cell_type": "markdown",
      "metadata": {
        "id": "GcCCcivsK3NP"
      },
      "source": [
        "**Fitting the model using a `Dataset`**"
      ]
    },
    {
      "cell_type": "markdown",
      "source": [
        "In this case, we will use \"callbacks\" because they will automatically store a file containing the weights generated from the best epoch, so we do not need to retrain the model."
      ],
      "metadata": {
        "id": "x8XZqON3SOW1"
      }
    },
    {
      "cell_type": "code",
      "execution_count": 18,
      "metadata": {
        "colab": {
          "base_uri": "https://localhost:8080/"
        },
        "id": "VuQ8xB-vK3NU",
        "outputId": "d8073c75-240d-4470-a442-1b2e8e80f6d1"
      },
      "outputs": [
        {
          "output_type": "stream",
          "name": "stdout",
          "text": [
            "Epoch 1/30\n",
            "63/63 [==============================] - 14s 85ms/step - loss: 0.7833 - accuracy: 0.5050 - val_loss: 0.6916 - val_accuracy: 0.5110\n",
            "Epoch 2/30\n",
            "63/63 [==============================] - 5s 75ms/step - loss: 0.6898 - accuracy: 0.5380 - val_loss: 0.6687 - val_accuracy: 0.5700\n",
            "Epoch 3/30\n",
            "63/63 [==============================] - 5s 73ms/step - loss: 0.6832 - accuracy: 0.6130 - val_loss: 0.6753 - val_accuracy: 0.6090\n",
            "Epoch 4/30\n",
            "63/63 [==============================] - 5s 73ms/step - loss: 0.6390 - accuracy: 0.6335 - val_loss: 0.7023 - val_accuracy: 0.5770\n",
            "Epoch 5/30\n",
            "63/63 [==============================] - 5s 71ms/step - loss: 0.6042 - accuracy: 0.6685 - val_loss: 0.5938 - val_accuracy: 0.6800\n",
            "Epoch 6/30\n",
            "63/63 [==============================] - 5s 72ms/step - loss: 0.5819 - accuracy: 0.6975 - val_loss: 0.6274 - val_accuracy: 0.6690\n",
            "Epoch 7/30\n",
            "63/63 [==============================] - 5s 71ms/step - loss: 0.5415 - accuracy: 0.7305 - val_loss: 0.6298 - val_accuracy: 0.6750\n",
            "Epoch 8/30\n",
            "63/63 [==============================] - 5s 71ms/step - loss: 0.5160 - accuracy: 0.7500 - val_loss: 0.6803 - val_accuracy: 0.6430\n",
            "Epoch 9/30\n",
            "63/63 [==============================] - 5s 71ms/step - loss: 0.4734 - accuracy: 0.7900 - val_loss: 0.6848 - val_accuracy: 0.6760\n",
            "Epoch 10/30\n",
            "63/63 [==============================] - 5s 71ms/step - loss: 0.4256 - accuracy: 0.7980 - val_loss: 0.6953 - val_accuracy: 0.6990\n",
            "Epoch 11/30\n",
            "63/63 [==============================] - 5s 71ms/step - loss: 0.3653 - accuracy: 0.8490 - val_loss: 0.6630 - val_accuracy: 0.7340\n",
            "Epoch 12/30\n",
            "63/63 [==============================] - 5s 74ms/step - loss: 0.3019 - accuracy: 0.8680 - val_loss: 0.8484 - val_accuracy: 0.7380\n",
            "Epoch 13/30\n",
            "63/63 [==============================] - 5s 73ms/step - loss: 0.2649 - accuracy: 0.8940 - val_loss: 0.8152 - val_accuracy: 0.7160\n",
            "Epoch 14/30\n",
            "63/63 [==============================] - 5s 73ms/step - loss: 0.2201 - accuracy: 0.9105 - val_loss: 1.1222 - val_accuracy: 0.7000\n",
            "Epoch 15/30\n",
            "63/63 [==============================] - 5s 72ms/step - loss: 0.1545 - accuracy: 0.9405 - val_loss: 1.0756 - val_accuracy: 0.7160\n",
            "Epoch 16/30\n",
            "63/63 [==============================] - 5s 73ms/step - loss: 0.1331 - accuracy: 0.9515 - val_loss: 1.4872 - val_accuracy: 0.6730\n",
            "Epoch 17/30\n",
            "63/63 [==============================] - 5s 72ms/step - loss: 0.1147 - accuracy: 0.9610 - val_loss: 1.1675 - val_accuracy: 0.7270\n",
            "Epoch 18/30\n",
            "63/63 [==============================] - 5s 74ms/step - loss: 0.0975 - accuracy: 0.9705 - val_loss: 1.4012 - val_accuracy: 0.7000\n",
            "Epoch 19/30\n",
            "63/63 [==============================] - 5s 71ms/step - loss: 0.0844 - accuracy: 0.9705 - val_loss: 1.3475 - val_accuracy: 0.7330\n",
            "Epoch 20/30\n",
            "63/63 [==============================] - 5s 74ms/step - loss: 0.0939 - accuracy: 0.9775 - val_loss: 1.7437 - val_accuracy: 0.7130\n",
            "Epoch 21/30\n",
            "63/63 [==============================] - 5s 73ms/step - loss: 0.0707 - accuracy: 0.9785 - val_loss: 1.7803 - val_accuracy: 0.7100\n",
            "Epoch 22/30\n",
            "63/63 [==============================] - 5s 72ms/step - loss: 0.0512 - accuracy: 0.9805 - val_loss: 1.8557 - val_accuracy: 0.7340\n",
            "Epoch 23/30\n",
            "63/63 [==============================] - 5s 70ms/step - loss: 0.0517 - accuracy: 0.9880 - val_loss: 1.9586 - val_accuracy: 0.6870\n",
            "Epoch 24/30\n",
            "63/63 [==============================] - 5s 72ms/step - loss: 0.0618 - accuracy: 0.9770 - val_loss: 1.9483 - val_accuracy: 0.7180\n",
            "Epoch 25/30\n",
            "63/63 [==============================] - 5s 73ms/step - loss: 0.0504 - accuracy: 0.9860 - val_loss: 2.1891 - val_accuracy: 0.7110\n",
            "Epoch 26/30\n",
            "63/63 [==============================] - 5s 72ms/step - loss: 0.0510 - accuracy: 0.9840 - val_loss: 1.8654 - val_accuracy: 0.7290\n",
            "Epoch 27/30\n",
            "63/63 [==============================] - 5s 71ms/step - loss: 0.0626 - accuracy: 0.9805 - val_loss: 2.8874 - val_accuracy: 0.6970\n",
            "Epoch 28/30\n",
            "63/63 [==============================] - 5s 73ms/step - loss: 0.0439 - accuracy: 0.9840 - val_loss: 2.8262 - val_accuracy: 0.7120\n",
            "Epoch 29/30\n",
            "63/63 [==============================] - 5s 72ms/step - loss: 0.0880 - accuracy: 0.9790 - val_loss: 2.4258 - val_accuracy: 0.7080\n",
            "Epoch 30/30\n",
            "63/63 [==============================] - 5s 72ms/step - loss: 0.0590 - accuracy: 0.9810 - val_loss: 2.6185 - val_accuracy: 0.7090\n"
          ]
        }
      ],
      "source": [
        "callbacks = [\n",
        "    keras.callbacks.ModelCheckpoint(\n",
        "        filepath=\"convnet_from_scratch.keras\",\n",
        "        save_best_only=True,\n",
        "        monitor=\"val_loss\")\n",
        "]\n",
        "history = model.fit(\n",
        "    train_dataset,\n",
        "    epochs=30,\n",
        "    validation_data=validation_dataset,\n",
        "    callbacks=callbacks)"
      ]
    },
    {
      "cell_type": "markdown",
      "metadata": {
        "id": "7YNRRqgUK3NV"
      },
      "source": [
        "**Displaying curves of loss and accuracy during training**"
      ]
    },
    {
      "cell_type": "code",
      "execution_count": 19,
      "metadata": {
        "colab": {
          "base_uri": "https://localhost:8080/",
          "height": 545
        },
        "id": "NXmg6eLZK3NW",
        "outputId": "4bf29cd8-b7ad-46ca-fbc8-361c9f3410cb"
      },
      "outputs": [
        {
          "output_type": "display_data",
          "data": {
            "text/plain": [
              "<Figure size 432x288 with 1 Axes>"
            ],
            "image/png": "[encoded data removed]"
          },
          "metadata": {
            "needs_background": "light"
          }
        },
        {
          "output_type": "display_data",
          "data": {
            "text/plain": [
              "<Figure size 432x288 with 1 Axes>"
            ],
            "image/png": "[encoded data removed]"
          },
          "metadata": {
            "needs_background": "light"
          }
        }
      ],
      "source": [
        "import matplotlib.pyplot as plt\n",
        "accuracy = history.history[\"accuracy\"]\n",
        "val_accuracy = history.history[\"val_accuracy\"]\n",
        "loss = history.history[\"loss\"]\n",
        "val_loss = history.history[\"val_loss\"]\n",
        "epochs = range(1, len(accuracy) + 1)\n",
        "plt.plot(epochs, accuracy, \"bo\", label=\"Training accuracy\")\n",
        "plt.plot(epochs, val_accuracy, \"b\", label=\"Validation accuracy\")\n",
        "plt.title(\"Training and validation accuracy\")\n",
        "plt.legend()\n",
        "plt.figure()\n",
        "plt.plot(epochs, loss, \"bo\", label=\"Training loss\")\n",
        "plt.plot(epochs, val_loss, \"b\", label=\"Validation loss\")\n",
        "plt.title(\"Training and validation loss\")\n",
        "plt.legend()\n",
        "plt.show()"
      ]
    },
    {
      "cell_type": "markdown",
      "metadata": {
        "id": "Fmvf4J9tK3NW"
      },
      "source": [
        "**Evaluating the model on the test set**"
      ]
    },
    {
      "cell_type": "code",
      "execution_count": 20,
      "metadata": {
        "colab": {
          "base_uri": "https://localhost:8080/"
        },
        "id": "hgAmD8OZK3NX",
        "outputId": "8e2af38d-6716-4cc3-fa05-c6ecbe9f16b1"
      },
      "outputs": [
        {
          "output_type": "stream",
          "name": "stdout",
          "text": [
            "32/32 [==============================] - 2s 36ms/step - loss: 0.5584 - accuracy: 0.7000\n",
            "Test accuracy: 0.700\n"
          ]
        }
      ],
      "source": [
        "test_model = keras.models.load_model(\"convnet_from_scratch.keras\")\n",
        "test_loss, test_acc = test_model.evaluate(test_dataset)\n",
        "print(f\"Test accuracy: {test_acc:.3f}\")"
      ]
    },
    {
      "cell_type": "markdown",
      "source": [
        "The validation and test accuracy of the model tends to be very low which is 70%.\n",
        "\n",
        "In order to improve the model performance, we will train our model using few techniques like \n",
        "\n",
        " a) Data Augmentation \n",
        "\n",
        " b) Drop out Method \n",
        "\n",
        " c) Data Augmentation and drop out method\n",
        "\n"
      ],
      "metadata": {
        "id": "dU_NckraSTpB"
      }
    },
    {
      "cell_type": "markdown",
      "metadata": {
        "id": "m2Uuvh-9K3NX"
      },
      "source": [
        "**a)Using Data Augmentation**"
      ]
    },
    {
      "cell_type": "markdown",
      "metadata": {
        "id": "lON4Ol7HK3NY"
      },
      "source": [
        "Defining a data augmentation stage to add to an image model"
      ]
    },
    {
      "cell_type": "code",
      "execution_count": 21,
      "metadata": {
        "id": "QQdtQULzK3NY"
      },
      "outputs": [],
      "source": [
        "from tensorflow import keras\n",
        "from tensorflow.keras import layers\n",
        "data_augmentation = keras.Sequential(\n",
        "    [\n",
        "        layers.RandomFlip(\"horizontal\"),\n",
        "        layers.RandomRotation(0.1),\n",
        "        layers.RandomZoom(0.2),\n",
        "    ]\n",
        ")"
      ]
    },
    {
      "cell_type": "markdown",
      "source": [
        "Defining a new convnet that includes image augmentation"
      ],
      "metadata": {
        "id": "XnhNsCrTqCNL"
      }
    },
    {
      "cell_type": "code",
      "source": [
        "inputs = keras.Input(shape=(180, 180, 3))\n",
        "x = data_augmentation(inputs)\n",
        "x = layers.Rescaling(1./255)(x)\n",
        "x = layers.Conv2D(filters=32, kernel_size=3, activation=\"relu\")(x)\n",
        "x = layers.MaxPooling2D(pool_size=2)(x)\n",
        "x = layers.Conv2D(filters=64, kernel_size=3, activation=\"relu\")(x)\n",
        "x = layers.MaxPooling2D(pool_size=2)(x)\n",
        "x = layers.Conv2D(filters=128, kernel_size=3, activation=\"relu\")(x)\n",
        "x = layers.MaxPooling2D(pool_size=2)(x)\n",
        "x = layers.Conv2D(filters=256, kernel_size=3, activation=\"relu\")(x)\n",
        "x = layers.MaxPooling2D(pool_size=2)(x)\n",
        "x = layers.Conv2D(filters=256, kernel_size=3, activation=\"relu\")(x)\n",
        "x = layers.Flatten()(x)\n",
        "outputs = layers.Dense(1, activation=\"sigmoid\")(x)\n",
        "model = keras.Model(inputs=inputs, outputs=outputs)\n",
        "\n",
        "model.compile(loss=\"binary_crossentropy\",\n",
        "              optimizer=\"rmsprop\",\n",
        "              metrics=[\"accuracy\"])"
      ],
      "metadata": {
        "id": "mFeDVvvYgbce"
      },
      "execution_count": 22,
      "outputs": []
    },
    {
      "cell_type": "markdown",
      "source": [
        "Training the regularized convnet"
      ],
      "metadata": {
        "id": "UZObEjEJSq0z"
      }
    },
    {
      "cell_type": "code",
      "source": [
        "callbacks = [\n",
        "    keras.callbacks.ModelCheckpoint(\n",
        "        filepath=\"convnet_from_scratch_with_augmentation.keras\",\n",
        "        save_best_only=True,\n",
        "        monitor=\"val_loss\")\n",
        "]\n",
        "history = model.fit(\n",
        "    train_dataset,\n",
        "    epochs=100,\n",
        "    validation_data=validation_dataset,\n",
        "     callbacks=callbacks)"
      ],
      "metadata": {
        "colab": {
          "base_uri": "https://localhost:8080/"
        },
        "id": "J3iEHq8Bgm5z",
        "outputId": "1fd90d96-9428-4f39-c6af-a04f7ff9ef61"
      },
      "execution_count": 23,
      "outputs": [
        {
          "output_type": "stream",
          "name": "stdout",
          "text": [
            "Epoch 1/100\n",
            "63/63 [==============================] - 8s 97ms/step - loss: 0.7425 - accuracy: 0.5195 - val_loss: 0.6915 - val_accuracy: 0.5230\n",
            "Epoch 2/100\n",
            "63/63 [==============================] - 6s 96ms/step - loss: 0.6969 - accuracy: 0.5305 - val_loss: 0.6876 - val_accuracy: 0.5340\n",
            "Epoch 3/100\n",
            "63/63 [==============================] - 6s 96ms/step - loss: 0.6943 - accuracy: 0.5670 - val_loss: 0.6629 - val_accuracy: 0.5730\n",
            "Epoch 4/100\n",
            "63/63 [==============================] - 6s 99ms/step - loss: 0.6832 - accuracy: 0.6115 - val_loss: 0.6530 - val_accuracy: 0.6150\n",
            "Epoch 5/100\n",
            "63/63 [==============================] - 6s 94ms/step - loss: 0.6535 - accuracy: 0.6145 - val_loss: 0.6677 - val_accuracy: 0.6310\n",
            "Epoch 6/100\n",
            "63/63 [==============================] - 6s 94ms/step - loss: 0.6408 - accuracy: 0.6450 - val_loss: 0.6752 - val_accuracy: 0.6550\n",
            "Epoch 7/100\n",
            "63/63 [==============================] - 6s 98ms/step - loss: 0.6292 - accuracy: 0.6685 - val_loss: 0.5794 - val_accuracy: 0.6970\n",
            "Epoch 8/100\n",
            "63/63 [==============================] - 6s 96ms/step - loss: 0.6084 - accuracy: 0.6765 - val_loss: 0.6184 - val_accuracy: 0.6770\n",
            "Epoch 9/100\n",
            "63/63 [==============================] - 6s 95ms/step - loss: 0.5967 - accuracy: 0.6760 - val_loss: 0.6412 - val_accuracy: 0.6740\n",
            "Epoch 10/100\n",
            "63/63 [==============================] - 6s 96ms/step - loss: 0.5973 - accuracy: 0.6950 - val_loss: 0.7086 - val_accuracy: 0.6500\n",
            "Epoch 11/100\n",
            "63/63 [==============================] - 6s 98ms/step - loss: 0.5851 - accuracy: 0.6885 - val_loss: 0.6300 - val_accuracy: 0.6920\n",
            "Epoch 12/100\n",
            "63/63 [==============================] - 6s 95ms/step - loss: 0.5694 - accuracy: 0.7125 - val_loss: 0.5777 - val_accuracy: 0.7300\n",
            "Epoch 13/100\n",
            "63/63 [==============================] - 6s 95ms/step - loss: 0.5723 - accuracy: 0.7120 - val_loss: 0.5493 - val_accuracy: 0.7350\n",
            "Epoch 14/100\n",
            "63/63 [==============================] - 6s 95ms/step - loss: 0.5512 - accuracy: 0.7135 - val_loss: 0.6457 - val_accuracy: 0.7140\n",
            "Epoch 15/100\n",
            "63/63 [==============================] - 6s 96ms/step - loss: 0.5377 - accuracy: 0.7330 - val_loss: 0.5381 - val_accuracy: 0.7410\n",
            "Epoch 16/100\n",
            "63/63 [==============================] - 6s 95ms/step - loss: 0.5187 - accuracy: 0.7485 - val_loss: 0.5029 - val_accuracy: 0.7710\n",
            "Epoch 17/100\n",
            "63/63 [==============================] - 6s 96ms/step - loss: 0.5219 - accuracy: 0.7450 - val_loss: 0.5199 - val_accuracy: 0.7660\n",
            "Epoch 18/100\n",
            "63/63 [==============================] - 6s 96ms/step - loss: 0.5156 - accuracy: 0.7375 - val_loss: 0.5295 - val_accuracy: 0.7380\n",
            "Epoch 19/100\n",
            "63/63 [==============================] - 6s 96ms/step - loss: 0.5081 - accuracy: 0.7555 - val_loss: 0.5256 - val_accuracy: 0.7630\n",
            "Epoch 20/100\n",
            "63/63 [==============================] - 6s 94ms/step - loss: 0.4875 - accuracy: 0.7680 - val_loss: 0.5509 - val_accuracy: 0.7500\n",
            "Epoch 21/100\n",
            "63/63 [==============================] - 6s 95ms/step - loss: 0.4822 - accuracy: 0.7730 - val_loss: 0.5135 - val_accuracy: 0.7640\n",
            "Epoch 22/100\n",
            "63/63 [==============================] - 6s 95ms/step - loss: 0.4542 - accuracy: 0.7900 - val_loss: 0.5175 - val_accuracy: 0.7880\n",
            "Epoch 23/100\n",
            "63/63 [==============================] - 6s 96ms/step - loss: 0.4496 - accuracy: 0.7845 - val_loss: 0.5355 - val_accuracy: 0.7710\n",
            "Epoch 24/100\n",
            "63/63 [==============================] - 6s 93ms/step - loss: 0.4577 - accuracy: 0.7900 - val_loss: 0.5872 - val_accuracy: 0.7360\n",
            "Epoch 25/100\n",
            "63/63 [==============================] - 6s 97ms/step - loss: 0.4566 - accuracy: 0.7865 - val_loss: 0.5174 - val_accuracy: 0.7720\n",
            "Epoch 26/100\n",
            "63/63 [==============================] - 6s 96ms/step - loss: 0.4464 - accuracy: 0.7860 - val_loss: 0.5869 - val_accuracy: 0.7680\n",
            "Epoch 27/100\n",
            "63/63 [==============================] - 6s 95ms/step - loss: 0.4334 - accuracy: 0.7990 - val_loss: 0.6246 - val_accuracy: 0.7580\n",
            "Epoch 28/100\n",
            "63/63 [==============================] - 6s 96ms/step - loss: 0.4049 - accuracy: 0.8065 - val_loss: 0.5313 - val_accuracy: 0.7920\n",
            "Epoch 29/100\n",
            "63/63 [==============================] - 6s 95ms/step - loss: 0.4253 - accuracy: 0.8105 - val_loss: 0.5063 - val_accuracy: 0.7950\n",
            "Epoch 30/100\n",
            "63/63 [==============================] - 6s 97ms/step - loss: 0.4052 - accuracy: 0.8150 - val_loss: 0.5526 - val_accuracy: 0.7840\n",
            "Epoch 31/100\n",
            "63/63 [==============================] - 6s 94ms/step - loss: 0.3953 - accuracy: 0.8170 - val_loss: 0.4823 - val_accuracy: 0.7940\n",
            "Epoch 32/100\n",
            "63/63 [==============================] - 6s 96ms/step - loss: 0.3783 - accuracy: 0.8305 - val_loss: 0.5054 - val_accuracy: 0.7840\n",
            "Epoch 33/100\n",
            "63/63 [==============================] - 6s 97ms/step - loss: 0.3881 - accuracy: 0.8300 - val_loss: 0.4679 - val_accuracy: 0.7970\n",
            "Epoch 34/100\n",
            "63/63 [==============================] - 6s 96ms/step - loss: 0.3659 - accuracy: 0.8330 - val_loss: 0.4764 - val_accuracy: 0.8130\n",
            "Epoch 35/100\n",
            "63/63 [==============================] - 6s 94ms/step - loss: 0.3610 - accuracy: 0.8345 - val_loss: 0.5050 - val_accuracy: 0.7940\n",
            "Epoch 36/100\n",
            "63/63 [==============================] - 6s 95ms/step - loss: 0.3606 - accuracy: 0.8390 - val_loss: 0.4975 - val_accuracy: 0.8020\n",
            "Epoch 37/100\n",
            "63/63 [==============================] - 6s 93ms/step - loss: 0.3294 - accuracy: 0.8575 - val_loss: 0.5584 - val_accuracy: 0.7720\n",
            "Epoch 38/100\n",
            "63/63 [==============================] - 6s 94ms/step - loss: 0.3392 - accuracy: 0.8525 - val_loss: 0.5514 - val_accuracy: 0.7890\n",
            "Epoch 39/100\n",
            "63/63 [==============================] - 6s 93ms/step - loss: 0.3151 - accuracy: 0.8665 - val_loss: 0.6971 - val_accuracy: 0.7340\n",
            "Epoch 40/100\n",
            "63/63 [==============================] - 6s 95ms/step - loss: 0.3350 - accuracy: 0.8500 - val_loss: 0.5563 - val_accuracy: 0.7920\n",
            "Epoch 41/100\n",
            "63/63 [==============================] - 6s 95ms/step - loss: 0.3268 - accuracy: 0.8610 - val_loss: 0.5380 - val_accuracy: 0.8030\n",
            "Epoch 42/100\n",
            "63/63 [==============================] - 6s 96ms/step - loss: 0.3045 - accuracy: 0.8705 - val_loss: 0.5731 - val_accuracy: 0.8040\n",
            "Epoch 43/100\n",
            "63/63 [==============================] - 6s 97ms/step - loss: 0.3070 - accuracy: 0.8665 - val_loss: 0.5723 - val_accuracy: 0.7840\n",
            "Epoch 44/100\n",
            "63/63 [==============================] - 6s 96ms/step - loss: 0.3108 - accuracy: 0.8675 - val_loss: 0.5917 - val_accuracy: 0.7660\n",
            "Epoch 45/100\n",
            "63/63 [==============================] - 6s 96ms/step - loss: 0.3015 - accuracy: 0.8700 - val_loss: 0.4494 - val_accuracy: 0.8200\n",
            "Epoch 46/100\n",
            "63/63 [==============================] - 6s 95ms/step - loss: 0.2832 - accuracy: 0.8840 - val_loss: 0.6957 - val_accuracy: 0.7690\n",
            "Epoch 47/100\n",
            "63/63 [==============================] - 6s 96ms/step - loss: 0.2916 - accuracy: 0.8795 - val_loss: 0.6042 - val_accuracy: 0.7710\n",
            "Epoch 48/100\n",
            "63/63 [==============================] - 6s 94ms/step - loss: 0.2706 - accuracy: 0.8910 - val_loss: 0.7085 - val_accuracy: 0.7910\n",
            "Epoch 49/100\n",
            "63/63 [==============================] - 6s 94ms/step - loss: 0.2903 - accuracy: 0.8870 - val_loss: 0.5223 - val_accuracy: 0.8090\n",
            "Epoch 50/100\n",
            "63/63 [==============================] - 6s 95ms/step - loss: 0.2614 - accuracy: 0.8955 - val_loss: 0.5277 - val_accuracy: 0.8130\n",
            "Epoch 51/100\n",
            "63/63 [==============================] - 6s 94ms/step - loss: 0.2472 - accuracy: 0.9000 - val_loss: 0.5911 - val_accuracy: 0.8010\n",
            "Epoch 52/100\n",
            "63/63 [==============================] - 6s 99ms/step - loss: 0.2382 - accuracy: 0.8980 - val_loss: 0.6091 - val_accuracy: 0.8110\n",
            "Epoch 53/100\n",
            "63/63 [==============================] - 6s 96ms/step - loss: 0.2486 - accuracy: 0.8985 - val_loss: 0.5376 - val_accuracy: 0.7860\n",
            "Epoch 54/100\n",
            "63/63 [==============================] - 6s 94ms/step - loss: 0.2274 - accuracy: 0.9165 - val_loss: 0.7728 - val_accuracy: 0.7940\n",
            "Epoch 55/100\n",
            "63/63 [==============================] - 6s 95ms/step - loss: 0.2383 - accuracy: 0.9055 - val_loss: 0.6141 - val_accuracy: 0.8320\n",
            "Epoch 56/100\n",
            "63/63 [==============================] - 6s 96ms/step - loss: 0.2144 - accuracy: 0.9125 - val_loss: 0.5411 - val_accuracy: 0.8170\n",
            "Epoch 57/100\n",
            "63/63 [==============================] - 6s 95ms/step - loss: 0.2333 - accuracy: 0.9010 - val_loss: 0.6028 - val_accuracy: 0.8110\n",
            "Epoch 58/100\n",
            "63/63 [==============================] - 6s 96ms/step - loss: 0.2186 - accuracy: 0.9140 - val_loss: 0.5993 - val_accuracy: 0.8200\n",
            "Epoch 59/100\n",
            "63/63 [==============================] - 6s 97ms/step - loss: 0.2129 - accuracy: 0.9115 - val_loss: 0.6198 - val_accuracy: 0.8160\n",
            "Epoch 60/100\n",
            "63/63 [==============================] - 6s 97ms/step - loss: 0.1888 - accuracy: 0.9205 - val_loss: 0.6020 - val_accuracy: 0.8100\n",
            "Epoch 61/100\n",
            "63/63 [==============================] - 6s 96ms/step - loss: 0.2140 - accuracy: 0.9110 - val_loss: 0.5467 - val_accuracy: 0.8150\n",
            "Epoch 62/100\n",
            "63/63 [==============================] - 6s 96ms/step - loss: 0.2072 - accuracy: 0.9135 - val_loss: 0.6407 - val_accuracy: 0.7910\n",
            "Epoch 63/100\n",
            "63/63 [==============================] - 6s 94ms/step - loss: 0.1993 - accuracy: 0.9185 - val_loss: 0.9058 - val_accuracy: 0.7660\n",
            "Epoch 64/100\n",
            "63/63 [==============================] - 6s 94ms/step - loss: 0.2249 - accuracy: 0.9120 - val_loss: 0.5815 - val_accuracy: 0.8230\n",
            "Epoch 65/100\n",
            "63/63 [==============================] - 6s 94ms/step - loss: 0.1896 - accuracy: 0.9250 - val_loss: 0.5800 - val_accuracy: 0.8170\n",
            "Epoch 66/100\n",
            "63/63 [==============================] - 6s 95ms/step - loss: 0.1920 - accuracy: 0.9250 - val_loss: 0.6535 - val_accuracy: 0.8250\n",
            "Epoch 67/100\n",
            "63/63 [==============================] - 6s 94ms/step - loss: 0.1998 - accuracy: 0.9250 - val_loss: 1.0743 - val_accuracy: 0.7740\n",
            "Epoch 68/100\n",
            "63/63 [==============================] - 6s 96ms/step - loss: 0.1838 - accuracy: 0.9255 - val_loss: 0.8804 - val_accuracy: 0.7800\n",
            "Epoch 69/100\n",
            "63/63 [==============================] - 6s 93ms/step - loss: 0.1852 - accuracy: 0.9315 - val_loss: 0.7499 - val_accuracy: 0.8130\n",
            "Epoch 70/100\n",
            "63/63 [==============================] - 6s 98ms/step - loss: 0.1823 - accuracy: 0.9315 - val_loss: 1.0190 - val_accuracy: 0.7740\n",
            "Epoch 71/100\n",
            "63/63 [==============================] - 6s 98ms/step - loss: 0.1750 - accuracy: 0.9335 - val_loss: 0.7185 - val_accuracy: 0.8290\n",
            "Epoch 72/100\n",
            "63/63 [==============================] - 6s 94ms/step - loss: 0.1587 - accuracy: 0.9380 - val_loss: 0.5681 - val_accuracy: 0.8240\n",
            "Epoch 73/100\n",
            "63/63 [==============================] - 6s 96ms/step - loss: 0.1519 - accuracy: 0.9420 - val_loss: 0.7554 - val_accuracy: 0.8140\n",
            "Epoch 74/100\n",
            "63/63 [==============================] - 6s 96ms/step - loss: 0.1878 - accuracy: 0.9290 - val_loss: 0.8345 - val_accuracy: 0.7830\n",
            "Epoch 75/100\n",
            "63/63 [==============================] - 6s 94ms/step - loss: 0.1883 - accuracy: 0.9305 - val_loss: 0.5515 - val_accuracy: 0.8230\n",
            "Epoch 76/100\n",
            "63/63 [==============================] - 6s 94ms/step - loss: 0.1650 - accuracy: 0.9415 - val_loss: 0.7540 - val_accuracy: 0.8030\n",
            "Epoch 77/100\n",
            "63/63 [==============================] - 6s 96ms/step - loss: 0.1321 - accuracy: 0.9480 - val_loss: 0.7449 - val_accuracy: 0.8230\n",
            "Epoch 78/100\n",
            "63/63 [==============================] - 6s 96ms/step - loss: 0.1614 - accuracy: 0.9450 - val_loss: 0.9081 - val_accuracy: 0.7870\n",
            "Epoch 79/100\n",
            "63/63 [==============================] - 6s 95ms/step - loss: 0.1666 - accuracy: 0.9460 - val_loss: 0.6234 - val_accuracy: 0.8330\n",
            "Epoch 80/100\n",
            "63/63 [==============================] - 6s 98ms/step - loss: 0.1460 - accuracy: 0.9485 - val_loss: 0.6519 - val_accuracy: 0.8280\n",
            "Epoch 81/100\n",
            "63/63 [==============================] - 6s 96ms/step - loss: 0.1550 - accuracy: 0.9410 - val_loss: 0.6391 - val_accuracy: 0.8380\n",
            "Epoch 82/100\n",
            "63/63 [==============================] - 6s 98ms/step - loss: 0.1531 - accuracy: 0.9465 - val_loss: 0.7942 - val_accuracy: 0.7980\n",
            "Epoch 83/100\n",
            "63/63 [==============================] - 6s 95ms/step - loss: 0.1476 - accuracy: 0.9395 - val_loss: 1.1616 - val_accuracy: 0.7980\n",
            "Epoch 84/100\n",
            "63/63 [==============================] - 6s 95ms/step - loss: 0.1468 - accuracy: 0.9480 - val_loss: 0.8115 - val_accuracy: 0.8320\n",
            "Epoch 85/100\n",
            "63/63 [==============================] - 6s 94ms/step - loss: 0.1588 - accuracy: 0.9430 - val_loss: 0.8837 - val_accuracy: 0.8140\n",
            "Epoch 86/100\n",
            "63/63 [==============================] - 6s 95ms/step - loss: 0.1344 - accuracy: 0.9500 - val_loss: 0.7394 - val_accuracy: 0.8140\n",
            "Epoch 87/100\n",
            "63/63 [==============================] - 6s 98ms/step - loss: 0.1274 - accuracy: 0.9540 - val_loss: 0.9339 - val_accuracy: 0.8120\n",
            "Epoch 88/100\n",
            "63/63 [==============================] - 6s 97ms/step - loss: 0.1377 - accuracy: 0.9535 - val_loss: 0.9579 - val_accuracy: 0.8290\n",
            "Epoch 89/100\n",
            "63/63 [==============================] - 6s 97ms/step - loss: 0.1429 - accuracy: 0.9450 - val_loss: 1.3842 - val_accuracy: 0.7840\n",
            "Epoch 90/100\n",
            "63/63 [==============================] - 6s 95ms/step - loss: 0.1597 - accuracy: 0.9505 - val_loss: 0.7431 - val_accuracy: 0.8140\n",
            "Epoch 91/100\n",
            "63/63 [==============================] - 6s 96ms/step - loss: 0.1351 - accuracy: 0.9465 - val_loss: 1.2509 - val_accuracy: 0.7620\n",
            "Epoch 92/100\n",
            "63/63 [==============================] - 6s 97ms/step - loss: 0.1189 - accuracy: 0.9505 - val_loss: 0.8318 - val_accuracy: 0.8140\n",
            "Epoch 93/100\n",
            "63/63 [==============================] - 6s 98ms/step - loss: 0.1240 - accuracy: 0.9565 - val_loss: 0.8294 - val_accuracy: 0.8190\n",
            "Epoch 94/100\n",
            "63/63 [==============================] - 6s 96ms/step - loss: 0.1452 - accuracy: 0.9515 - val_loss: 0.9979 - val_accuracy: 0.7960\n",
            "Epoch 95/100\n",
            "63/63 [==============================] - 6s 96ms/step - loss: 0.1325 - accuracy: 0.9510 - val_loss: 0.9195 - val_accuracy: 0.7850\n",
            "Epoch 96/100\n",
            "63/63 [==============================] - 6s 96ms/step - loss: 0.1255 - accuracy: 0.9550 - val_loss: 1.0064 - val_accuracy: 0.8180\n",
            "Epoch 97/100\n",
            "63/63 [==============================] - 6s 97ms/step - loss: 0.1147 - accuracy: 0.9555 - val_loss: 0.8875 - val_accuracy: 0.8190\n",
            "Epoch 98/100\n",
            "63/63 [==============================] - 6s 96ms/step - loss: 0.1283 - accuracy: 0.9570 - val_loss: 0.7785 - val_accuracy: 0.8380\n",
            "Epoch 99/100\n",
            "63/63 [==============================] - 6s 95ms/step - loss: 0.1411 - accuracy: 0.9595 - val_loss: 0.8253 - val_accuracy: 0.8120\n",
            "Epoch 100/100\n",
            "63/63 [==============================] - 6s 97ms/step - loss: 0.1420 - accuracy: 0.9505 - val_loss: 1.1747 - val_accuracy: 0.7770\n"
          ]
        }
      ]
    },
    {
      "cell_type": "markdown",
      "source": [
        "Evaluating the test dataset"
      ],
      "metadata": {
        "id": "frR8Zb0JSusK"
      }
    },
    {
      "cell_type": "code",
      "source": [
        "test_model = keras.models.load_model(\n",
        "    \"convnet_from_scratch_with_augmentation.keras\")\n",
        "test_loss, test_acc = test_model.evaluate(test_dataset)\n",
        "print(f\"Test accuracy: {test_acc:.3f}\")"
      ],
      "metadata": {
        "id": "HVAzEAc1gsMh",
        "colab": {
          "base_uri": "https://localhost:8080/"
        },
        "outputId": "57683b49-281a-4fa9-db6a-057d6cabd760"
      },
      "execution_count": 24,
      "outputs": [
        {
          "output_type": "stream",
          "name": "stdout",
          "text": [
            "32/32 [==============================] - 2s 35ms/step - loss: 0.4040 - accuracy: 0.8400\n",
            "Test accuracy: 0.840\n"
          ]
        }
      ]
    },
    {
      "cell_type": "markdown",
      "source": [
        "**b) Using Dropout method**"
      ],
      "metadata": {
        "id": "MlI90pkYSyK-"
      }
    },
    {
      "cell_type": "markdown",
      "source": [
        "Defining a new convnet that includes dropout"
      ],
      "metadata": {
        "id": "RnpzbFrqqYun"
      }
    },
    {
      "cell_type": "code",
      "source": [
        "inputs = keras.Input(shape=(180, 180, 3))\n",
        "x = layers.Rescaling(1./255)(inputs)\n",
        "x = layers.Conv2D(filters=32, kernel_size=3, activation=\"relu\")(x)\n",
        "x = layers.MaxPooling2D(pool_size=2)(x)\n",
        "x = layers.Conv2D(filters=64, kernel_size=3, activation=\"relu\")(x)\n",
        "x = layers.MaxPooling2D(pool_size=2)(x)\n",
        "x = layers.Conv2D(filters=128, kernel_size=3, activation=\"relu\")(x)\n",
        "x = layers.MaxPooling2D(pool_size=2)(x)\n",
        "x = layers.Conv2D(filters=256, kernel_size=3, activation=\"relu\")(x)\n",
        "x = layers.MaxPooling2D(pool_size=2)(x)\n",
        "x = layers.Conv2D(filters=256, kernel_size=3, activation=\"relu\")(x)\n",
        "x = layers.Flatten()(x)\n",
        "x = layers.Dropout(0.5)(x)\n",
        "outputs = layers.Dense(1, activation=\"sigmoid\")(x)\n",
        "model = keras.Model(inputs=inputs, outputs=outputs)\n",
        "\n",
        "model.compile(loss=\"binary_crossentropy\",\n",
        "              optimizer=\"rmsprop\",\n",
        "              metrics=[\"accuracy\"])"
      ],
      "metadata": {
        "id": "LjVZqOm-gwtN"
      },
      "execution_count": 25,
      "outputs": []
    },
    {
      "cell_type": "markdown",
      "source": [
        "Training the regularized convnet"
      ],
      "metadata": {
        "id": "iZrl3HOfTBAE"
      }
    },
    {
      "cell_type": "code",
      "source": [
        "callbacks = [\n",
        "    keras.callbacks.ModelCheckpoint(\n",
        "        filepath=\"convnet_from_scratch_with_dropout.keras\",\n",
        "        save_best_only=True,\n",
        "        monitor=\"val_loss\")\n",
        "]\n",
        "history = model.fit(\n",
        "    train_dataset,\n",
        "    epochs=30,\n",
        "    validation_data=validation_dataset,\n",
        "    callbacks=callbacks)"
      ],
      "metadata": {
        "id": "kMKezcsBg0am",
        "colab": {
          "base_uri": "https://localhost:8080/"
        },
        "outputId": "3c82da68-e576-4b97-eab4-0da535270bad"
      },
      "execution_count": 26,
      "outputs": [
        {
          "output_type": "stream",
          "name": "stdout",
          "text": [
            "Epoch 1/30\n",
            "63/63 [==============================] - 6s 75ms/step - loss: 0.7804 - accuracy: 0.5000 - val_loss: 0.6914 - val_accuracy: 0.5250\n",
            "Epoch 2/30\n",
            "63/63 [==============================] - 5s 73ms/step - loss: 0.6971 - accuracy: 0.5365 - val_loss: 0.6780 - val_accuracy: 0.5650\n",
            "Epoch 3/30\n",
            "63/63 [==============================] - 5s 73ms/step - loss: 0.6840 - accuracy: 0.5570 - val_loss: 0.6853 - val_accuracy: 0.5370\n",
            "Epoch 4/30\n",
            "63/63 [==============================] - 5s 75ms/step - loss: 0.6609 - accuracy: 0.6140 - val_loss: 0.6693 - val_accuracy: 0.5830\n",
            "Epoch 5/30\n",
            "63/63 [==============================] - 5s 73ms/step - loss: 0.6530 - accuracy: 0.6360 - val_loss: 0.6282 - val_accuracy: 0.6300\n",
            "Epoch 6/30\n",
            "63/63 [==============================] - 5s 74ms/step - loss: 0.6340 - accuracy: 0.6635 - val_loss: 0.6113 - val_accuracy: 0.6680\n",
            "Epoch 7/30\n",
            "63/63 [==============================] - 5s 72ms/step - loss: 0.5948 - accuracy: 0.6920 - val_loss: 0.5883 - val_accuracy: 0.6840\n",
            "Epoch 8/30\n",
            "63/63 [==============================] - 5s 72ms/step - loss: 0.5651 - accuracy: 0.7085 - val_loss: 0.5432 - val_accuracy: 0.7280\n",
            "Epoch 9/30\n",
            "63/63 [==============================] - 5s 72ms/step - loss: 0.5236 - accuracy: 0.7455 - val_loss: 0.7983 - val_accuracy: 0.6700\n",
            "Epoch 10/30\n",
            "63/63 [==============================] - 5s 74ms/step - loss: 0.5135 - accuracy: 0.7630 - val_loss: 0.5385 - val_accuracy: 0.7440\n",
            "Epoch 11/30\n",
            "63/63 [==============================] - 5s 70ms/step - loss: 0.4589 - accuracy: 0.7835 - val_loss: 1.0302 - val_accuracy: 0.6430\n",
            "Epoch 12/30\n",
            "63/63 [==============================] - 5s 72ms/step - loss: 0.4203 - accuracy: 0.7990 - val_loss: 0.5494 - val_accuracy: 0.7630\n",
            "Epoch 13/30\n",
            "63/63 [==============================] - 5s 71ms/step - loss: 0.3674 - accuracy: 0.8375 - val_loss: 0.6989 - val_accuracy: 0.7350\n",
            "Epoch 14/30\n",
            "63/63 [==============================] - 5s 72ms/step - loss: 0.3543 - accuracy: 0.8415 - val_loss: 0.6793 - val_accuracy: 0.7290\n",
            "Epoch 15/30\n",
            "63/63 [==============================] - 5s 71ms/step - loss: 0.2889 - accuracy: 0.8815 - val_loss: 0.5853 - val_accuracy: 0.7440\n",
            "Epoch 16/30\n",
            "63/63 [==============================] - 5s 72ms/step - loss: 0.2458 - accuracy: 0.8985 - val_loss: 0.5981 - val_accuracy: 0.7670\n",
            "Epoch 17/30\n",
            "63/63 [==============================] - 5s 71ms/step - loss: 0.2048 - accuracy: 0.9190 - val_loss: 0.6454 - val_accuracy: 0.7730\n",
            "Epoch 18/30\n",
            "63/63 [==============================] - 5s 72ms/step - loss: 0.1832 - accuracy: 0.9215 - val_loss: 0.7720 - val_accuracy: 0.7550\n",
            "Epoch 19/30\n",
            "63/63 [==============================] - 5s 72ms/step - loss: 0.1514 - accuracy: 0.9485 - val_loss: 0.7720 - val_accuracy: 0.7630\n",
            "Epoch 20/30\n",
            "63/63 [==============================] - 5s 72ms/step - loss: 0.1222 - accuracy: 0.9520 - val_loss: 0.8421 - val_accuracy: 0.7740\n",
            "Epoch 21/30\n",
            "63/63 [==============================] - 5s 72ms/step - loss: 0.1116 - accuracy: 0.9550 - val_loss: 0.8486 - val_accuracy: 0.7750\n",
            "Epoch 22/30\n",
            "63/63 [==============================] - 5s 71ms/step - loss: 0.1494 - accuracy: 0.9500 - val_loss: 0.7641 - val_accuracy: 0.7690\n",
            "Epoch 23/30\n",
            "63/63 [==============================] - 5s 74ms/step - loss: 0.0732 - accuracy: 0.9720 - val_loss: 1.0256 - val_accuracy: 0.7710\n",
            "Epoch 24/30\n",
            "63/63 [==============================] - 5s 73ms/step - loss: 0.0909 - accuracy: 0.9720 - val_loss: 1.0533 - val_accuracy: 0.7610\n",
            "Epoch 25/30\n",
            "63/63 [==============================] - 5s 73ms/step - loss: 0.0880 - accuracy: 0.9700 - val_loss: 1.3026 - val_accuracy: 0.7410\n",
            "Epoch 26/30\n",
            "63/63 [==============================] - 5s 72ms/step - loss: 0.0745 - accuracy: 0.9715 - val_loss: 1.0408 - val_accuracy: 0.7510\n",
            "Epoch 27/30\n",
            "63/63 [==============================] - 5s 74ms/step - loss: 0.0653 - accuracy: 0.9760 - val_loss: 1.3553 - val_accuracy: 0.7730\n",
            "Epoch 28/30\n",
            "63/63 [==============================] - 5s 73ms/step - loss: 0.0795 - accuracy: 0.9710 - val_loss: 1.3091 - val_accuracy: 0.7310\n",
            "Epoch 29/30\n",
            "63/63 [==============================] - 5s 73ms/step - loss: 0.0748 - accuracy: 0.9750 - val_loss: 1.3471 - val_accuracy: 0.7460\n",
            "Epoch 30/30\n",
            "63/63 [==============================] - 5s 73ms/step - loss: 0.0609 - accuracy: 0.9795 - val_loss: 1.1973 - val_accuracy: 0.7520\n"
          ]
        }
      ]
    },
    {
      "cell_type": "markdown",
      "source": [
        "Evaluating the test dataset\n",
        "\n"
      ],
      "metadata": {
        "id": "WQIlMNRBTD4_"
      }
    },
    {
      "cell_type": "code",
      "source": [
        "test_model = keras.models.load_model(\n",
        "    \"convnet_from_scratch_with_dropout.keras\")\n",
        "test_loss, test_acc = test_model.evaluate(test_dataset)\n",
        "print(f\"Test accuracy: {test_acc:.3f}\")"
      ],
      "metadata": {
        "id": "VYfq7Kimg2tU",
        "colab": {
          "base_uri": "https://localhost:8080/"
        },
        "outputId": "d698c30c-269c-4bff-e6c4-14737c3789a5"
      },
      "execution_count": 27,
      "outputs": [
        {
          "output_type": "stream",
          "name": "stdout",
          "text": [
            "32/32 [==============================] - 2s 35ms/step - loss: 0.5242 - accuracy: 0.7380\n",
            "Test accuracy: 0.738\n"
          ]
        }
      ]
    },
    {
      "cell_type": "markdown",
      "source": [
        "**c) Using Image Augmentation and Dropout method**"
      ],
      "metadata": {
        "id": "-ohNjKt3TKGX"
      }
    },
    {
      "cell_type": "markdown",
      "source": [
        "Defining  a data augmentation stage to add to an image model"
      ],
      "metadata": {
        "id": "0R44nqv3TQQz"
      }
    },
    {
      "cell_type": "code",
      "source": [
        "data_augmentation = keras.Sequential(\n",
        "    [\n",
        "        layers.RandomFlip(\"horizontal\"),\n",
        "        layers.RandomRotation(0.1),\n",
        "        layers.RandomZoom(0.2),\n",
        "    ]\n",
        ")"
      ],
      "metadata": {
        "id": "6YC7mIs-g5Zm"
      },
      "execution_count": 28,
      "outputs": []
    },
    {
      "cell_type": "markdown",
      "source": [
        "Defining a new convnet that includes image augmentation and dropout"
      ],
      "metadata": {
        "id": "FB0miG5bTRwY"
      }
    },
    {
      "cell_type": "code",
      "source": [
        "inputs = keras.Input(shape=(180, 180, 3))\n",
        "x = data_augmentation(inputs)\n",
        "x = layers.Rescaling(1./255)(x)\n",
        "x = layers.Conv2D(filters=32, kernel_size=3, activation=\"relu\")(x)\n",
        "x = layers.MaxPooling2D(pool_size=2)(x)\n",
        "x = layers.Conv2D(filters=64, kernel_size=3, activation=\"relu\")(x)\n",
        "x = layers.MaxPooling2D(pool_size=2)(x)\n",
        "x = layers.Conv2D(filters=128, kernel_size=3, activation=\"relu\")(x)\n",
        "x = layers.MaxPooling2D(pool_size=2)(x)\n",
        "x = layers.Conv2D(filters=256, kernel_size=3, activation=\"relu\")(x)\n",
        "x = layers.MaxPooling2D(pool_size=2)(x)\n",
        "x = layers.Conv2D(filters=256, kernel_size=3, activation=\"relu\")(x)\n",
        "x = layers.Flatten()(x)\n",
        "x = layers.Dropout(0.5)(x)\n",
        "outputs = layers.Dense(1, activation=\"sigmoid\")(x)\n",
        "model = keras.Model(inputs=inputs, outputs=outputs)\n",
        "\n",
        "model.compile(loss=\"binary_crossentropy\",\n",
        "              optimizer=\"rmsprop\",\n",
        "              metrics=[\"accuracy\"])"
      ],
      "metadata": {
        "id": "UutAy-Gyg7pm"
      },
      "execution_count": 29,
      "outputs": []
    },
    {
      "cell_type": "markdown",
      "source": [
        "Training the regularized convnet"
      ],
      "metadata": {
        "id": "OXU1-9PvTWuH"
      }
    },
    {
      "cell_type": "code",
      "source": [
        "callbacks = [\n",
        "    keras.callbacks.ModelCheckpoint(\n",
        "        filepath=\"convnet_from_scratch_with_augmentation_dropout.keras\",\n",
        "        save_best_only=True,\n",
        "        monitor=\"val_loss\")\n",
        "]\n",
        "history = model.fit(\n",
        "    train_dataset,\n",
        "    epochs=100,\n",
        "    validation_data=validation_dataset,\n",
        "    callbacks=callbacks)"
      ],
      "metadata": {
        "id": "oJJTgbd_hCWN",
        "colab": {
          "base_uri": "https://localhost:8080/"
        },
        "outputId": "220ffd38-f853-46c2-e6a2-bcad1ca75339"
      },
      "execution_count": 30,
      "outputs": [
        {
          "output_type": "stream",
          "name": "stdout",
          "text": [
            "Epoch 1/100\n",
            "63/63 [==============================] - 8s 102ms/step - loss: 0.7290 - accuracy: 0.5155 - val_loss: 0.6931 - val_accuracy: 0.5100\n",
            "Epoch 2/100\n",
            "63/63 [==============================] - 6s 96ms/step - loss: 0.6958 - accuracy: 0.5140 - val_loss: 0.6907 - val_accuracy: 0.5290\n",
            "Epoch 3/100\n",
            "63/63 [==============================] - 6s 95ms/step - loss: 0.6965 - accuracy: 0.5340 - val_loss: 0.6860 - val_accuracy: 0.5170\n",
            "Epoch 4/100\n",
            "63/63 [==============================] - 6s 94ms/step - loss: 0.6884 - accuracy: 0.5840 - val_loss: 0.6696 - val_accuracy: 0.5890\n",
            "Epoch 5/100\n",
            "63/63 [==============================] - 7s 115ms/step - loss: 0.6778 - accuracy: 0.5960 - val_loss: 0.7078 - val_accuracy: 0.5880\n",
            "Epoch 6/100\n",
            "63/63 [==============================] - 7s 101ms/step - loss: 0.6612 - accuracy: 0.6095 - val_loss: 0.6364 - val_accuracy: 0.6340\n",
            "Epoch 7/100\n",
            "63/63 [==============================] - 6s 93ms/step - loss: 0.6667 - accuracy: 0.6525 - val_loss: 0.6434 - val_accuracy: 0.6320\n",
            "Epoch 8/100\n",
            "63/63 [==============================] - 6s 96ms/step - loss: 0.6275 - accuracy: 0.6530 - val_loss: 0.8075 - val_accuracy: 0.5500\n",
            "Epoch 9/100\n",
            "63/63 [==============================] - 6s 93ms/step - loss: 0.6334 - accuracy: 0.6685 - val_loss: 0.6169 - val_accuracy: 0.6480\n",
            "Epoch 10/100\n",
            "63/63 [==============================] - 6s 94ms/step - loss: 0.6209 - accuracy: 0.6695 - val_loss: 0.5812 - val_accuracy: 0.6910\n",
            "Epoch 11/100\n",
            "63/63 [==============================] - 6s 94ms/step - loss: 0.5883 - accuracy: 0.6990 - val_loss: 0.6581 - val_accuracy: 0.6480\n",
            "Epoch 12/100\n",
            "63/63 [==============================] - 6s 95ms/step - loss: 0.5936 - accuracy: 0.6970 - val_loss: 0.6273 - val_accuracy: 0.6560\n",
            "Epoch 13/100\n",
            "63/63 [==============================] - 6s 97ms/step - loss: 0.5767 - accuracy: 0.6895 - val_loss: 0.5367 - val_accuracy: 0.7400\n",
            "Epoch 14/100\n",
            "63/63 [==============================] - 6s 95ms/step - loss: 0.5579 - accuracy: 0.7205 - val_loss: 0.5916 - val_accuracy: 0.7170\n",
            "Epoch 15/100\n",
            "63/63 [==============================] - 6s 98ms/step - loss: 0.5400 - accuracy: 0.7260 - val_loss: 0.5059 - val_accuracy: 0.7760\n",
            "Epoch 16/100\n",
            "63/63 [==============================] - 6s 93ms/step - loss: 0.5373 - accuracy: 0.7395 - val_loss: 0.5700 - val_accuracy: 0.7160\n",
            "Epoch 17/100\n",
            "63/63 [==============================] - 6s 96ms/step - loss: 0.5385 - accuracy: 0.7285 - val_loss: 0.5005 - val_accuracy: 0.7740\n",
            "Epoch 18/100\n",
            "63/63 [==============================] - 6s 95ms/step - loss: 0.5141 - accuracy: 0.7555 - val_loss: 0.5544 - val_accuracy: 0.7280\n",
            "Epoch 19/100\n",
            "63/63 [==============================] - 6s 96ms/step - loss: 0.4997 - accuracy: 0.7555 - val_loss: 0.5828 - val_accuracy: 0.7190\n",
            "Epoch 20/100\n",
            "63/63 [==============================] - 6s 95ms/step - loss: 0.5043 - accuracy: 0.7665 - val_loss: 0.5991 - val_accuracy: 0.7220\n",
            "Epoch 21/100\n",
            "63/63 [==============================] - 6s 94ms/step - loss: 0.4907 - accuracy: 0.7685 - val_loss: 0.5220 - val_accuracy: 0.7720\n",
            "Epoch 22/100\n",
            "63/63 [==============================] - 7s 101ms/step - loss: 0.4837 - accuracy: 0.7655 - val_loss: 0.5451 - val_accuracy: 0.7370\n",
            "Epoch 23/100\n",
            "63/63 [==============================] - 6s 96ms/step - loss: 0.4665 - accuracy: 0.7870 - val_loss: 0.6707 - val_accuracy: 0.6930\n",
            "Epoch 24/100\n",
            "63/63 [==============================] - 6s 98ms/step - loss: 0.4750 - accuracy: 0.7590 - val_loss: 0.5807 - val_accuracy: 0.7370\n",
            "Epoch 25/100\n",
            "63/63 [==============================] - 6s 97ms/step - loss: 0.4548 - accuracy: 0.7840 - val_loss: 0.4739 - val_accuracy: 0.7790\n",
            "Epoch 26/100\n",
            "63/63 [==============================] - 6s 97ms/step - loss: 0.4381 - accuracy: 0.7905 - val_loss: 0.4401 - val_accuracy: 0.8050\n",
            "Epoch 27/100\n",
            "63/63 [==============================] - 6s 98ms/step - loss: 0.4289 - accuracy: 0.8025 - val_loss: 0.5217 - val_accuracy: 0.7660\n",
            "Epoch 28/100\n",
            "63/63 [==============================] - 6s 95ms/step - loss: 0.4382 - accuracy: 0.8010 - val_loss: 0.5309 - val_accuracy: 0.7730\n",
            "Epoch 29/100\n",
            "63/63 [==============================] - 6s 95ms/step - loss: 0.4149 - accuracy: 0.8125 - val_loss: 0.4417 - val_accuracy: 0.7990\n",
            "Epoch 30/100\n",
            "63/63 [==============================] - 6s 95ms/step - loss: 0.4193 - accuracy: 0.8150 - val_loss: 0.4413 - val_accuracy: 0.8170\n",
            "Epoch 31/100\n",
            "63/63 [==============================] - 6s 95ms/step - loss: 0.4074 - accuracy: 0.8140 - val_loss: 0.4943 - val_accuracy: 0.7940\n",
            "Epoch 32/100\n",
            "63/63 [==============================] - 6s 96ms/step - loss: 0.3961 - accuracy: 0.8130 - val_loss: 0.4570 - val_accuracy: 0.8020\n",
            "Epoch 33/100\n",
            "63/63 [==============================] - 6s 94ms/step - loss: 0.4074 - accuracy: 0.8255 - val_loss: 0.4569 - val_accuracy: 0.7950\n",
            "Epoch 34/100\n",
            "63/63 [==============================] - 6s 95ms/step - loss: 0.3792 - accuracy: 0.8365 - val_loss: 0.4556 - val_accuracy: 0.7910\n",
            "Epoch 35/100\n",
            "63/63 [==============================] - 6s 96ms/step - loss: 0.3846 - accuracy: 0.8270 - val_loss: 0.4184 - val_accuracy: 0.8160\n",
            "Epoch 36/100\n",
            "63/63 [==============================] - 6s 96ms/step - loss: 0.3970 - accuracy: 0.8245 - val_loss: 0.4945 - val_accuracy: 0.7930\n",
            "Epoch 37/100\n",
            "63/63 [==============================] - 6s 96ms/step - loss: 0.3612 - accuracy: 0.8390 - val_loss: 0.5179 - val_accuracy: 0.7770\n",
            "Epoch 38/100\n",
            "63/63 [==============================] - 6s 93ms/step - loss: 0.3695 - accuracy: 0.8345 - val_loss: 0.4203 - val_accuracy: 0.8300\n",
            "Epoch 39/100\n",
            "63/63 [==============================] - 6s 97ms/step - loss: 0.3584 - accuracy: 0.8370 - val_loss: 0.5471 - val_accuracy: 0.8000\n",
            "Epoch 40/100\n",
            "63/63 [==============================] - 6s 94ms/step - loss: 0.3308 - accuracy: 0.8560 - val_loss: 0.4984 - val_accuracy: 0.7950\n",
            "Epoch 41/100\n",
            "63/63 [==============================] - 6s 95ms/step - loss: 0.3564 - accuracy: 0.8520 - val_loss: 0.4942 - val_accuracy: 0.8040\n",
            "Epoch 42/100\n",
            "63/63 [==============================] - 6s 95ms/step - loss: 0.3394 - accuracy: 0.8585 - val_loss: 0.7964 - val_accuracy: 0.7380\n",
            "Epoch 43/100\n",
            "63/63 [==============================] - 6s 95ms/step - loss: 0.3323 - accuracy: 0.8490 - val_loss: 0.4935 - val_accuracy: 0.8230\n",
            "Epoch 44/100\n",
            "63/63 [==============================] - 6s 98ms/step - loss: 0.3222 - accuracy: 0.8655 - val_loss: 0.4805 - val_accuracy: 0.8230\n",
            "Epoch 45/100\n",
            "63/63 [==============================] - 6s 95ms/step - loss: 0.3188 - accuracy: 0.8540 - val_loss: 0.5908 - val_accuracy: 0.7980\n",
            "Epoch 46/100\n",
            "63/63 [==============================] - 6s 97ms/step - loss: 0.3219 - accuracy: 0.8670 - val_loss: 0.4310 - val_accuracy: 0.8310\n",
            "Epoch 47/100\n",
            "63/63 [==============================] - 6s 94ms/step - loss: 0.3221 - accuracy: 0.8740 - val_loss: 0.5545 - val_accuracy: 0.8100\n",
            "Epoch 48/100\n",
            "63/63 [==============================] - 6s 97ms/step - loss: 0.3100 - accuracy: 0.8675 - val_loss: 0.5603 - val_accuracy: 0.7760\n",
            "Epoch 49/100\n",
            "63/63 [==============================] - 6s 95ms/step - loss: 0.2878 - accuracy: 0.8740 - val_loss: 0.4879 - val_accuracy: 0.8210\n",
            "Epoch 50/100\n",
            "63/63 [==============================] - 6s 93ms/step - loss: 0.2974 - accuracy: 0.8665 - val_loss: 0.4548 - val_accuracy: 0.8080\n",
            "Epoch 51/100\n",
            "63/63 [==============================] - 6s 94ms/step - loss: 0.2988 - accuracy: 0.8765 - val_loss: 0.4656 - val_accuracy: 0.8330\n",
            "Epoch 52/100\n",
            "63/63 [==============================] - 6s 97ms/step - loss: 0.2826 - accuracy: 0.8820 - val_loss: 0.6171 - val_accuracy: 0.8120\n",
            "Epoch 53/100\n",
            "63/63 [==============================] - 6s 95ms/step - loss: 0.2943 - accuracy: 0.8785 - val_loss: 0.4574 - val_accuracy: 0.8290\n",
            "Epoch 54/100\n",
            "63/63 [==============================] - 6s 96ms/step - loss: 0.2880 - accuracy: 0.8805 - val_loss: 0.4932 - val_accuracy: 0.8080\n",
            "Epoch 55/100\n",
            "63/63 [==============================] - 6s 96ms/step - loss: 0.3046 - accuracy: 0.8780 - val_loss: 0.4606 - val_accuracy: 0.8260\n",
            "Epoch 56/100\n",
            "63/63 [==============================] - 6s 97ms/step - loss: 0.2790 - accuracy: 0.8795 - val_loss: 0.4562 - val_accuracy: 0.8410\n",
            "Epoch 57/100\n",
            "63/63 [==============================] - 6s 96ms/step - loss: 0.2848 - accuracy: 0.8810 - val_loss: 0.4688 - val_accuracy: 0.8250\n",
            "Epoch 58/100\n",
            "63/63 [==============================] - 6s 93ms/step - loss: 0.2490 - accuracy: 0.8980 - val_loss: 0.4814 - val_accuracy: 0.8250\n",
            "Epoch 59/100\n",
            "63/63 [==============================] - 6s 94ms/step - loss: 0.2555 - accuracy: 0.8930 - val_loss: 0.4768 - val_accuracy: 0.8230\n",
            "Epoch 60/100\n",
            "63/63 [==============================] - 6s 94ms/step - loss: 0.2610 - accuracy: 0.8960 - val_loss: 0.5982 - val_accuracy: 0.8100\n",
            "Epoch 61/100\n",
            "63/63 [==============================] - 6s 92ms/step - loss: 0.2483 - accuracy: 0.8985 - val_loss: 0.4556 - val_accuracy: 0.8300\n",
            "Epoch 62/100\n",
            "63/63 [==============================] - 6s 94ms/step - loss: 0.2597 - accuracy: 0.8960 - val_loss: 0.4714 - val_accuracy: 0.8420\n",
            "Epoch 63/100\n",
            "63/63 [==============================] - 6s 93ms/step - loss: 0.2621 - accuracy: 0.8935 - val_loss: 0.4341 - val_accuracy: 0.8340\n",
            "Epoch 64/100\n",
            "63/63 [==============================] - 6s 92ms/step - loss: 0.2322 - accuracy: 0.9055 - val_loss: 0.4786 - val_accuracy: 0.8590\n",
            "Epoch 65/100\n",
            "63/63 [==============================] - 6s 92ms/step - loss: 0.2441 - accuracy: 0.9030 - val_loss: 0.4687 - val_accuracy: 0.8240\n",
            "Epoch 66/100\n",
            "63/63 [==============================] - 6s 95ms/step - loss: 0.2202 - accuracy: 0.9125 - val_loss: 0.5397 - val_accuracy: 0.8270\n",
            "Epoch 67/100\n",
            "63/63 [==============================] - 6s 94ms/step - loss: 0.2529 - accuracy: 0.8955 - val_loss: 0.5079 - val_accuracy: 0.8400\n",
            "Epoch 68/100\n",
            "63/63 [==============================] - 6s 93ms/step - loss: 0.2280 - accuracy: 0.9085 - val_loss: 0.6380 - val_accuracy: 0.7850\n",
            "Epoch 69/100\n",
            "63/63 [==============================] - 6s 92ms/step - loss: 0.2327 - accuracy: 0.9040 - val_loss: 0.3986 - val_accuracy: 0.8540\n",
            "Epoch 70/100\n",
            "63/63 [==============================] - 6s 92ms/step - loss: 0.2276 - accuracy: 0.9070 - val_loss: 0.6247 - val_accuracy: 0.7820\n",
            "Epoch 71/100\n",
            "63/63 [==============================] - 6s 93ms/step - loss: 0.2332 - accuracy: 0.8995 - val_loss: 0.4203 - val_accuracy: 0.8480\n",
            "Epoch 72/100\n",
            "63/63 [==============================] - 6s 94ms/step - loss: 0.2239 - accuracy: 0.9135 - val_loss: 0.3995 - val_accuracy: 0.8570\n",
            "Epoch 73/100\n",
            "63/63 [==============================] - 6s 90ms/step - loss: 0.2080 - accuracy: 0.9165 - val_loss: 0.5514 - val_accuracy: 0.8400\n",
            "Epoch 74/100\n",
            "63/63 [==============================] - 6s 90ms/step - loss: 0.2152 - accuracy: 0.9130 - val_loss: 0.7295 - val_accuracy: 0.8260\n",
            "Epoch 75/100\n",
            "63/63 [==============================] - 6s 91ms/step - loss: 0.2245 - accuracy: 0.9135 - val_loss: 0.5047 - val_accuracy: 0.8420\n",
            "Epoch 76/100\n",
            "63/63 [==============================] - 6s 92ms/step - loss: 0.2264 - accuracy: 0.9155 - val_loss: 0.5652 - val_accuracy: 0.8290\n",
            "Epoch 77/100\n",
            "63/63 [==============================] - 6s 92ms/step - loss: 0.2115 - accuracy: 0.9095 - val_loss: 0.5345 - val_accuracy: 0.8670\n",
            "Epoch 78/100\n",
            "63/63 [==============================] - 6s 91ms/step - loss: 0.2012 - accuracy: 0.9190 - val_loss: 0.5431 - val_accuracy: 0.8410\n",
            "Epoch 79/100\n",
            "63/63 [==============================] - 6s 92ms/step - loss: 0.2031 - accuracy: 0.9130 - val_loss: 0.5804 - val_accuracy: 0.8350\n",
            "Epoch 80/100\n",
            "63/63 [==============================] - 6s 92ms/step - loss: 0.2003 - accuracy: 0.9195 - val_loss: 0.6263 - val_accuracy: 0.8420\n",
            "Epoch 81/100\n",
            "63/63 [==============================] - 6s 94ms/step - loss: 0.1914 - accuracy: 0.9195 - val_loss: 0.4807 - val_accuracy: 0.8710\n",
            "Epoch 82/100\n",
            "63/63 [==============================] - 6s 92ms/step - loss: 0.1932 - accuracy: 0.9275 - val_loss: 0.5104 - val_accuracy: 0.8400\n",
            "Epoch 83/100\n",
            "63/63 [==============================] - 6s 93ms/step - loss: 0.1950 - accuracy: 0.9255 - val_loss: 0.6526 - val_accuracy: 0.8480\n",
            "Epoch 84/100\n",
            "63/63 [==============================] - 6s 92ms/step - loss: 0.2092 - accuracy: 0.9190 - val_loss: 0.4173 - val_accuracy: 0.8570\n",
            "Epoch 85/100\n",
            "63/63 [==============================] - 6s 95ms/step - loss: 0.1924 - accuracy: 0.9250 - val_loss: 0.4563 - val_accuracy: 0.8520\n",
            "Epoch 86/100\n",
            "63/63 [==============================] - 6s 93ms/step - loss: 0.1883 - accuracy: 0.9245 - val_loss: 0.5332 - val_accuracy: 0.8180\n",
            "Epoch 87/100\n",
            "63/63 [==============================] - 6s 92ms/step - loss: 0.2016 - accuracy: 0.9215 - val_loss: 0.6523 - val_accuracy: 0.8410\n",
            "Epoch 88/100\n",
            "63/63 [==============================] - 6s 93ms/step - loss: 0.2156 - accuracy: 0.9185 - val_loss: 0.4580 - val_accuracy: 0.8720\n",
            "Epoch 89/100\n",
            "63/63 [==============================] - 6s 92ms/step - loss: 0.1854 - accuracy: 0.9310 - val_loss: 0.6062 - val_accuracy: 0.8530\n",
            "Epoch 90/100\n",
            "63/63 [==============================] - 6s 93ms/step - loss: 0.1739 - accuracy: 0.9280 - val_loss: 0.6466 - val_accuracy: 0.8500\n",
            "Epoch 91/100\n",
            "63/63 [==============================] - 6s 92ms/step - loss: 0.1941 - accuracy: 0.9265 - val_loss: 0.6866 - val_accuracy: 0.8480\n",
            "Epoch 92/100\n",
            "63/63 [==============================] - 6s 92ms/step - loss: 0.1933 - accuracy: 0.9315 - val_loss: 0.5588 - val_accuracy: 0.8560\n",
            "Epoch 93/100\n",
            "63/63 [==============================] - 6s 96ms/step - loss: 0.1777 - accuracy: 0.9330 - val_loss: 0.6902 - val_accuracy: 0.8340\n",
            "Epoch 94/100\n",
            "63/63 [==============================] - 6s 92ms/step - loss: 0.1734 - accuracy: 0.9400 - val_loss: 0.5853 - val_accuracy: 0.8590\n",
            "Epoch 95/100\n",
            "63/63 [==============================] - 6s 94ms/step - loss: 0.1838 - accuracy: 0.9265 - val_loss: 0.4488 - val_accuracy: 0.8820\n",
            "Epoch 96/100\n",
            "63/63 [==============================] - 6s 93ms/step - loss: 0.1564 - accuracy: 0.9390 - val_loss: 0.4857 - val_accuracy: 0.8620\n",
            "Epoch 97/100\n",
            "63/63 [==============================] - 6s 94ms/step - loss: 0.1825 - accuracy: 0.9305 - val_loss: 0.8698 - val_accuracy: 0.7800\n",
            "Epoch 98/100\n",
            "63/63 [==============================] - 6s 90ms/step - loss: 0.1823 - accuracy: 0.9325 - val_loss: 0.7975 - val_accuracy: 0.8190\n",
            "Epoch 99/100\n",
            "63/63 [==============================] - 6s 91ms/step - loss: 0.1925 - accuracy: 0.9330 - val_loss: 0.5993 - val_accuracy: 0.8390\n",
            "Epoch 100/100\n",
            "63/63 [==============================] - 6s 92ms/step - loss: 0.1863 - accuracy: 0.9245 - val_loss: 0.6289 - val_accuracy: 0.8640\n"
          ]
        }
      ]
    },
    {
      "cell_type": "code",
      "source": [
        "test_model = keras.models.load_model(\n",
        "    \"convnet_from_scratch_with_augmentation_dropout.keras\")\n",
        "test_loss, test_acc = test_model.evaluate(test_dataset)\n",
        "print(f\"Test accuracy: {test_acc:.3f}\")"
      ],
      "metadata": {
        "id": "Zb90cpQVhFwv",
        "colab": {
          "base_uri": "https://localhost:8080/"
        },
        "outputId": "8dfa20fb-a795-469b-f460-171a516da7ca"
      },
      "execution_count": 31,
      "outputs": [
        {
          "output_type": "stream",
          "name": "stdout",
          "text": [
            "32/32 [==============================] - 1s 34ms/step - loss: 0.3917 - accuracy: 0.8640\n",
            "Test accuracy: 0.864\n"
          ]
        }
      ]
    },
    {
      "cell_type": "markdown",
      "source": [
        "**Q2. Increasing Training sample size to 5000 samples**"
      ],
      "metadata": {
        "id": "e-HCcFbKhItS"
      }
    },
    {
      "cell_type": "markdown",
      "source": [
        "The training samples have been increased to 5000 and the model performance has been evaluated and have explained in the summary."
      ],
      "metadata": {
        "id": "HE9i6qhqUbd1"
      }
    },
    {
      "cell_type": "markdown",
      "source": [
        "From the above model performance techniques,here i will be using the data augmentation and drop out method because the performance of the model has been improved using this."
      ],
      "metadata": {
        "id": "7Gm_O-G0siod"
      }
    },
    {
      "cell_type": "code",
      "source": [
        "make_subset(\"train3\", start_index=1000, end_index=6000)\n",
        "\n",
        "train_dataset_3 = image_dataset_from_directory(\n",
        "    new_base_dir / \"train3\",\n",
        "    image_size=(180, 180),\n",
        "    batch_size=32)"
      ],
      "metadata": {
        "id": "UM4JsHSVhLQf",
        "colab": {
          "base_uri": "https://localhost:8080/"
        },
        "outputId": "5baab764-dc4a-4ab8-80ea-03f2372e7ffc"
      },
      "execution_count": 32,
      "outputs": [
        {
          "output_type": "stream",
          "name": "stdout",
          "text": [
            "Found 10000 files belonging to 2 classes.\n"
          ]
        }
      ]
    },
    {
      "cell_type": "markdown",
      "source": [
        "Defining a new convnet that includes image augmentation and dropout"
      ],
      "metadata": {
        "id": "A4lwKIRWf2xM"
      }
    },
    {
      "cell_type": "code",
      "source": [
        "inputs = keras.Input(shape=(180, 180, 3))\n",
        "x = data_augmentation(inputs)\n",
        "x = layers.Rescaling(1./255)(inputs)\n",
        "x = layers.Conv2D(filters=32, kernel_size=3, activation=\"relu\")(x)\n",
        "x = layers.MaxPooling2D(pool_size=2)(x)\n",
        "x = layers.Conv2D(filters=64, kernel_size=3, activation=\"relu\")(x)\n",
        "x = layers.MaxPooling2D(pool_size=2)(x)\n",
        "x = layers.Conv2D(filters=128, kernel_size=3, activation=\"relu\")(x)\n",
        "x = layers.MaxPooling2D(pool_size=2)(x)\n",
        "x = layers.Conv2D(filters=256, kernel_size=3, activation=\"relu\")(x)\n",
        "x = layers.MaxPooling2D(pool_size=2)(x)\n",
        "x = layers.Conv2D(filters=256, kernel_size=3, activation=\"relu\")(x)\n",
        "x = layers.Flatten()(x)\n",
        "x = layers.Dropout(0.5)(x)\n",
        "outputs = layers.Dense(1, activation=\"sigmoid\")(x)\n",
        "model = keras.Model(inputs=inputs, outputs=outputs)\n",
        "\n",
        "model.compile(loss=\"binary_crossentropy\",\n",
        "              optimizer=\"rmsprop\",\n",
        "              metrics=[\"accuracy\"])"
      ],
      "metadata": {
        "id": "CQtnhVebhN8v"
      },
      "execution_count": 33,
      "outputs": []
    },
    {
      "cell_type": "markdown",
      "source": [
        "Training the regularised convnet"
      ],
      "metadata": {
        "id": "LiuSf_AIf5d1"
      }
    },
    {
      "cell_type": "code",
      "source": [
        "callbacks = [\n",
        "    keras.callbacks.ModelCheckpoint(\n",
        "        filepath=\"convnet_from_scratch3.keras\",\n",
        "        save_best_only=True,\n",
        "        monitor=\"val_loss\")\n",
        "]\n",
        "history = model.fit(\n",
        "    train_dataset_3,\n",
        "    epochs=70,\n",
        "    validation_data=validation_dataset,\n",
        "    callbacks=callbacks)"
      ],
      "metadata": {
        "id": "IwiV0x8IhQDK",
        "colab": {
          "base_uri": "https://localhost:8080/"
        },
        "outputId": "99ecdef6-d965-406e-f92c-d70a0c691164"
      },
      "execution_count": 34,
      "outputs": [
        {
          "output_type": "stream",
          "name": "stdout",
          "text": [
            "Epoch 1/70\n",
            "313/313 [==============================] - 18s 54ms/step - loss: 0.7167 - accuracy: 0.5519 - val_loss: 0.7384 - val_accuracy: 0.5610\n",
            "Epoch 2/70\n",
            "313/313 [==============================] - 17s 54ms/step - loss: 0.6112 - accuracy: 0.6741 - val_loss: 0.5170 - val_accuracy: 0.7400\n",
            "Epoch 3/70\n",
            "313/313 [==============================] - 17s 54ms/step - loss: 0.5214 - accuracy: 0.7407 - val_loss: 0.4966 - val_accuracy: 0.7530\n",
            "Epoch 4/70\n",
            "313/313 [==============================] - 17s 54ms/step - loss: 0.4627 - accuracy: 0.7883 - val_loss: 0.4087 - val_accuracy: 0.8180\n",
            "Epoch 5/70\n",
            "313/313 [==============================] - 17s 54ms/step - loss: 0.4020 - accuracy: 0.8177 - val_loss: 0.4483 - val_accuracy: 0.7890\n",
            "Epoch 6/70\n",
            "313/313 [==============================] - 17s 53ms/step - loss: 0.3611 - accuracy: 0.8416 - val_loss: 0.3800 - val_accuracy: 0.8300\n",
            "Epoch 7/70\n",
            "313/313 [==============================] - 17s 55ms/step - loss: 0.3100 - accuracy: 0.8651 - val_loss: 0.3371 - val_accuracy: 0.8550\n",
            "Epoch 8/70\n",
            "313/313 [==============================] - 17s 54ms/step - loss: 0.2717 - accuracy: 0.8849 - val_loss: 0.3373 - val_accuracy: 0.8470\n",
            "Epoch 9/70\n",
            "313/313 [==============================] - 17s 53ms/step - loss: 0.2313 - accuracy: 0.9030 - val_loss: 0.3532 - val_accuracy: 0.8590\n",
            "Epoch 10/70\n",
            "313/313 [==============================] - 17s 54ms/step - loss: 0.1963 - accuracy: 0.9198 - val_loss: 0.3382 - val_accuracy: 0.8480\n",
            "Epoch 11/70\n",
            "313/313 [==============================] - 17s 53ms/step - loss: 0.1760 - accuracy: 0.9339 - val_loss: 0.3556 - val_accuracy: 0.8670\n",
            "Epoch 12/70\n",
            "313/313 [==============================] - 17s 53ms/step - loss: 0.1410 - accuracy: 0.9453 - val_loss: 0.4205 - val_accuracy: 0.8680\n",
            "Epoch 13/70\n",
            "313/313 [==============================] - 17s 53ms/step - loss: 0.1314 - accuracy: 0.9491 - val_loss: 0.4640 - val_accuracy: 0.8770\n",
            "Epoch 14/70\n",
            "313/313 [==============================] - 17s 54ms/step - loss: 0.1256 - accuracy: 0.9550 - val_loss: 0.6122 - val_accuracy: 0.8340\n",
            "Epoch 15/70\n",
            "313/313 [==============================] - 17s 54ms/step - loss: 0.1109 - accuracy: 0.9589 - val_loss: 0.4888 - val_accuracy: 0.8750\n",
            "Epoch 16/70\n",
            "313/313 [==============================] - 17s 53ms/step - loss: 0.1070 - accuracy: 0.9613 - val_loss: 0.7156 - val_accuracy: 0.8560\n",
            "Epoch 17/70\n",
            "313/313 [==============================] - 17s 53ms/step - loss: 0.1035 - accuracy: 0.9645 - val_loss: 0.4531 - val_accuracy: 0.8800\n",
            "Epoch 18/70\n",
            "313/313 [==============================] - 17s 54ms/step - loss: 0.0925 - accuracy: 0.9678 - val_loss: 0.6203 - val_accuracy: 0.8490\n",
            "Epoch 19/70\n",
            "313/313 [==============================] - 17s 53ms/step - loss: 0.0902 - accuracy: 0.9717 - val_loss: 0.9208 - val_accuracy: 0.8570\n",
            "Epoch 20/70\n",
            "313/313 [==============================] - 17s 54ms/step - loss: 0.0927 - accuracy: 0.9719 - val_loss: 0.5557 - val_accuracy: 0.8660\n",
            "Epoch 21/70\n",
            "313/313 [==============================] - 17s 54ms/step - loss: 0.0944 - accuracy: 0.9699 - val_loss: 0.5609 - val_accuracy: 0.8760\n",
            "Epoch 22/70\n",
            "313/313 [==============================] - 17s 54ms/step - loss: 0.1053 - accuracy: 0.9698 - val_loss: 0.6332 - val_accuracy: 0.8700\n",
            "Epoch 23/70\n",
            "313/313 [==============================] - 17s 54ms/step - loss: 0.0870 - accuracy: 0.9729 - val_loss: 0.7760 - val_accuracy: 0.8520\n",
            "Epoch 24/70\n",
            "313/313 [==============================] - 17s 53ms/step - loss: 0.0947 - accuracy: 0.9718 - val_loss: 0.5959 - val_accuracy: 0.8680\n",
            "Epoch 25/70\n",
            "313/313 [==============================] - 17s 54ms/step - loss: 0.0933 - accuracy: 0.9720 - val_loss: 1.0313 - val_accuracy: 0.8410\n",
            "Epoch 26/70\n",
            "313/313 [==============================] - 17s 54ms/step - loss: 0.0927 - accuracy: 0.9744 - val_loss: 0.8773 - val_accuracy: 0.8840\n",
            "Epoch 27/70\n",
            "313/313 [==============================] - 17s 54ms/step - loss: 0.0904 - accuracy: 0.9741 - val_loss: 0.9165 - val_accuracy: 0.8660\n",
            "Epoch 28/70\n",
            "313/313 [==============================] - 17s 54ms/step - loss: 0.0840 - accuracy: 0.9777 - val_loss: 0.9980 - val_accuracy: 0.8620\n",
            "Epoch 29/70\n",
            "313/313 [==============================] - 17s 53ms/step - loss: 0.0879 - accuracy: 0.9775 - val_loss: 0.7884 - val_accuracy: 0.8770\n",
            "Epoch 30/70\n",
            "313/313 [==============================] - 17s 54ms/step - loss: 0.0878 - accuracy: 0.9749 - val_loss: 0.7377 - val_accuracy: 0.8750\n",
            "Epoch 31/70\n",
            "313/313 [==============================] - 17s 54ms/step - loss: 0.0763 - accuracy: 0.9790 - val_loss: 1.0610 - val_accuracy: 0.8580\n",
            "Epoch 32/70\n",
            "313/313 [==============================] - 17s 54ms/step - loss: 0.0879 - accuracy: 0.9759 - val_loss: 1.0175 - val_accuracy: 0.8670\n",
            "Epoch 33/70\n",
            "313/313 [==============================] - 17s 53ms/step - loss: 0.1055 - accuracy: 0.9757 - val_loss: 0.9053 - val_accuracy: 0.8620\n",
            "Epoch 34/70\n",
            "313/313 [==============================] - 17s 53ms/step - loss: 0.1142 - accuracy: 0.9759 - val_loss: 1.0888 - val_accuracy: 0.8620\n",
            "Epoch 35/70\n",
            "313/313 [==============================] - 17s 54ms/step - loss: 0.1078 - accuracy: 0.9758 - val_loss: 1.1033 - val_accuracy: 0.8810\n",
            "Epoch 36/70\n",
            "313/313 [==============================] - 17s 54ms/step - loss: 0.0939 - accuracy: 0.9774 - val_loss: 1.2866 - val_accuracy: 0.8640\n",
            "Epoch 37/70\n",
            "313/313 [==============================] - 17s 54ms/step - loss: 0.0882 - accuracy: 0.9787 - val_loss: 1.3894 - val_accuracy: 0.8700\n",
            "Epoch 38/70\n",
            "313/313 [==============================] - 17s 55ms/step - loss: 0.1088 - accuracy: 0.9800 - val_loss: 1.4199 - val_accuracy: 0.8610\n",
            "Epoch 39/70\n",
            "313/313 [==============================] - 17s 55ms/step - loss: 0.0992 - accuracy: 0.9799 - val_loss: 2.0240 - val_accuracy: 0.8400\n",
            "Epoch 40/70\n",
            "313/313 [==============================] - 17s 54ms/step - loss: 0.1326 - accuracy: 0.9761 - val_loss: 1.1980 - val_accuracy: 0.8600\n",
            "Epoch 41/70\n",
            "313/313 [==============================] - 17s 54ms/step - loss: 0.0979 - accuracy: 0.9799 - val_loss: 1.5403 - val_accuracy: 0.8510\n",
            "Epoch 42/70\n",
            "313/313 [==============================] - 17s 54ms/step - loss: 0.1165 - accuracy: 0.9794 - val_loss: 1.0239 - val_accuracy: 0.8750\n",
            "Epoch 43/70\n",
            "313/313 [==============================] - 17s 55ms/step - loss: 0.1088 - accuracy: 0.9786 - val_loss: 2.5550 - val_accuracy: 0.8630\n",
            "Epoch 44/70\n",
            "313/313 [==============================] - 17s 54ms/step - loss: 0.1129 - accuracy: 0.9794 - val_loss: 1.8419 - val_accuracy: 0.8570\n",
            "Epoch 45/70\n",
            "313/313 [==============================] - 17s 54ms/step - loss: 0.1176 - accuracy: 0.9781 - val_loss: 1.1221 - val_accuracy: 0.8640\n",
            "Epoch 46/70\n",
            "313/313 [==============================] - 17s 54ms/step - loss: 0.1267 - accuracy: 0.9801 - val_loss: 2.5145 - val_accuracy: 0.8300\n",
            "Epoch 47/70\n",
            "313/313 [==============================] - 17s 55ms/step - loss: 0.1520 - accuracy: 0.9765 - val_loss: 1.6350 - val_accuracy: 0.8620\n",
            "Epoch 48/70\n",
            "313/313 [==============================] - 17s 54ms/step - loss: 0.1200 - accuracy: 0.9799 - val_loss: 1.6950 - val_accuracy: 0.8740\n",
            "Epoch 49/70\n",
            "313/313 [==============================] - 17s 54ms/step - loss: 0.1423 - accuracy: 0.9782 - val_loss: 1.5567 - val_accuracy: 0.8310\n",
            "Epoch 50/70\n",
            "313/313 [==============================] - 17s 54ms/step - loss: 0.1608 - accuracy: 0.9767 - val_loss: 1.8956 - val_accuracy: 0.8380\n",
            "Epoch 51/70\n",
            "313/313 [==============================] - 17s 54ms/step - loss: 0.1183 - accuracy: 0.9812 - val_loss: 2.6373 - val_accuracy: 0.8340\n",
            "Epoch 52/70\n",
            "313/313 [==============================] - 17s 54ms/step - loss: 0.1367 - accuracy: 0.9801 - val_loss: 2.0983 - val_accuracy: 0.8650\n",
            "Epoch 53/70\n",
            "313/313 [==============================] - 17s 54ms/step - loss: 0.1262 - accuracy: 0.9815 - val_loss: 1.5718 - val_accuracy: 0.8650\n",
            "Epoch 54/70\n",
            "313/313 [==============================] - 17s 54ms/step - loss: 0.1280 - accuracy: 0.9810 - val_loss: 1.4583 - val_accuracy: 0.8630\n",
            "Epoch 55/70\n",
            "313/313 [==============================] - 17s 54ms/step - loss: 0.1420 - accuracy: 0.9808 - val_loss: 2.3352 - val_accuracy: 0.8850\n",
            "Epoch 56/70\n",
            "313/313 [==============================] - 17s 53ms/step - loss: 0.1517 - accuracy: 0.9793 - val_loss: 2.1150 - val_accuracy: 0.8530\n",
            "Epoch 57/70\n",
            "313/313 [==============================] - 17s 54ms/step - loss: 0.1180 - accuracy: 0.9832 - val_loss: 2.0342 - val_accuracy: 0.8710\n",
            "Epoch 58/70\n",
            "313/313 [==============================] - 17s 54ms/step - loss: 0.1537 - accuracy: 0.9786 - val_loss: 1.8857 - val_accuracy: 0.8740\n",
            "Epoch 59/70\n",
            "313/313 [==============================] - 17s 54ms/step - loss: 0.1349 - accuracy: 0.9826 - val_loss: 1.9956 - val_accuracy: 0.8730\n",
            "Epoch 60/70\n",
            "313/313 [==============================] - 19s 60ms/step - loss: 0.1667 - accuracy: 0.9808 - val_loss: 1.7323 - val_accuracy: 0.8880\n",
            "Epoch 61/70\n",
            "313/313 [==============================] - 17s 53ms/step - loss: 0.1554 - accuracy: 0.9797 - val_loss: 2.0966 - val_accuracy: 0.8670\n",
            "Epoch 62/70\n",
            "313/313 [==============================] - 17s 54ms/step - loss: 0.1566 - accuracy: 0.9808 - val_loss: 2.9067 - val_accuracy: 0.8730\n",
            "Epoch 63/70\n",
            "313/313 [==============================] - 17s 53ms/step - loss: 0.1673 - accuracy: 0.9829 - val_loss: 2.4998 - val_accuracy: 0.8970\n",
            "Epoch 64/70\n",
            "313/313 [==============================] - 17s 53ms/step - loss: 0.1539 - accuracy: 0.9843 - val_loss: 2.1412 - val_accuracy: 0.8860\n",
            "Epoch 65/70\n",
            "313/313 [==============================] - 17s 54ms/step - loss: 0.1869 - accuracy: 0.9804 - val_loss: 1.9150 - val_accuracy: 0.8750\n",
            "Epoch 66/70\n",
            "313/313 [==============================] - 17s 54ms/step - loss: 0.1507 - accuracy: 0.9833 - val_loss: 1.6353 - val_accuracy: 0.8800\n",
            "Epoch 67/70\n",
            "313/313 [==============================] - 17s 54ms/step - loss: 0.1365 - accuracy: 0.9843 - val_loss: 3.3829 - val_accuracy: 0.8750\n",
            "Epoch 68/70\n",
            "313/313 [==============================] - 17s 54ms/step - loss: 0.1485 - accuracy: 0.9821 - val_loss: 2.6564 - val_accuracy: 0.8770\n",
            "Epoch 69/70\n",
            "313/313 [==============================] - 17s 53ms/step - loss: 0.1365 - accuracy: 0.9845 - val_loss: 2.3629 - val_accuracy: 0.8670\n",
            "Epoch 70/70\n",
            "313/313 [==============================] - 17s 53ms/step - loss: 0.1671 - accuracy: 0.9829 - val_loss: 2.1954 - val_accuracy: 0.8650\n"
          ]
        }
      ]
    },
    {
      "cell_type": "code",
      "source": [
        "test_model = keras.models.load_model(\n",
        "    \"convnet_from_scratch3.keras\")\n",
        "test_loss, test_acc = test_model.evaluate(test_dataset)\n",
        "print(f\"Test accuracy: {test_acc:.3f}\")"
      ],
      "metadata": {
        "id": "FOisHDochSEo",
        "colab": {
          "base_uri": "https://localhost:8080/"
        },
        "outputId": "b6f88989-a3bd-4e54-c61b-b0e23a00c0bd"
      },
      "execution_count": 35,
      "outputs": [
        {
          "output_type": "stream",
          "name": "stdout",
          "text": [
            "32/32 [==============================] - 2s 36ms/step - loss: 0.3669 - accuracy: 0.8480\n",
            "Test accuracy: 0.848\n"
          ]
        }
      ]
    },
    {
      "cell_type": "markdown",
      "source": [
        "**Q3. Increasing the Training samples to 10000 Samples**"
      ],
      "metadata": {
        "id": "fPBuq5J6hXQ6"
      }
    },
    {
      "cell_type": "markdown",
      "source": [
        "Here ,the training samples were increased from 5000 to 10000, in order to evaluate the model performance. The observations will be included in the summary."
      ],
      "metadata": {
        "id": "rSSAGBisgC6S"
      }
    },
    {
      "cell_type": "code",
      "source": [
        "#import shutil\n",
        "#shutil.rmtree('/content/cats_vs_dogs_small/train2')\n",
        "\n",
        "make_subset(\"train2\", start_index=1000, end_index=11000)\n",
        "\n",
        "train_dataset2 = image_dataset_from_directory(\n",
        "    new_base_dir / \"train2\",\n",
        "    image_size=(180, 180),\n",
        "    batch_size=32)"
      ],
      "metadata": {
        "id": "sDX1YVoxhWkh",
        "colab": {
          "base_uri": "https://localhost:8080/"
        },
        "outputId": "9129079b-07c2-43a0-d216-d1a1d9ff526b"
      },
      "execution_count": 36,
      "outputs": [
        {
          "output_type": "stream",
          "name": "stdout",
          "text": [
            "Found 20000 files belonging to 2 classes.\n"
          ]
        }
      ]
    },
    {
      "cell_type": "markdown",
      "source": [
        "\n",
        "**Model Building with Image augmentation and dropout.**\n",
        "\n",
        "\n",
        "Defining a new convnet that includes image augmentation and dropout \n"
      ],
      "metadata": {
        "id": "xTH7zpTIhdfn"
      }
    },
    {
      "cell_type": "code",
      "source": [
        "from tensorflow import keras\n",
        "from tensorflow.keras import layers\n",
        "\n",
        "inputs = keras.Input(shape=(180, 180, 3))\n",
        "#x = data_augmentation(inputs)\n",
        "x = layers.Rescaling(1./255)(inputs)\n",
        "x = layers.Conv2D(filters=32, kernel_size=3, activation=\"relu\")(x)\n",
        "x = layers.MaxPooling2D(pool_size=2)(x)\n",
        "x = layers.Conv2D(filters=64, kernel_size=3, activation=\"relu\")(x)\n",
        "x = layers.MaxPooling2D(pool_size=2)(x)\n",
        "x = layers.Conv2D(filters=128, kernel_size=3, activation=\"relu\")(x)\n",
        "x = layers.MaxPooling2D(pool_size=2)(x)\n",
        "x = layers.Conv2D(filters=256, kernel_size=3, activation=\"relu\")(x)\n",
        "x = layers.MaxPooling2D(pool_size=2)(x)\n",
        "x = layers.Conv2D(filters=256, kernel_size=3, activation=\"relu\")(x)\n",
        "x = layers.Flatten()(x)\n",
        "#x = layers.Dropout(0.5)(x)\n",
        "outputs = layers.Dense(1, activation=\"sigmoid\")(x)\n",
        "model = keras.Model(inputs=inputs, outputs=outputs)\n",
        "\n",
        "model.compile(loss=\"binary_crossentropy\",\n",
        "              optimizer=\"rmsprop\",\n",
        "              metrics=[\"accuracy\"])"
      ],
      "metadata": {
        "id": "2H1VsmTIhcY7"
      },
      "execution_count": 37,
      "outputs": []
    },
    {
      "cell_type": "code",
      "source": [
        "callbacks = [\n",
        "    keras.callbacks.ModelCheckpoint(\n",
        "        filepath=\"convnet_from_scratch_test3.keras\",\n",
        "        save_best_only=True,\n",
        "        monitor=\"val_loss\")\n",
        "]\n",
        "\n",
        "history = model.fit(\n",
        "    train_dataset_3,\n",
        "    epochs=30,\n",
        "    validation_data=validation_dataset,\n",
        "    callbacks=callbacks)"
      ],
      "metadata": {
        "id": "_dDY78hRhtft",
        "colab": {
          "base_uri": "https://localhost:8080/"
        },
        "outputId": "cce903ca-b737-4e44-d863-a793090eddb3"
      },
      "execution_count": 38,
      "outputs": [
        {
          "output_type": "stream",
          "name": "stdout",
          "text": [
            "Epoch 1/30\n",
            "313/313 [==============================] - 18s 54ms/step - loss: 0.7001 - accuracy: 0.5650 - val_loss: 0.6598 - val_accuracy: 0.5830\n",
            "Epoch 2/30\n",
            "313/313 [==============================] - 17s 54ms/step - loss: 0.5930 - accuracy: 0.6912 - val_loss: 0.5523 - val_accuracy: 0.7320\n",
            "Epoch 3/30\n",
            "313/313 [==============================] - 17s 54ms/step - loss: 0.5103 - accuracy: 0.7570 - val_loss: 0.5086 - val_accuracy: 0.7550\n",
            "Epoch 4/30\n",
            "313/313 [==============================] - 17s 53ms/step - loss: 0.4430 - accuracy: 0.7970 - val_loss: 0.6518 - val_accuracy: 0.6890\n",
            "Epoch 5/30\n",
            "313/313 [==============================] - 17s 53ms/step - loss: 0.3944 - accuracy: 0.8260 - val_loss: 0.4123 - val_accuracy: 0.8270\n",
            "Epoch 6/30\n",
            "313/313 [==============================] - 17s 54ms/step - loss: 0.3286 - accuracy: 0.8601 - val_loss: 0.5802 - val_accuracy: 0.7570\n",
            "Epoch 7/30\n",
            "313/313 [==============================] - 17s 54ms/step - loss: 0.2738 - accuracy: 0.8840 - val_loss: 0.4119 - val_accuracy: 0.8330\n",
            "Epoch 8/30\n",
            "313/313 [==============================] - 17s 53ms/step - loss: 0.2200 - accuracy: 0.9096 - val_loss: 0.4286 - val_accuracy: 0.8450\n",
            "Epoch 9/30\n",
            "313/313 [==============================] - 17s 54ms/step - loss: 0.1714 - accuracy: 0.9310 - val_loss: 0.6780 - val_accuracy: 0.8080\n",
            "Epoch 10/30\n",
            "313/313 [==============================] - 17s 53ms/step - loss: 0.1324 - accuracy: 0.9467 - val_loss: 0.6046 - val_accuracy: 0.8130\n",
            "Epoch 11/30\n",
            "313/313 [==============================] - 17s 53ms/step - loss: 0.1076 - accuracy: 0.9587 - val_loss: 0.6345 - val_accuracy: 0.8280\n",
            "Epoch 12/30\n",
            "313/313 [==============================] - 17s 53ms/step - loss: 0.0961 - accuracy: 0.9632 - val_loss: 0.6642 - val_accuracy: 0.8070\n",
            "Epoch 13/30\n",
            "313/313 [==============================] - 17s 53ms/step - loss: 0.0854 - accuracy: 0.9698 - val_loss: 1.2204 - val_accuracy: 0.7830\n",
            "Epoch 14/30\n",
            "313/313 [==============================] - 17s 55ms/step - loss: 0.0789 - accuracy: 0.9715 - val_loss: 0.9599 - val_accuracy: 0.8100\n",
            "Epoch 15/30\n",
            "313/313 [==============================] - 17s 54ms/step - loss: 0.0686 - accuracy: 0.9784 - val_loss: 0.8419 - val_accuracy: 0.8250\n",
            "Epoch 16/30\n",
            "313/313 [==============================] - 17s 53ms/step - loss: 0.0659 - accuracy: 0.9797 - val_loss: 0.9539 - val_accuracy: 0.8230\n",
            "Epoch 17/30\n",
            "313/313 [==============================] - 17s 53ms/step - loss: 0.0648 - accuracy: 0.9782 - val_loss: 1.0141 - val_accuracy: 0.8380\n",
            "Epoch 18/30\n",
            "313/313 [==============================] - 17s 53ms/step - loss: 0.0722 - accuracy: 0.9786 - val_loss: 0.9767 - val_accuracy: 0.8240\n",
            "Epoch 19/30\n",
            "313/313 [==============================] - 17s 53ms/step - loss: 0.0643 - accuracy: 0.9808 - val_loss: 1.2517 - val_accuracy: 0.8240\n",
            "Epoch 20/30\n",
            "313/313 [==============================] - 17s 54ms/step - loss: 0.0613 - accuracy: 0.9823 - val_loss: 1.3823 - val_accuracy: 0.8190\n",
            "Epoch 21/30\n",
            "313/313 [==============================] - 17s 53ms/step - loss: 0.0543 - accuracy: 0.9839 - val_loss: 1.4187 - val_accuracy: 0.8080\n",
            "Epoch 22/30\n",
            "313/313 [==============================] - 17s 53ms/step - loss: 0.0761 - accuracy: 0.9803 - val_loss: 1.2342 - val_accuracy: 0.8290\n",
            "Epoch 23/30\n",
            "313/313 [==============================] - 17s 53ms/step - loss: 0.0760 - accuracy: 0.9805 - val_loss: 1.7613 - val_accuracy: 0.8250\n",
            "Epoch 24/30\n",
            "313/313 [==============================] - 17s 54ms/step - loss: 0.0626 - accuracy: 0.9854 - val_loss: 1.5835 - val_accuracy: 0.8350\n",
            "Epoch 25/30\n",
            "313/313 [==============================] - 17s 53ms/step - loss: 0.0667 - accuracy: 0.9829 - val_loss: 1.5787 - val_accuracy: 0.8240\n",
            "Epoch 26/30\n",
            "313/313 [==============================] - 17s 52ms/step - loss: 0.0591 - accuracy: 0.9851 - val_loss: 1.3893 - val_accuracy: 0.8340\n",
            "Epoch 27/30\n",
            "313/313 [==============================] - 17s 52ms/step - loss: 0.0609 - accuracy: 0.9858 - val_loss: 1.3654 - val_accuracy: 0.8540\n",
            "Epoch 28/30\n",
            "313/313 [==============================] - 17s 53ms/step - loss: 0.0615 - accuracy: 0.9852 - val_loss: 1.4166 - val_accuracy: 0.8240\n",
            "Epoch 29/30\n",
            "313/313 [==============================] - 17s 53ms/step - loss: 0.0621 - accuracy: 0.9857 - val_loss: 1.5543 - val_accuracy: 0.8430\n",
            "Epoch 30/30\n",
            "313/313 [==============================] - 17s 53ms/step - loss: 0.0722 - accuracy: 0.9853 - val_loss: 1.7044 - val_accuracy: 0.8170\n"
          ]
        }
      ]
    },
    {
      "cell_type": "code",
      "source": [
        "test_model = keras.models.load_model(\n",
        "    \"convnet_from_scratch_test3.keras\")\n",
        "test_loss, test_acc = test_model.evaluate(test_dataset)\n",
        "print(f\"Test accuracy: {test_acc:.3f}\")"
      ],
      "metadata": {
        "id": "ch39Vf_Phvu-",
        "colab": {
          "base_uri": "https://localhost:8080/"
        },
        "outputId": "d2d27148-4e73-4d4a-a5eb-dc8ef7d925d6"
      },
      "execution_count": 39,
      "outputs": [
        {
          "output_type": "stream",
          "name": "stdout",
          "text": [
            "32/32 [==============================] - 1s 35ms/step - loss: 0.3956 - accuracy: 0.8420\n",
            "Test accuracy: 0.842\n"
          ]
        }
      ]
    },
    {
      "cell_type": "code",
      "source": [
        "inputs = keras.Input(shape=(180, 180, 3))\n",
        "x = data_augmentation(inputs)\n",
        "x = layers.Rescaling(1./255)(inputs)\n",
        "x = layers.Conv2D(filters=32, kernel_size=3, activation=\"relu\")(x)\n",
        "x = layers.MaxPooling2D(pool_size=2)(x)\n",
        "x = layers.Conv2D(filters=64, kernel_size=3, activation=\"relu\")(x)\n",
        "x = layers.MaxPooling2D(pool_size=2)(x)\n",
        "x = layers.Conv2D(filters=128, kernel_size=3, activation=\"relu\")(x)\n",
        "x = layers.MaxPooling2D(pool_size=2)(x)\n",
        "x = layers.Conv2D(filters=256, kernel_size=3, activation=\"relu\")(x)\n",
        "x = layers.MaxPooling2D(pool_size=2)(x)\n",
        "x = layers.Conv2D(filters=256, kernel_size=3, activation=\"relu\")(x)\n",
        "x = layers.Flatten()(x)\n",
        "x = layers.Dropout(0.5)(x)\n",
        "outputs = layers.Dense(1, activation=\"sigmoid\")(x)\n",
        "model = keras.Model(inputs=inputs, outputs=outputs)\n",
        "\n",
        "model.compile(loss=\"binary_crossentropy\",\n",
        "              optimizer=\"rmsprop\",\n",
        "              metrics=[\"accuracy\"])"
      ],
      "metadata": {
        "id": "N3BkNuX6hxxf"
      },
      "execution_count": 40,
      "outputs": []
    },
    {
      "cell_type": "markdown",
      "source": [
        "Training the regularised convnet"
      ],
      "metadata": {
        "id": "iRAFkLPJgKla"
      }
    },
    {
      "cell_type": "code",
      "source": [
        "callbacks = [\n",
        "    keras.callbacks.ModelCheckpoint(\n",
        "        filepath=\"convnet_from_scratch2.keras\",\n",
        "        save_best_only=True,\n",
        "        monitor=\"val_loss\")\n",
        "]\n",
        "\n",
        "history = model.fit(\n",
        "    train_dataset2,\n",
        "    epochs=70,\n",
        "    validation_data=validation_dataset,\n",
        "    callbacks=callbacks)"
      ],
      "metadata": {
        "id": "yXQcNMMjhzmO",
        "colab": {
          "base_uri": "https://localhost:8080/"
        },
        "outputId": "cc5b3a78-24f3-42e7-af99-64944aada297"
      },
      "execution_count": 41,
      "outputs": [
        {
          "output_type": "stream",
          "name": "stdout",
          "text": [
            "Epoch 1/70\n",
            "625/625 [==============================] - 33s 51ms/step - loss: 0.6503 - accuracy: 0.6301 - val_loss: 0.5790 - val_accuracy: 0.7130\n",
            "Epoch 2/70\n",
            "625/625 [==============================] - 32s 51ms/step - loss: 0.4861 - accuracy: 0.7692 - val_loss: 0.4074 - val_accuracy: 0.8180\n",
            "Epoch 3/70\n",
            "625/625 [==============================] - 32s 50ms/step - loss: 0.3996 - accuracy: 0.8245 - val_loss: 0.3264 - val_accuracy: 0.8580\n",
            "Epoch 4/70\n",
            "625/625 [==============================] - 32s 50ms/step - loss: 0.3269 - accuracy: 0.8608 - val_loss: 0.2580 - val_accuracy: 0.8960\n",
            "Epoch 5/70\n",
            "625/625 [==============================] - 32s 50ms/step - loss: 0.2720 - accuracy: 0.8852 - val_loss: 0.2210 - val_accuracy: 0.9120\n",
            "Epoch 6/70\n",
            "625/625 [==============================] - 32s 50ms/step - loss: 0.2335 - accuracy: 0.9062 - val_loss: 0.2512 - val_accuracy: 0.8920\n",
            "Epoch 7/70\n",
            "625/625 [==============================] - 32s 51ms/step - loss: 0.2039 - accuracy: 0.9196 - val_loss: 0.2208 - val_accuracy: 0.9110\n",
            "Epoch 8/70\n",
            "625/625 [==============================] - 32s 50ms/step - loss: 0.1883 - accuracy: 0.9283 - val_loss: 0.2759 - val_accuracy: 0.9050\n",
            "Epoch 9/70\n",
            "625/625 [==============================] - 32s 51ms/step - loss: 0.1728 - accuracy: 0.9327 - val_loss: 0.2062 - val_accuracy: 0.9140\n",
            "Epoch 10/70\n",
            "625/625 [==============================] - 32s 50ms/step - loss: 0.1556 - accuracy: 0.9430 - val_loss: 0.2411 - val_accuracy: 0.9130\n",
            "Epoch 11/70\n",
            "625/625 [==============================] - 32s 51ms/step - loss: 0.1483 - accuracy: 0.9471 - val_loss: 0.2247 - val_accuracy: 0.9180\n",
            "Epoch 12/70\n",
            "625/625 [==============================] - 32s 50ms/step - loss: 0.1537 - accuracy: 0.9491 - val_loss: 0.2443 - val_accuracy: 0.9250\n",
            "Epoch 13/70\n",
            "625/625 [==============================] - 32s 50ms/step - loss: 0.1409 - accuracy: 0.9499 - val_loss: 0.2610 - val_accuracy: 0.9150\n",
            "Epoch 14/70\n",
            "625/625 [==============================] - 32s 50ms/step - loss: 0.1379 - accuracy: 0.9510 - val_loss: 0.2908 - val_accuracy: 0.9200\n",
            "Epoch 15/70\n",
            "625/625 [==============================] - 32s 51ms/step - loss: 0.1366 - accuracy: 0.9563 - val_loss: 0.3820 - val_accuracy: 0.8940\n",
            "Epoch 16/70\n",
            "625/625 [==============================] - 32s 50ms/step - loss: 0.1372 - accuracy: 0.9549 - val_loss: 0.3372 - val_accuracy: 0.9110\n",
            "Epoch 17/70\n",
            "625/625 [==============================] - 32s 51ms/step - loss: 0.1459 - accuracy: 0.9524 - val_loss: 0.5705 - val_accuracy: 0.9110\n",
            "Epoch 18/70\n",
            "625/625 [==============================] - 32s 50ms/step - loss: 0.1625 - accuracy: 0.9551 - val_loss: 0.3941 - val_accuracy: 0.9060\n",
            "Epoch 19/70\n",
            "625/625 [==============================] - 32s 51ms/step - loss: 0.1485 - accuracy: 0.9554 - val_loss: 0.6953 - val_accuracy: 0.8790\n",
            "Epoch 20/70\n",
            "625/625 [==============================] - 32s 50ms/step - loss: 0.1397 - accuracy: 0.9574 - val_loss: 0.3640 - val_accuracy: 0.9070\n",
            "Epoch 21/70\n",
            "625/625 [==============================] - 32s 50ms/step - loss: 0.1535 - accuracy: 0.9580 - val_loss: 0.5100 - val_accuracy: 0.8810\n",
            "Epoch 22/70\n",
            "625/625 [==============================] - 32s 50ms/step - loss: 0.1541 - accuracy: 0.9585 - val_loss: 0.3847 - val_accuracy: 0.9130\n",
            "Epoch 23/70\n",
            "625/625 [==============================] - 32s 51ms/step - loss: 0.1737 - accuracy: 0.9605 - val_loss: 0.4951 - val_accuracy: 0.8960\n",
            "Epoch 24/70\n",
            "625/625 [==============================] - 32s 51ms/step - loss: 0.1637 - accuracy: 0.9596 - val_loss: 0.5261 - val_accuracy: 0.9020\n",
            "Epoch 25/70\n",
            "625/625 [==============================] - 32s 51ms/step - loss: 0.1652 - accuracy: 0.9589 - val_loss: 0.6371 - val_accuracy: 0.9030\n",
            "Epoch 26/70\n",
            "625/625 [==============================] - 32s 50ms/step - loss: 0.1736 - accuracy: 0.9592 - val_loss: 0.5381 - val_accuracy: 0.9000\n",
            "Epoch 27/70\n",
            "625/625 [==============================] - 32s 51ms/step - loss: 0.1642 - accuracy: 0.9604 - val_loss: 0.6458 - val_accuracy: 0.9070\n",
            "Epoch 28/70\n",
            "625/625 [==============================] - 33s 53ms/step - loss: 0.1870 - accuracy: 0.9582 - val_loss: 0.5617 - val_accuracy: 0.9100\n",
            "Epoch 29/70\n",
            "625/625 [==============================] - 33s 52ms/step - loss: 0.1679 - accuracy: 0.9606 - val_loss: 0.3641 - val_accuracy: 0.9060\n",
            "Epoch 30/70\n",
            "625/625 [==============================] - 33s 52ms/step - loss: 0.1797 - accuracy: 0.9574 - val_loss: 0.5972 - val_accuracy: 0.8990\n",
            "Epoch 31/70\n",
            "625/625 [==============================] - 33s 52ms/step - loss: 0.1935 - accuracy: 0.9542 - val_loss: 0.4609 - val_accuracy: 0.8930\n",
            "Epoch 32/70\n",
            "625/625 [==============================] - 32s 51ms/step - loss: 0.2008 - accuracy: 0.9570 - val_loss: 0.6005 - val_accuracy: 0.9240\n",
            "Epoch 33/70\n",
            "625/625 [==============================] - 32s 51ms/step - loss: 0.1907 - accuracy: 0.9644 - val_loss: 0.9647 - val_accuracy: 0.9100\n",
            "Epoch 34/70\n",
            "625/625 [==============================] - 32s 51ms/step - loss: 0.1718 - accuracy: 0.9632 - val_loss: 0.9436 - val_accuracy: 0.9260\n",
            "Epoch 35/70\n",
            "625/625 [==============================] - 32s 51ms/step - loss: 0.1839 - accuracy: 0.9616 - val_loss: 0.6725 - val_accuracy: 0.8950\n",
            "Epoch 36/70\n",
            "625/625 [==============================] - 32s 51ms/step - loss: 0.1683 - accuracy: 0.9647 - val_loss: 0.5839 - val_accuracy: 0.9100\n",
            "Epoch 37/70\n",
            "625/625 [==============================] - 33s 52ms/step - loss: 0.1974 - accuracy: 0.9604 - val_loss: 0.7034 - val_accuracy: 0.9210\n",
            "Epoch 38/70\n",
            "625/625 [==============================] - 33s 52ms/step - loss: 0.1842 - accuracy: 0.9605 - val_loss: 1.5010 - val_accuracy: 0.8770\n",
            "Epoch 39/70\n",
            "625/625 [==============================] - 33s 52ms/step - loss: 0.1886 - accuracy: 0.9582 - val_loss: 0.7319 - val_accuracy: 0.9090\n",
            "Epoch 40/70\n",
            "625/625 [==============================] - 33s 52ms/step - loss: 0.1817 - accuracy: 0.9661 - val_loss: 0.9562 - val_accuracy: 0.9140\n",
            "Epoch 41/70\n",
            "625/625 [==============================] - 33s 52ms/step - loss: 0.1929 - accuracy: 0.9628 - val_loss: 0.6727 - val_accuracy: 0.8740\n",
            "Epoch 42/70\n",
            "625/625 [==============================] - 32s 52ms/step - loss: 0.1934 - accuracy: 0.9647 - val_loss: 0.6840 - val_accuracy: 0.8970\n",
            "Epoch 43/70\n",
            "625/625 [==============================] - 33s 52ms/step - loss: 0.2192 - accuracy: 0.9641 - val_loss: 1.0982 - val_accuracy: 0.9270\n",
            "Epoch 44/70\n",
            "625/625 [==============================] - 33s 52ms/step - loss: 0.1919 - accuracy: 0.9668 - val_loss: 0.6223 - val_accuracy: 0.9250\n",
            "Epoch 45/70\n",
            "625/625 [==============================] - 32s 51ms/step - loss: 0.2156 - accuracy: 0.9644 - val_loss: 0.7459 - val_accuracy: 0.9340\n",
            "Epoch 46/70\n",
            "625/625 [==============================] - 32s 51ms/step - loss: 0.2013 - accuracy: 0.9672 - val_loss: 0.5031 - val_accuracy: 0.9280\n",
            "Epoch 47/70\n",
            "625/625 [==============================] - 32s 51ms/step - loss: 0.2074 - accuracy: 0.9674 - val_loss: 1.5116 - val_accuracy: 0.9100\n",
            "Epoch 48/70\n",
            "625/625 [==============================] - 32s 51ms/step - loss: 0.1941 - accuracy: 0.9696 - val_loss: 1.1504 - val_accuracy: 0.9120\n",
            "Epoch 49/70\n",
            "625/625 [==============================] - 32s 52ms/step - loss: 0.2085 - accuracy: 0.9671 - val_loss: 0.7465 - val_accuracy: 0.9090\n",
            "Epoch 50/70\n",
            "625/625 [==============================] - 32s 51ms/step - loss: 0.2242 - accuracy: 0.9679 - val_loss: 0.6233 - val_accuracy: 0.8870\n",
            "Epoch 51/70\n",
            "625/625 [==============================] - 32s 51ms/step - loss: 0.2032 - accuracy: 0.9675 - val_loss: 1.2945 - val_accuracy: 0.9110\n",
            "Epoch 52/70\n",
            "625/625 [==============================] - 32s 51ms/step - loss: 0.2295 - accuracy: 0.9697 - val_loss: 2.0868 - val_accuracy: 0.9070\n",
            "Epoch 53/70\n",
            "625/625 [==============================] - 32s 51ms/step - loss: 0.2113 - accuracy: 0.9724 - val_loss: 0.6082 - val_accuracy: 0.9230\n",
            "Epoch 54/70\n",
            "625/625 [==============================] - 33s 52ms/step - loss: 0.2170 - accuracy: 0.9679 - val_loss: 2.9711 - val_accuracy: 0.8770\n",
            "Epoch 55/70\n",
            "625/625 [==============================] - 33s 52ms/step - loss: 0.2081 - accuracy: 0.9712 - val_loss: 2.0737 - val_accuracy: 0.9000\n",
            "Epoch 56/70\n",
            "625/625 [==============================] - 32s 51ms/step - loss: 0.2297 - accuracy: 0.9725 - val_loss: 0.9922 - val_accuracy: 0.9300\n",
            "Epoch 57/70\n",
            "625/625 [==============================] - 33s 52ms/step - loss: 0.2280 - accuracy: 0.9732 - val_loss: 2.6645 - val_accuracy: 0.9050\n",
            "Epoch 58/70\n",
            "625/625 [==============================] - 33s 52ms/step - loss: 0.2427 - accuracy: 0.9728 - val_loss: 1.1900 - val_accuracy: 0.9070\n",
            "Epoch 59/70\n",
            "625/625 [==============================] - 33s 53ms/step - loss: 0.2492 - accuracy: 0.9757 - val_loss: 1.1701 - val_accuracy: 0.9300\n",
            "Epoch 60/70\n",
            "625/625 [==============================] - 33s 52ms/step - loss: 0.2546 - accuracy: 0.9758 - val_loss: 1.3677 - val_accuracy: 0.8840\n",
            "Epoch 61/70\n",
            "625/625 [==============================] - 33s 52ms/step - loss: 0.2714 - accuracy: 0.9730 - val_loss: 1.1956 - val_accuracy: 0.9060\n",
            "Epoch 62/70\n",
            "625/625 [==============================] - 32s 51ms/step - loss: 0.2645 - accuracy: 0.9737 - val_loss: 1.8152 - val_accuracy: 0.9240\n",
            "Epoch 63/70\n",
            "625/625 [==============================] - 32s 51ms/step - loss: 0.2773 - accuracy: 0.9745 - val_loss: 1.7557 - val_accuracy: 0.9340\n",
            "Epoch 64/70\n",
            "625/625 [==============================] - 32s 52ms/step - loss: 0.2726 - accuracy: 0.9750 - val_loss: 1.6534 - val_accuracy: 0.9200\n",
            "Epoch 65/70\n",
            "625/625 [==============================] - 32s 52ms/step - loss: 0.2521 - accuracy: 0.9777 - val_loss: 2.4431 - val_accuracy: 0.9130\n",
            "Epoch 66/70\n",
            "625/625 [==============================] - 33s 52ms/step - loss: 0.2818 - accuracy: 0.9775 - val_loss: 2.5734 - val_accuracy: 0.9160\n",
            "Epoch 67/70\n",
            "625/625 [==============================] - 33s 52ms/step - loss: 0.2601 - accuracy: 0.9758 - val_loss: 1.6953 - val_accuracy: 0.9380\n",
            "Epoch 68/70\n",
            "625/625 [==============================] - 33s 52ms/step - loss: 0.2720 - accuracy: 0.9774 - val_loss: 2.1973 - val_accuracy: 0.9360\n",
            "Epoch 69/70\n",
            "625/625 [==============================] - 33s 52ms/step - loss: 0.3057 - accuracy: 0.9763 - val_loss: 1.2923 - val_accuracy: 0.9300\n",
            "Epoch 70/70\n",
            "625/625 [==============================] - 32s 51ms/step - loss: 0.2819 - accuracy: 0.9758 - val_loss: 0.8786 - val_accuracy: 0.9220\n"
          ]
        }
      ]
    },
    {
      "cell_type": "markdown",
      "source": [
        "Evaluating the test data"
      ],
      "metadata": {
        "id": "HDrWEMewgOm8"
      }
    },
    {
      "cell_type": "code",
      "source": [
        "test_model = keras.models.load_model(\n",
        "    \"convnet_from_scratch2.keras\")\n",
        "test_loss, test_acc = test_model.evaluate(test_dataset)\n",
        "print(f\"Test accuracy: {test_acc:.3f}\")"
      ],
      "metadata": {
        "id": "zAQeDuMph1mS",
        "colab": {
          "base_uri": "https://localhost:8080/"
        },
        "outputId": "35ca51b3-46b6-45f4-b2e0-6ce6de1d3d79"
      },
      "execution_count": 42,
      "outputs": [
        {
          "output_type": "stream",
          "name": "stdout",
          "text": [
            "32/32 [==============================] - 2s 35ms/step - loss: 0.2235 - accuracy: 0.9120\n",
            "Test accuracy: 0.912\n"
          ]
        }
      ]
    },
    {
      "cell_type": "markdown",
      "source": [
        "**Q4.Fine Tuning of the pretrained models**"
      ],
      "metadata": {
        "id": "GtYTHoQsh5Ka"
      }
    },
    {
      "cell_type": "markdown",
      "source": [
        "Using different training sample sizes, we will fine tune the pretrained model and evaluate its performance on the models we built earlier."
      ],
      "metadata": {
        "id": "8txZmVCogSYh"
      }
    },
    {
      "cell_type": "markdown",
      "source": [
        "**Pre-Trained Model - 1000 Training samples**\n",
        "\n",
        "Instantiating and freezing the VGG16 convolutional base"
      ],
      "metadata": {
        "id": "9SFo2WUtgXRs"
      }
    },
    {
      "cell_type": "code",
      "source": [
        "conv_base  = keras.applications.vgg16.VGG16(\n",
        "    weights=\"imagenet\",\n",
        "    include_top=False,\n",
        "    input_shape=(180, 180, 3))"
      ],
      "metadata": {
        "id": "vkWHtfuHh7aJ",
        "colab": {
          "base_uri": "https://localhost:8080/"
        },
        "outputId": "a14cdac1-d8aa-43c4-fffc-94b44e5d269a"
      },
      "execution_count": 43,
      "outputs": [
        {
          "output_type": "stream",
          "name": "stdout",
          "text": [
            "Downloading data from https://storage.googleapis.com/tensorflow/keras-applications/vgg16/vgg16_weights_tf_dim_ordering_tf_kernels_notop.h5\n",
            "58889256/58889256 [==============================] - 2s 0us/step\n"
          ]
        }
      ]
    },
    {
      "cell_type": "code",
      "source": [
        "conv_base.summary()"
      ],
      "metadata": {
        "id": "TyBNfRJUh4Xj",
        "colab": {
          "base_uri": "https://localhost:8080/"
        },
        "outputId": "2705c663-9eac-4e00-b99c-b53b5f2cd3e7"
      },
      "execution_count": 44,
      "outputs": [
        {
          "output_type": "stream",
          "name": "stdout",
          "text": [
            "Model: \"vgg16\"\n",
            "_________________________________________________________________\n",
            " Layer (type)                Output Shape              Param #   \n",
            "=================================================================\n",
            " input_8 (InputLayer)        [(None, 180, 180, 3)]     0         \n",
            "                                                                 \n",
            " block1_conv1 (Conv2D)       (None, 180, 180, 64)      1792      \n",
            "                                                                 \n",
            " block1_conv2 (Conv2D)       (None, 180, 180, 64)      36928     \n",
            "                                                                 \n",
            " block1_pool (MaxPooling2D)  (None, 90, 90, 64)        0         \n",
            "                                                                 \n",
            " block2_conv1 (Conv2D)       (None, 90, 90, 128)       73856     \n",
            "                                                                 \n",
            " block2_conv2 (Conv2D)       (None, 90, 90, 128)       147584    \n",
            "                                                                 \n",
            " block2_pool (MaxPooling2D)  (None, 45, 45, 128)       0         \n",
            "                                                                 \n",
            " block3_conv1 (Conv2D)       (None, 45, 45, 256)       295168    \n",
            "                                                                 \n",
            " block3_conv2 (Conv2D)       (None, 45, 45, 256)       590080    \n",
            "                                                                 \n",
            " block3_conv3 (Conv2D)       (None, 45, 45, 256)       590080    \n",
            "                                                                 \n",
            " block3_pool (MaxPooling2D)  (None, 22, 22, 256)       0         \n",
            "                                                                 \n",
            " block4_conv1 (Conv2D)       (None, 22, 22, 512)       1180160   \n",
            "                                                                 \n",
            " block4_conv2 (Conv2D)       (None, 22, 22, 512)       2359808   \n",
            "                                                                 \n",
            " block4_conv3 (Conv2D)       (None, 22, 22, 512)       2359808   \n",
            "                                                                 \n",
            " block4_pool (MaxPooling2D)  (None, 11, 11, 512)       0         \n",
            "                                                                 \n",
            " block5_conv1 (Conv2D)       (None, 11, 11, 512)       2359808   \n",
            "                                                                 \n",
            " block5_conv2 (Conv2D)       (None, 11, 11, 512)       2359808   \n",
            "                                                                 \n",
            " block5_conv3 (Conv2D)       (None, 11, 11, 512)       2359808   \n",
            "                                                                 \n",
            " block5_pool (MaxPooling2D)  (None, 5, 5, 512)         0         \n",
            "                                                                 \n",
            "=================================================================\n",
            "Total params: 14,714,688\n",
            "Trainable params: 14,714,688\n",
            "Non-trainable params: 0\n",
            "_________________________________________________________________\n"
          ]
        }
      ]
    },
    {
      "cell_type": "markdown",
      "source": [
        "Fine-tuning a pretrained model"
      ],
      "metadata": {
        "id": "su-L2WuGgpv4"
      }
    },
    {
      "cell_type": "code",
      "source": [
        "conv_base  = keras.applications.vgg16.VGG16(\n",
        "    weights=\"imagenet\",\n",
        "    include_top=False)"
      ],
      "metadata": {
        "id": "C9UANDrTiA92"
      },
      "execution_count": 45,
      "outputs": []
    },
    {
      "cell_type": "markdown",
      "source": [
        "Freezing all layers until the fourth from the last"
      ],
      "metadata": {
        "id": "-nN2Nj-0gt4z"
      }
    },
    {
      "cell_type": "code",
      "source": [
        "conv_base.trainable = True\n",
        "for layer in conv_base.layers[:-4]:\n",
        "    layer.trainable = False"
      ],
      "metadata": {
        "id": "5DYfLRGRiCcF"
      },
      "execution_count": 46,
      "outputs": []
    },
    {
      "cell_type": "markdown",
      "source": [
        "Adding a data augmentation stage and a classifier to the convolutional base"
      ],
      "metadata": {
        "id": "yq1SCxengwPx"
      }
    },
    {
      "cell_type": "code",
      "source": [
        "data_augmentation = keras.Sequential(\n",
        "    [\n",
        "        layers.RandomFlip(\"horizontal\"),\n",
        "        layers.RandomRotation(0.1),\n",
        "        layers.RandomZoom(0.2),\n",
        "    ]\n",
        ")\n",
        "\n",
        "inputs = keras.Input(shape=(180, 180, 3))\n",
        "x = data_augmentation(inputs)\n",
        "x = keras.applications.vgg16.preprocess_input(x)\n",
        "x = conv_base(x)\n",
        "x = layers.Flatten()(x)\n",
        "x = layers.Dense(256)(x)\n",
        "x = layers.Dropout(0.5)(x)\n",
        "outputs = layers.Dense(1, activation=\"sigmoid\")(x)\n",
        "model = keras.Model(inputs, outputs)\n",
        "model.compile(loss=\"binary_crossentropy\",\n",
        "              optimizer=keras.optimizers.RMSprop(learning_rate=1e-5),\n",
        "              metrics=[\"accuracy\"])"
      ],
      "metadata": {
        "id": "6L_NHQoIiEJs"
      },
      "execution_count": 47,
      "outputs": []
    },
    {
      "cell_type": "code",
      "source": [
        "callbacks = [\n",
        "    keras.callbacks.ModelCheckpoint(\n",
        "        filepath=\"fine_tuning.keras\",\n",
        "        save_best_only=True,\n",
        "        monitor=\"val_loss\")\n",
        "]\n",
        "history = model.fit(\n",
        "    train_dataset,\n",
        "    epochs=30,\n",
        "    validation_data=validation_dataset,\n",
        "    callbacks=callbacks)"
      ],
      "metadata": {
        "id": "ZPDBl6gmiH8e",
        "colab": {
          "base_uri": "https://localhost:8080/"
        },
        "outputId": "a8e6b110-463a-44d2-f002-ed73556e5839"
      },
      "execution_count": 48,
      "outputs": [
        {
          "output_type": "stream",
          "name": "stdout",
          "text": [
            "Epoch 1/30\n",
            "63/63 [==============================] - 20s 252ms/step - loss: 3.6912 - accuracy: 0.7480 - val_loss: 0.6826 - val_accuracy: 0.9110\n",
            "Epoch 2/30\n",
            "63/63 [==============================] - 14s 220ms/step - loss: 1.0445 - accuracy: 0.8520 - val_loss: 0.3729 - val_accuracy: 0.9370\n",
            "Epoch 3/30\n",
            "63/63 [==============================] - 14s 223ms/step - loss: 0.5899 - accuracy: 0.8955 - val_loss: 0.2699 - val_accuracy: 0.9460\n",
            "Epoch 4/30\n",
            "63/63 [==============================] - 14s 222ms/step - loss: 0.3428 - accuracy: 0.9290 - val_loss: 0.2331 - val_accuracy: 0.9560\n",
            "Epoch 5/30\n",
            "63/63 [==============================] - 14s 222ms/step - loss: 0.3107 - accuracy: 0.9265 - val_loss: 0.2170 - val_accuracy: 0.9600\n",
            "Epoch 6/30\n",
            "63/63 [==============================] - 14s 219ms/step - loss: 0.2564 - accuracy: 0.9340 - val_loss: 0.1662 - val_accuracy: 0.9600\n",
            "Epoch 7/30\n",
            "63/63 [==============================] - 14s 218ms/step - loss: 0.2076 - accuracy: 0.9370 - val_loss: 0.1652 - val_accuracy: 0.9610\n",
            "Epoch 8/30\n",
            "63/63 [==============================] - 14s 217ms/step - loss: 0.1805 - accuracy: 0.9510 - val_loss: 0.2886 - val_accuracy: 0.9570\n",
            "Epoch 9/30\n",
            "63/63 [==============================] - 14s 218ms/step - loss: 0.1463 - accuracy: 0.9600 - val_loss: 0.2009 - val_accuracy: 0.9680\n",
            "Epoch 10/30\n",
            "63/63 [==============================] - 14s 219ms/step - loss: 0.1203 - accuracy: 0.9670 - val_loss: 0.1872 - val_accuracy: 0.9670\n",
            "Epoch 11/30\n",
            "63/63 [==============================] - 14s 215ms/step - loss: 0.1416 - accuracy: 0.9585 - val_loss: 0.1765 - val_accuracy: 0.9630\n",
            "Epoch 12/30\n",
            "63/63 [==============================] - 14s 215ms/step - loss: 0.0908 - accuracy: 0.9685 - val_loss: 0.1936 - val_accuracy: 0.9670\n",
            "Epoch 13/30\n",
            "63/63 [==============================] - 14s 219ms/step - loss: 0.0868 - accuracy: 0.9745 - val_loss: 0.1996 - val_accuracy: 0.9690\n",
            "Epoch 14/30\n",
            "63/63 [==============================] - 14s 217ms/step - loss: 0.1023 - accuracy: 0.9745 - val_loss: 0.2233 - val_accuracy: 0.9680\n",
            "Epoch 15/30\n",
            "63/63 [==============================] - 14s 216ms/step - loss: 0.0575 - accuracy: 0.9780 - val_loss: 0.2495 - val_accuracy: 0.9670\n",
            "Epoch 16/30\n",
            "63/63 [==============================] - 14s 215ms/step - loss: 0.0616 - accuracy: 0.9785 - val_loss: 0.1985 - val_accuracy: 0.9730\n",
            "Epoch 17/30\n",
            "63/63 [==============================] - 14s 218ms/step - loss: 0.0814 - accuracy: 0.9805 - val_loss: 0.2211 - val_accuracy: 0.9760\n",
            "Epoch 18/30\n",
            "63/63 [==============================] - 14s 215ms/step - loss: 0.0686 - accuracy: 0.9800 - val_loss: 0.1795 - val_accuracy: 0.9740\n",
            "Epoch 19/30\n",
            "63/63 [==============================] - 14s 216ms/step - loss: 0.0498 - accuracy: 0.9820 - val_loss: 0.2089 - val_accuracy: 0.9730\n",
            "Epoch 20/30\n",
            "63/63 [==============================] - 14s 217ms/step - loss: 0.0541 - accuracy: 0.9855 - val_loss: 0.2211 - val_accuracy: 0.9720\n",
            "Epoch 21/30\n",
            "63/63 [==============================] - 14s 216ms/step - loss: 0.0513 - accuracy: 0.9865 - val_loss: 0.2080 - val_accuracy: 0.9730\n",
            "Epoch 22/30\n",
            "63/63 [==============================] - 14s 216ms/step - loss: 0.0426 - accuracy: 0.9875 - val_loss: 0.2214 - val_accuracy: 0.9720\n",
            "Epoch 23/30\n",
            "63/63 [==============================] - 14s 216ms/step - loss: 0.0404 - accuracy: 0.9875 - val_loss: 0.2528 - val_accuracy: 0.9710\n",
            "Epoch 24/30\n",
            "63/63 [==============================] - 14s 218ms/step - loss: 0.0211 - accuracy: 0.9930 - val_loss: 0.3033 - val_accuracy: 0.9750\n",
            "Epoch 25/30\n",
            "63/63 [==============================] - 14s 216ms/step - loss: 0.0324 - accuracy: 0.9905 - val_loss: 0.2750 - val_accuracy: 0.9750\n",
            "Epoch 26/30\n",
            "63/63 [==============================] - 14s 216ms/step - loss: 0.0255 - accuracy: 0.9930 - val_loss: 0.2494 - val_accuracy: 0.9780\n",
            "Epoch 27/30\n",
            "63/63 [==============================] - 14s 213ms/step - loss: 0.0265 - accuracy: 0.9920 - val_loss: 0.2222 - val_accuracy: 0.9760\n",
            "Epoch 28/30\n",
            "63/63 [==============================] - 14s 217ms/step - loss: 0.0165 - accuracy: 0.9955 - val_loss: 0.2813 - val_accuracy: 0.9810\n",
            "Epoch 29/30\n",
            "63/63 [==============================] - 14s 217ms/step - loss: 0.0287 - accuracy: 0.9920 - val_loss: 0.2318 - val_accuracy: 0.9770\n",
            "Epoch 30/30\n",
            "63/63 [==============================] - 14s 215ms/step - loss: 0.0214 - accuracy: 0.9930 - val_loss: 0.3294 - val_accuracy: 0.9740\n"
          ]
        }
      ]
    },
    {
      "cell_type": "code",
      "source": [
        "import matplotlib.pyplot as plt\n",
        "accuracy = history.history[\"accuracy\"]\n",
        "val_accuracy = history.history[\"val_accuracy\"]\n",
        "loss = history.history[\"loss\"]\n",
        "val_loss = history.history[\"val_loss\"]\n",
        "epochs = range(1, len(accuracy) + 1)\n",
        "plt.plot(epochs, accuracy, \"bo\", label=\"Training accuracy\")\n",
        "plt.plot(epochs, val_accuracy, \"b\", label=\"Validation accuracy\")\n",
        "plt.title(\"Training and validation accuracy\")\n",
        "plt.legend()\n",
        "plt.figure()\n",
        "plt.plot(epochs, loss, \"bo\", label=\"Training loss\")\n",
        "plt.plot(epochs, val_loss, \"b\", label=\"Validation loss\")\n",
        "plt.title(\"Training and validation loss\")\n",
        "plt.legend()\n",
        "plt.show()"
      ],
      "metadata": {
        "id": "acxxj1LYiJ4J",
        "colab": {
          "base_uri": "https://localhost:8080/",
          "height": 545
        },
        "outputId": "810f8876-e5e6-4950-dbaa-12b2238cbd60"
      },
      "execution_count": 49,
      "outputs": [
        {
          "output_type": "display_data",
          "data": {
            "text/plain": [
              "<Figure size 432x288 with 1 Axes>"
            ],
            "image/png": "[encoded data removed]"
          },
          "metadata": {
            "needs_background": "light"
          }
        },
        {
          "output_type": "display_data",
          "data": {
            "text/plain": [
              "<Figure size 432x288 with 1 Axes>"
            ],
            "image/png": "[encoded data removed]"
          },
          "metadata": {
            "needs_background": "light"
          }
        }
      ]
    },
    {
      "cell_type": "code",
      "source": [
        "model = keras.models.load_model(\"fine_tuning.keras\")\n",
        "test_loss, test_acc = model.evaluate(test_dataset)\n",
        "print(f\"Test accuracy: {test_acc:.3f}\")"
      ],
      "metadata": {
        "id": "Ti5vrMK2iMX5",
        "colab": {
          "base_uri": "https://localhost:8080/"
        },
        "outputId": "8b60e9eb-e130-473a-8078-b32934997997"
      },
      "execution_count": 50,
      "outputs": [
        {
          "output_type": "stream",
          "name": "stdout",
          "text": [
            "32/32 [==============================] - 4s 110ms/step - loss: 0.1391 - accuracy: 0.9680\n",
            "Test accuracy: 0.968\n"
          ]
        }
      ]
    },
    {
      "cell_type": "markdown",
      "source": [
        "**Pre-Trained Model - 5000 Training samples**\n",
        "\n",
        "Instantiating and freezing the VGG16 convolutional base"
      ],
      "metadata": {
        "id": "XKfeWihLg3jg"
      }
    },
    {
      "cell_type": "code",
      "source": [
        "conv_base  = keras.applications.vgg16.VGG16(\n",
        "    weights=\"imagenet\",\n",
        "    include_top=False,\n",
        "    input_shape=(180, 180, 3))"
      ],
      "metadata": {
        "id": "qaGhO6qNiOsF"
      },
      "execution_count": 51,
      "outputs": []
    },
    {
      "cell_type": "markdown",
      "source": [
        "Fine tuning the pretrained model and freezing the layers"
      ],
      "metadata": {
        "id": "BXHovE3Sg7he"
      }
    },
    {
      "cell_type": "code",
      "source": [
        "conv_base  = keras.applications.vgg16.VGG16(\n",
        "    weights=\"imagenet\",\n",
        "    include_top=False)\n",
        "\n",
        "conv_base.trainable = True\n",
        "for layer in conv_base.layers[:-4]:\n",
        "    layer.trainable = False"
      ],
      "metadata": {
        "id": "PY-pdO67iTmH"
      },
      "execution_count": 52,
      "outputs": []
    },
    {
      "cell_type": "markdown",
      "source": [
        "Adding a data augmentation stage and a classifier to the convolutional base"
      ],
      "metadata": {
        "id": "XZsc8M5Gg-gY"
      }
    },
    {
      "cell_type": "code",
      "source": [
        "data_augmentation = keras.Sequential(\n",
        "    [\n",
        "        layers.RandomFlip(\"horizontal\"),\n",
        "        layers.RandomRotation(0.1),\n",
        "        layers.RandomZoom(0.2),\n",
        "    ]\n",
        ")\n",
        "\n",
        "inputs = keras.Input(shape=(180, 180, 3))\n",
        "x = data_augmentation(inputs)\n",
        "x = keras.applications.vgg16.preprocess_input(x)\n",
        "x = conv_base(x)\n",
        "x = layers.Flatten()(x)\n",
        "x = layers.Dense(256)(x)\n",
        "x = layers.Dropout(0.5)(x)\n",
        "outputs = layers.Dense(1, activation=\"sigmoid\")(x)\n",
        "model = keras.Model(inputs, outputs)\n",
        "model.compile(loss=\"binary_crossentropy\",\n",
        "              optimizer=keras.optimizers.RMSprop(learning_rate=1e-5),\n",
        "              metrics=[\"accuracy\"])\n",
        "\n",
        "callbacks = [\n",
        "    keras.callbacks.ModelCheckpoint(\n",
        "        filepath=\"fine_tuning2.keras\",\n",
        "        save_best_only=True,\n",
        "        monitor=\"val_loss\")\n",
        "]\n",
        "history = model.fit(\n",
        "    train_dataset_3,\n",
        "    epochs=10,\n",
        "    validation_data=validation_dataset,\n",
        "    callbacks=callbacks)"
      ],
      "metadata": {
        "id": "giW_yCN9id2u",
        "colab": {
          "base_uri": "https://localhost:8080/"
        },
        "outputId": "e812d509-46ac-4114-95f5-5c14e6305d55"
      },
      "execution_count": 53,
      "outputs": [
        {
          "output_type": "stream",
          "name": "stdout",
          "text": [
            "Epoch 1/10\n",
            "313/313 [==============================] - 56s 172ms/step - loss: 1.3488 - accuracy: 0.8621 - val_loss: 0.1579 - val_accuracy: 0.9690\n",
            "Epoch 2/10\n",
            "313/313 [==============================] - 54s 170ms/step - loss: 0.2274 - accuracy: 0.9361 - val_loss: 0.1463 - val_accuracy: 0.9720\n",
            "Epoch 3/10\n",
            "313/313 [==============================] - 54s 172ms/step - loss: 0.1447 - accuracy: 0.9467 - val_loss: 0.1190 - val_accuracy: 0.9740\n",
            "Epoch 4/10\n",
            "313/313 [==============================] - 54s 171ms/step - loss: 0.1174 - accuracy: 0.9587 - val_loss: 0.1035 - val_accuracy: 0.9740\n",
            "Epoch 5/10\n",
            "313/313 [==============================] - 54s 171ms/step - loss: 0.1055 - accuracy: 0.9654 - val_loss: 0.1202 - val_accuracy: 0.9730\n",
            "Epoch 6/10\n",
            "313/313 [==============================] - 53s 170ms/step - loss: 0.0849 - accuracy: 0.9722 - val_loss: 0.1966 - val_accuracy: 0.9760\n",
            "Epoch 7/10\n",
            "313/313 [==============================] - 54s 170ms/step - loss: 0.0817 - accuracy: 0.9730 - val_loss: 0.1369 - val_accuracy: 0.9740\n",
            "Epoch 8/10\n",
            "313/313 [==============================] - 53s 169ms/step - loss: 0.0827 - accuracy: 0.9741 - val_loss: 0.1303 - val_accuracy: 0.9740\n",
            "Epoch 9/10\n",
            "313/313 [==============================] - 54s 170ms/step - loss: 0.0683 - accuracy: 0.9774 - val_loss: 0.1609 - val_accuracy: 0.9800\n",
            "Epoch 10/10\n",
            "313/313 [==============================] - 53s 170ms/step - loss: 0.0640 - accuracy: 0.9809 - val_loss: 0.1456 - val_accuracy: 0.9760\n"
          ]
        }
      ]
    },
    {
      "cell_type": "code",
      "source": [
        "model = keras.models.load_model(\"fine_tuning2.keras\")\n",
        "test_loss, test_acc = model.evaluate(test_dataset)\n",
        "print(f\"Test accuracy: {test_acc:.3f}\")"
      ],
      "metadata": {
        "id": "A1RNWUrzigjM",
        "colab": {
          "base_uri": "https://localhost:8080/"
        },
        "outputId": "44a125b7-8d98-442b-83ae-16f1ac1ff788"
      },
      "execution_count": 55,
      "outputs": [
        {
          "output_type": "stream",
          "name": "stdout",
          "text": [
            "32/32 [==============================] - 4s 109ms/step - loss: 0.0886 - accuracy: 0.9790\n",
            "Test accuracy: 0.979\n"
          ]
        }
      ]
    },
    {
      "cell_type": "markdown",
      "source": [
        "**Pre-Trained Model - 10000 samples**\n",
        "\n",
        "Instantiating and freezing the VGG16 convolutional base"
      ],
      "metadata": {
        "id": "7bfqP2WzhE7W"
      }
    },
    {
      "cell_type": "code",
      "source": [
        "conv_base  = keras.applications.vgg16.VGG16(\n",
        "    weights=\"imagenet\",\n",
        "    include_top=False,\n",
        "    input_shape=(180, 180, 3))"
      ],
      "metadata": {
        "id": "CbTU4qrEii7y"
      },
      "execution_count": 56,
      "outputs": []
    },
    {
      "cell_type": "markdown",
      "source": [
        "Fine tuning the pretrained model and freezing the layers"
      ],
      "metadata": {
        "id": "x7kIXyKthJmL"
      }
    },
    {
      "cell_type": "code",
      "source": [
        "conv_base  = keras.applications.vgg16.VGG16(\n",
        "    weights=\"imagenet\",\n",
        "    include_top=False)\n",
        "\n",
        "conv_base.trainable = True\n",
        "for layer in conv_base.layers[:-4]:\n",
        "    layer.trainable = False"
      ],
      "metadata": {
        "id": "AxK55Spcinfk"
      },
      "execution_count": 57,
      "outputs": []
    },
    {
      "cell_type": "markdown",
      "source": [
        "\n",
        "Adding a data augmentation stage and a classifier to the convolutional base"
      ],
      "metadata": {
        "id": "3sR2UHfuhMLR"
      }
    },
    {
      "cell_type": "code",
      "source": [
        "data_augmentation = keras.Sequential(\n",
        "    [\n",
        "        layers.RandomFlip(\"horizontal\"),\n",
        "        layers.RandomRotation(0.1),\n",
        "        layers.RandomZoom(0.2),\n",
        "    ]\n",
        ")\n",
        "\n",
        "inputs = keras.Input(shape=(180, 180, 3))\n",
        "x = data_augmentation(inputs)\n",
        "x = keras.applications.vgg16.preprocess_input(x)\n",
        "x = conv_base(x)\n",
        "x = layers.Flatten()(x)\n",
        "x = layers.Dense(256)(x)\n",
        "x = layers.Dropout(0.5)(x)\n",
        "outputs = layers.Dense(1, activation=\"sigmoid\")(x)\n",
        "model = keras.Model(inputs, outputs)\n",
        "model.compile(loss=\"binary_crossentropy\",\n",
        "              optimizer=keras.optimizers.RMSprop(learning_rate=1e-5),\n",
        "              metrics=[\"accuracy\"])\n",
        "\n",
        "callbacks = [\n",
        "    keras.callbacks.ModelCheckpoint(\n",
        "        filepath=\"fine_tuning3.keras\",\n",
        "        save_best_only=True,\n",
        "        monitor=\"val_loss\")\n",
        "]\n",
        "history = model.fit(\n",
        "    train_dataset2,\n",
        "    epochs=30,\n",
        "    validation_data=validation_dataset,\n",
        "    callbacks=callbacks)"
      ],
      "metadata": {
        "id": "NgayIK-OipTp",
        "colab": {
          "base_uri": "https://localhost:8080/"
        },
        "outputId": "b9d94b16-06f3-4436-98cd-06d0bf456b51"
      },
      "execution_count": 58,
      "outputs": [
        {
          "output_type": "stream",
          "name": "stdout",
          "text": [
            "Epoch 1/30\n",
            "625/625 [==============================] - 106s 166ms/step - loss: 0.7787 - accuracy: 0.8945 - val_loss: 0.1456 - val_accuracy: 0.9700\n",
            "Epoch 2/30\n",
            "625/625 [==============================] - 104s 165ms/step - loss: 0.1427 - accuracy: 0.9506 - val_loss: 0.1381 - val_accuracy: 0.9740\n",
            "Epoch 3/30\n",
            "625/625 [==============================] - 104s 165ms/step - loss: 0.1131 - accuracy: 0.9607 - val_loss: 0.1275 - val_accuracy: 0.9750\n",
            "Epoch 4/30\n",
            "625/625 [==============================] - 103s 165ms/step - loss: 0.0949 - accuracy: 0.9688 - val_loss: 0.1399 - val_accuracy: 0.9750\n",
            "Epoch 5/30\n",
            "625/625 [==============================] - 103s 164ms/step - loss: 0.0961 - accuracy: 0.9696 - val_loss: 0.1491 - val_accuracy: 0.9770\n",
            "Epoch 6/30\n",
            "625/625 [==============================] - 103s 164ms/step - loss: 0.0819 - accuracy: 0.9738 - val_loss: 0.1702 - val_accuracy: 0.9800\n",
            "Epoch 7/30\n",
            "625/625 [==============================] - 105s 167ms/step - loss: 0.0806 - accuracy: 0.9756 - val_loss: 0.1446 - val_accuracy: 0.9810\n",
            "Epoch 8/30\n",
            "625/625 [==============================] - 103s 164ms/step - loss: 0.0776 - accuracy: 0.9757 - val_loss: 0.1400 - val_accuracy: 0.9780\n",
            "Epoch 9/30\n",
            "625/625 [==============================] - 103s 164ms/step - loss: 0.0833 - accuracy: 0.9765 - val_loss: 0.1793 - val_accuracy: 0.9770\n",
            "Epoch 10/30\n",
            "625/625 [==============================] - 103s 164ms/step - loss: 0.0731 - accuracy: 0.9772 - val_loss: 0.1454 - val_accuracy: 0.9820\n",
            "Epoch 11/30\n",
            "625/625 [==============================] - 103s 164ms/step - loss: 0.0719 - accuracy: 0.9790 - val_loss: 0.2101 - val_accuracy: 0.9810\n",
            "Epoch 12/30\n",
            "625/625 [==============================] - 103s 164ms/step - loss: 0.0750 - accuracy: 0.9790 - val_loss: 0.1911 - val_accuracy: 0.9850\n",
            "Epoch 13/30\n",
            "625/625 [==============================] - 103s 165ms/step - loss: 0.0712 - accuracy: 0.9800 - val_loss: 0.1903 - val_accuracy: 0.9810\n",
            "Epoch 14/30\n",
            "625/625 [==============================] - 103s 164ms/step - loss: 0.0742 - accuracy: 0.9800 - val_loss: 0.1583 - val_accuracy: 0.9820\n",
            "Epoch 15/30\n",
            "625/625 [==============================] - 103s 164ms/step - loss: 0.0735 - accuracy: 0.9792 - val_loss: 0.2460 - val_accuracy: 0.9800\n",
            "Epoch 16/30\n",
            "625/625 [==============================] - 103s 165ms/step - loss: 0.0650 - accuracy: 0.9822 - val_loss: 0.2403 - val_accuracy: 0.9830\n",
            "Epoch 17/30\n",
            "625/625 [==============================] - 103s 164ms/step - loss: 0.0735 - accuracy: 0.9800 - val_loss: 0.1993 - val_accuracy: 0.9790\n",
            "Epoch 18/30\n",
            "625/625 [==============================] - 103s 165ms/step - loss: 0.0745 - accuracy: 0.9800 - val_loss: 0.1398 - val_accuracy: 0.9780\n",
            "Epoch 19/30\n",
            "625/625 [==============================] - 103s 164ms/step - loss: 0.0754 - accuracy: 0.9802 - val_loss: 0.3509 - val_accuracy: 0.9820\n",
            "Epoch 20/30\n",
            "625/625 [==============================] - 103s 165ms/step - loss: 0.0779 - accuracy: 0.9809 - val_loss: 0.3075 - val_accuracy: 0.9860\n",
            "Epoch 21/30\n",
            "625/625 [==============================] - 103s 164ms/step - loss: 0.0706 - accuracy: 0.9815 - val_loss: 0.4409 - val_accuracy: 0.9780\n",
            "Epoch 22/30\n",
            "625/625 [==============================] - 103s 165ms/step - loss: 0.0847 - accuracy: 0.9787 - val_loss: 0.3713 - val_accuracy: 0.9790\n",
            "Epoch 23/30\n",
            "625/625 [==============================] - 103s 164ms/step - loss: 0.0868 - accuracy: 0.9808 - val_loss: 0.4010 - val_accuracy: 0.9780\n",
            "Epoch 24/30\n",
            "625/625 [==============================] - 103s 164ms/step - loss: 0.0776 - accuracy: 0.9807 - val_loss: 0.5764 - val_accuracy: 0.9780\n",
            "Epoch 25/30\n",
            "625/625 [==============================] - 103s 165ms/step - loss: 0.0897 - accuracy: 0.9818 - val_loss: 0.3976 - val_accuracy: 0.9790\n",
            "Epoch 26/30\n",
            "625/625 [==============================] - 103s 164ms/step - loss: 0.0977 - accuracy: 0.9797 - val_loss: 0.2978 - val_accuracy: 0.9820\n",
            "Epoch 27/30\n",
            "625/625 [==============================] - 103s 165ms/step - loss: 0.0849 - accuracy: 0.9797 - val_loss: 0.3169 - val_accuracy: 0.9820\n",
            "Epoch 28/30\n",
            "625/625 [==============================] - 103s 164ms/step - loss: 0.0908 - accuracy: 0.9787 - val_loss: 0.3953 - val_accuracy: 0.9810\n",
            "Epoch 29/30\n",
            "625/625 [==============================] - 103s 165ms/step - loss: 0.0902 - accuracy: 0.9786 - val_loss: 0.3758 - val_accuracy: 0.9830\n",
            "Epoch 30/30\n",
            "625/625 [==============================] - 103s 165ms/step - loss: 0.0965 - accuracy: 0.9783 - val_loss: 0.4919 - val_accuracy: 0.9730\n"
          ]
        }
      ]
    },
    {
      "cell_type": "code",
      "source": [
        "import matplotlib.pyplot as plt\n",
        "accuracy = history.history[\"accuracy\"]\n",
        "val_accuracy = history.history[\"val_accuracy\"]\n",
        "loss = history.history[\"loss\"]\n",
        "val_loss = history.history[\"val_loss\"]\n",
        "epochs = range(1, len(accuracy) + 1)\n",
        "plt.plot(epochs, accuracy, \"bo\", label=\"Training accuracy\")\n",
        "plt.plot(epochs, val_accuracy, \"b\", label=\"Validation accuracy\")\n",
        "plt.title(\"Training and validation accuracy\")\n",
        "plt.legend()\n",
        "plt.figure()\n",
        "plt.plot(epochs, loss, \"bo\", label=\"Training loss\")\n",
        "plt.plot(epochs, val_loss, \"b\", label=\"Validation loss\")\n",
        "plt.title(\"Training and validation loss\")\n",
        "plt.legend()\n",
        "plt.show()"
      ],
      "metadata": {
        "id": "3vE4D-EdisHy",
        "colab": {
          "base_uri": "https://localhost:8080/",
          "height": 545
        },
        "outputId": "7b3ee677-26ac-4834-cb59-296121454965"
      },
      "execution_count": 59,
      "outputs": [
        {
          "output_type": "display_data",
          "data": {
            "text/plain": [
              "<Figure size 432x288 with 1 Axes>"
            ],
            "image/png": "[encoded data removed]"
          },
          "metadata": {
            "needs_background": "light"
          }
        },
        {
          "output_type": "display_data",
          "data": {
            "text/plain": [
              "<Figure size 432x288 with 1 Axes>"
            ],
            "image/png": "[encoded data removed]"
          },
          "metadata": {
            "needs_background": "light"
          }
        }
      ]
    },
    {
      "cell_type": "code",
      "source": [
        "\n",
        "model = keras.models.load_model(\"fine_tuning3.keras\")\n",
        "test_loss, test_acc = model.evaluate(test_dataset)\n",
        "print(f\"Test accuracy: {test_acc:.3f}\")"
      ],
      "metadata": {
        "id": "k2XxZaqTiuzS",
        "colab": {
          "base_uri": "https://localhost:8080/"
        },
        "outputId": "4d25e140-06fb-4cd5-8290-641240983006"
      },
      "execution_count": 61,
      "outputs": [
        {
          "output_type": "stream",
          "name": "stdout",
          "text": [
            "32/32 [==============================] - 4s 107ms/step - loss: 0.0827 - accuracy: 0.9790\n",
            "Test accuracy: 0.979\n"
          ]
        }
      ]
    },
    {
      "cell_type": "markdown",
      "source": [
        "**Summary:**\n",
        "\n",
        "**1.Consider the Cats & Dogs example. Start initially with a training sample of 1000, a validation sample of 500, and a test sample of 500 (like in the text). Use any technique to reduce overfitting and improve performance in developing a network that you train from scratch. What performance did you achieve?**\n",
        "\n",
        "![image.png](data:image/png;base64,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)\n",
        "\n",
        "![image.png](data:image/png;base64,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)\n",
        "\n",
        "\n",
        "**Observations:**\n",
        "\n",
        "•\tThe above plots are the representations of overfitting. Training accuracy increases linearly over time until it reaches nearly 100%, while validation accuracy reaches 70-72%.\n",
        "\n",
        "•\tWith only a few training samples, overfitting will be our main concern. Overfitting can be reduced by a variety of techniques, such as dropout, regularization and data augmentation.\n",
        "\n",
        "I have used three techniques to improve the performance of the model and evaluated all those three on test dataset on 100 epochs.\n",
        "\n",
        "a) Drop out Method\n",
        "\n",
        "b) Data Augmentation\n",
        "\n",
        "c) Data Augmentation and drop out method.\n",
        "\n",
        "\n",
        "![image.png](data:image/png;base64,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)\n",
        "\n",
        "\n",
        "**Observations:**\n",
        "\n",
        "•\tAccording to the performance metrics of the models using three performance improvement techniques combined with the unregularised model, from the values of the above table we can say that the model with both data augmentation and drop out technique performs well. \n",
        "\n",
        "•\tI have used this best performed technique i.e. data augmentation and drop out for the remaining training samples to regularize the model.\n"
      ],
      "metadata": {
        "id": "QYnKon7MjQ3R"
      }
    },
    {
      "cell_type": "markdown",
      "source": [
        "**2.Increase your training sample size. You may pick any amount. Keep the validation and test samples the same as above. Optimize your network (again training from scratch). What performance did you achieve?**\n",
        "\n",
        "•\tFor this model I have increased the training sample size to 5000.\n",
        "\n",
        "\n",
        "![image.png](data:image/png;base64,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)\n",
        "\n",
        "\n",
        "**Observations:**\n",
        "\n",
        "•\tFor regularized model it is observed that the loss: 0.3669 - accuracy: 0.848.\n",
        "\n",
        "•\tIn contrast to the unregularized model regularized model seems to have a bit higher accuracy.\n",
        "\n",
        "•\tIn comparison to the previous model the accuracy seems to be improved while the loss is slightly reduced.\n"
      ],
      "metadata": {
        "id": "JfJyw5Sz4CSV"
      }
    },
    {
      "cell_type": "markdown",
      "source": [
        "**3.Now change your training sample so that you achieve better performance than those from Steps1 and 2. This sample size may be larger, or smaller than those in the previous steps. The objective is to find the ideal training sample size to get best prediction results?**\n",
        "\n",
        "•\tFor this model,I have increased sample size to 10000.\n",
        "\n",
        "![image.png](data:image/png;base64,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)\n",
        "\n",
        "\n",
        "**Observations:**\n",
        "\n",
        "From the above table, \n",
        "\n",
        "•\tFor regularized model it is observed that the loss: 0.22 - accuracy: 0.912\n",
        "\n",
        "•\tIn comparison with the unregularized model, this model is better.\n",
        "\n",
        "Below is the chart that describes the comparison of test and validation accuracies for the different training samples size.\n",
        "\n",
        "![image.png](data:image/png;base64,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)\n",
        "\n",
        "\n",
        "**Observations:**\n",
        "\n",
        "•\tThere is a correlation between test loss and training sample size, which shows that test loss decreases over time and the test accuracy increases from 86% to 92.2%, which shows a better improvement over time.\n",
        "\n",
        "•\tTherefore, we can say that the performance of the model increases as the number of training samples increases.\n",
        "\n"
      ],
      "metadata": {
        "id": "HOsMq-3O6MIU"
      }
    },
    {
      "cell_type": "markdown",
      "source": [
        "**4.Repeat Steps 1-3, but now using a pretrained network. The sample sizes you use in Steps 2 and 3,for the pretrained network may be the same or different from those using the network where you trained from scratch. Again, use any and all optimization techniques to get best performance.**\n",
        "\n",
        "![image.png](data:image/png;base64,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)\n",
        "\n",
        "**Observations:**\n",
        "\n",
        "From the values of the above table, we can see that the testing and validation accuracy both tend to improve as the training sample size increases. When we consider test loss, we see a better improvement as the sample size increases.\n"
      ],
      "metadata": {
        "id": "Eu2Se_Z_7h88"
      }
    },
    {
      "cell_type": "markdown",
      "source": [
        "**Recommendations:**\n",
        "\n",
        "Machine learning models that use convolutional networks are the most effective for computer vision. \n",
        "\n",
        "The results can be decent even with a very small dataset when training one from scratch.\n",
        "\n",
        "The main problem with a small dataset is overfitting. When working with image data, data augmentation can be a powerful method of preventing overfitting.\n",
        "\n",
        "With increasing training sample size, model performance also increases.\n",
        "\n",
        "Even by fine-tuning the pre-trained model, we can enhance the performance of the model.\n",
        "\n"
      ],
      "metadata": {
        "id": "wCdcEe8z73Oj"
      }
    }
  ],
  "metadata": {
    "colab": {
      "collapsed_sections": [],
      "provenance": []
    },
    "kernelspec": {
      "display_name": "Python 3",
      "language": "python",
      "name": "python3"
    },
    "language_info": {
      "codemirror_mode": {
        "name": "ipython",
        "version": 3
      },
      "file_extension": ".py",
      "mimetype": "text/x-python",
      "name": "python",
      "nbconvert_exporter": "python",
      "pygments_lexer": "ipython3",
      "version": "3.7.0"
    },
    "accelerator": "GPU",
    "gpuClass": "standard"
  },
  "nbformat": 4,
  "nbformat_minor": 0
}